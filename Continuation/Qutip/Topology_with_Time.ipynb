{
 "cells": [
  {
   "cell_type": "markdown",
   "id": "3654a3d41dcb94d6",
   "metadata": {},
   "source": [
    "### They inner atoms, and the outer atoms are equally spaced"
   ]
  },
  {
   "cell_type": "code",
   "id": "7a8ccd8b-9d55-4c86-86c1-98886873e15c",
   "metadata": {
    "ExecuteTime": {
     "end_time": "2024-08-07T12:51:32.522439Z",
     "start_time": "2024-08-07T12:51:32.502069Z"
    }
   },
   "source": [
    "from qutip import *\n",
    "import numpy as np\n",
    "import os\n",
    "import matplotlib.pyplot as plt\n",
    "#from tqdm import tqdm\n",
    "#from scipy.optimize import minimize\n",
    "#import matplotlib.animation as animation\n",
    "#from functools import partial"
   ],
   "outputs": [],
   "execution_count": 34
  },
  {
   "cell_type": "code",
   "id": "a1fc4153198833a0",
   "metadata": {
    "ExecuteTime": {
     "end_time": "2024-08-07T12:51:32.706312Z",
     "start_time": "2024-08-07T12:51:32.692077Z"
    }
   },
   "source": [
    "save_path = r'C:\\Users\\leopo\\OneDrive - UT Cloud\\Uni\\Semester_8\\BA_mit_Git\\BA_Plots\\Qutip'\n",
    "os.makedirs(os.path.dirname(save_path), exist_ok=True)"
   ],
   "outputs": [],
   "execution_count": 35
  },
  {
   "cell_type": "code",
   "id": "a28616f1726e4513",
   "metadata": {
    "ExecuteTime": {
     "end_time": "2024-08-07T12:51:33.165078Z",
     "start_time": "2024-08-07T12:51:33.154463Z"
    }
   },
   "source": [
    "fixed_lam = 1\n",
    "fixed_gamma = 1\n",
    "\n",
    "fixed_dist_ext = 0.235  * fixed_lam\n",
    "fixed_dist_in  =  fixed_dist_ext\n",
    "########################################                 Define constants                   #############################################\n",
    "N = 3 + 3 * 3"
   ],
   "outputs": [],
   "execution_count": 36
  },
  {
   "metadata": {
    "ExecuteTime": {
     "end_time": "2024-08-07T12:51:33.508704Z",
     "start_time": "2024-08-07T12:51:33.453880Z"
    }
   },
   "cell_type": "code",
   "source": [
    "########################################               define the geometry                 #############################################\n",
    "def phi(t, tau):\n",
    "    pi_start = np.pi\n",
    "    pi_end = np.pi / 3\n",
    "    \n",
    "    # Define the transition intervals\n",
    "    t1 = t_max / 10\n",
    "    t2 = t1 + tau\n",
    "    \n",
    "    if t <= t1:\n",
    "        return pi_start\n",
    "    elif t >= t2:\n",
    "        return pi_end\n",
    "    else:\n",
    "        # Normalize time to the range [0, pi] for the transition\n",
    "        normalized_time = ((t - t1) / (t2 - t1)) * np.pi\n",
    "        \n",
    "        # Apply sin^2 transition\n",
    "        sin_squared = np.sin(normalized_time / 2)**2\n",
    "        \n",
    "        return pi_start + (pi_end - pi_start) * sin_squared\n",
    "\n",
    "def dipole_vector(t, tau):\n",
    "    \"\"\"Returns the dipole vector given its orientation by angle phi.\"\"\"\n",
    "    dipole = np.array([np.pi/2 + np.cos(phi(t, tau)), np.pi/2 + np.sin(phi(t, tau)), 0])\n",
    "    return dipole\n",
    "\n",
    "def z_rotation(angle):\n",
    "    return np.array([\n",
    "        [np.cos(angle), -np.sin(angle), 0],\n",
    "        [np.sin(angle), np.cos(angle), 0],\n",
    "        [0, 0, 1]])\n",
    "\n",
    "def chain_positions(distance, N):\n",
    "    Pos = np.zeros((N, 3))\n",
    "    for i in range(N):\n",
    "        Pos[i, 0] = i * distance\n",
    "    return Pos\n",
    "\n",
    "def topo_positions(distance_in = fixed_dist_in, distance_ext = fixed_dist_ext, N = N):\n",
    "    Pos = np.zeros((N, 3))\n",
    "    r = distance_in / np.sqrt(3)\n",
    "    Chain = chain_positions(distance_ext, N // 3) + [r, 0, 0]\n",
    "    Pos[:N//3] = np.dot(Chain, z_rotation(np.pi).T)\n",
    "    Pos = Pos[Pos[:, 0].argsort()]\n",
    "    Pos[N//3:2*N//3] = np.dot(Chain, z_rotation(2 * np.pi / 6).T)\n",
    "    Pos[2*N//3:] = np.dot(Chain, z_rotation(-2 * np.pi / 6).T)\n",
    "    return Pos"
   ],
   "id": "2dd6d0793caca24e",
   "outputs": [],
   "execution_count": 37
  },
  {
   "metadata": {
    "ExecuteTime": {
     "end_time": "2024-08-07T12:51:34.140387Z",
     "start_time": "2024-08-07T12:51:34.112189Z"
    }
   },
   "cell_type": "code",
   "source": [
    "########################################             create the Hamiltonean                 #################################################\n",
    "def Green_tensor(r_a, r_b, k_a):\n",
    "    r_ab = r_b - r_a\n",
    "    abs_r_ab = np.linalg.norm(r_ab)\n",
    "    kappa = k_a * abs_r_ab\n",
    "    return (np.exp(1j * kappa) / (4 * np.pi * kappa ** 2 * abs_r_ab)\n",
    "                    * ((kappa ** 2 + 1j * kappa - 1) * np.eye(3)\n",
    "                       + (- kappa ** 2 - 3 * 1j * kappa + 3)\n",
    "                       * np.outer(r_ab, r_ab) / (abs_r_ab ** 2)))\n",
    "\n",
    "def Gamma_matrix(distance_in, distance_ext, dipoles, lam, gamma):\n",
    "    positions = topo_positions(distance_in, distance_ext)\n",
    "    G_matrix = np.zeros((N, N), dtype=complex)\n",
    "    for a in range(N):\n",
    "        for b in range(N):\n",
    "            G_matrix[a, b] = gamma\n",
    "            r_a, r_b = positions[a], positions[b]\n",
    "            if np.linalg.norm(r_b - r_a) > 1e-5:\n",
    "                d_a, d_b = dipoles[a], dipoles[b]\n",
    "                k_a = 2 * np.pi / lam\n",
    "                G_matrix[a, b] = np.imag((6 * np.pi * gamma / k_a * np.matmul(np.conj(d_a), np.matmul(Green_tensor(r_a, r_b, k_a), d_b.T))))\n",
    "    return G_matrix\n",
    "\n",
    "def V_matrix(distance_in, distance_ext, dipoles, lam, gamma):\n",
    "    positions = topo_positions(distance_in, distance_ext)\n",
    "    V_matrix = np.zeros((N, N), dtype=complex)\n",
    "    for a in range(N):\n",
    "        for b in range(N):\n",
    "            r_a, r_b = positions[a], positions[b]\n",
    "            V_matrix[a, b] = 0\n",
    "            if np.linalg.norm(r_b - r_a) > 1e-5:\n",
    "                d_a, d_b = dipoles[a], dipoles[b]\n",
    "                k_a = 2 * np.pi / lam\n",
    "                V_matrix[a, b] = np.real((3 * np.pi * gamma / k_a * np.matmul(np.conj(d_a), np.matmul(Green_tensor(r_a, r_b, k_a), d_b.T))))\n",
    "    return V_matrix\n",
    "    \n",
    "def H_eff(distance_in = fixed_dist_in, distance_ext = fixed_dist_ext, t=0, tau=0, lam=fixed_lam, gamma=fixed_gamma):\n",
    "    dipoles = [dipole_vector(t, tau) for _ in range(N)]\n",
    "    G = Gamma_matrix(distance_in, distance_ext, dipoles, lam, gamma)\n",
    "    V = V_matrix(distance_in, distance_ext, dipoles, lam, gamma)\n",
    "    return Qobj(V) - 1j / 2 * Qobj(G)"
   ],
   "id": "e1216d4f99408af9",
   "outputs": [],
   "execution_count": 38
  },
  {
   "metadata": {
    "ExecuteTime": {
     "end_time": "2024-08-07T12:51:34.645330Z",
     "start_time": "2024-08-07T12:51:34.634842Z"
    }
   },
   "cell_type": "code",
   "source": [
    "################ initiate Wave-packet\n",
    "k_s = np.pi / fixed_dist_in\n",
    "sigma = 0.1 * k_s\n",
    "\n",
    "def create_wave_packet(N):\n",
    "    center_index = N // 6\n",
    "    x_j = (np.arange(N//3) - center_index) * fixed_dist_ext\n",
    "    coefficients = np.sqrt(sigma / np.sqrt(2 * np.pi)) * np.exp(-1j * k_s * x_j) * np.exp(-sigma**2 * x_j**2)\n",
    "    wave_packet = sum(coeff * basis(N, j) for j, coeff in enumerate(coefficients))\n",
    "    return wave_packet.unit()"
   ],
   "id": "12d5ee3df02e9511",
   "outputs": [],
   "execution_count": 39
  },
  {
   "metadata": {
    "jupyter": {
     "is_executing": true
    },
    "ExecuteTime": {
     "start_time": "2024-08-07T12:58:12.292510Z"
    }
   },
   "cell_type": "code",
   "source": [
    "t_max    = 100\n",
    "t_size   = 100\n",
    "########################################################################################################################    \n",
    "times  = np.linspace(0, t_max, t_size) * fixed_gamma\n",
    "# Define the arguments for the Hamiltonian\n",
    "tau = 0.01 * t_max\n",
    "args = {'tau': tau}\n",
    "\n",
    "# Define solver options with increased nsteps\n",
    "opts = Options(nsteps=10000)\n",
    "\n",
    "# Solve the time evolution\n",
    "result = mesolve(H_eff, create_wave_packet(N), times, [], [], args=args, options=opts)\n",
    "\n",
    "# Extract and plot the results\n",
    "populations = [expect(basis(N, i).proj(), result.states) for i in range(N)]\n",
    "\n",
    "# Plot the time evolution of atom state probabilities as a heatmap\n",
    "plt.figure(figsize=(10, 6))\n",
    "plt.imshow(populations, aspect='auto', origin='lower', cmap='viridis', extent=[0, times[-1], 0, N-1])\n",
    "plt.colorbar(label='Probability')\n",
    "plt.xlabel('Time')\n",
    "plt.ylabel('Atom index')\n",
    "plt.title('Time evolution of atom state probabilities')\n",
    "plt.show()"
   ],
   "id": "6492718576621e8d",
   "outputs": [
    {
     "name": "stderr",
     "output_type": "stream",
     "text": [
      "C:\\Users\\leopo\\anaconda3\\Lib\\site-packages\\qutip\\solver\\options.py:16: FutureWarning: Dedicated options class are no longer needed, options should be passed as dict to solvers.\n",
      "  warnings.warn(\n"
     ]
    }
   ],
   "execution_count": null
  },
  {
   "metadata": {},
   "cell_type": "markdown",
   "source": "",
   "id": "b66f1161f36e23d3"
  }
 ],
 "metadata": {
  "kernelspec": {
   "display_name": "Python 3 (ipykernel)",
   "language": "python",
   "name": "python3"
  },
  "language_info": {
   "codemirror_mode": {
    "name": "ipython",
    "version": 3
   },
   "file_extension": ".py",
   "mimetype": "text/x-python",
   "name": "python",
   "nbconvert_exporter": "python",
   "pygments_lexer": "ipython3",
   "version": "3.8.18"
  }
 },
 "nbformat": 4,
 "nbformat_minor": 5
}
