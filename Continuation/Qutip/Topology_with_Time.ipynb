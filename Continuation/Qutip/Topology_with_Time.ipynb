{
 "cells": [
  {
   "cell_type": "markdown",
   "id": "3654a3d41dcb94d6",
   "metadata": {},
   "source": [
    "### They inner atoms, and the outer atoms are equally spaced"
   ]
  },
  {
   "cell_type": "code",
   "id": "7a8ccd8b-9d55-4c86-86c1-98886873e15c",
   "metadata": {
    "ExecuteTime": {
     "end_time": "2024-08-07T13:16:51.158179Z",
     "start_time": "2024-08-07T13:16:51.145574Z"
    }
   },
   "source": [
    "from qutip import *\n",
    "import numpy as np\n",
    "import os\n",
    "import matplotlib.pyplot as plt\n",
    "#from tqdm import tqdm\n",
    "#from scipy.optimize import minimize\n",
    "#import matplotlib.animation as animation\n",
    "#from functools import partial"
   ],
   "outputs": [],
   "execution_count": 47
  },
  {
   "cell_type": "code",
   "id": "a1fc4153198833a0",
   "metadata": {
    "ExecuteTime": {
     "end_time": "2024-08-07T13:16:51.643907Z",
     "start_time": "2024-08-07T13:16:51.624017Z"
    }
   },
   "source": [
    "save_path = r'C:\\Users\\leopo\\OneDrive - UT Cloud\\Uni\\Semester_8\\BA_mit_Git\\BA_Plots\\Qutip'\n",
    "os.makedirs(os.path.dirname(save_path), exist_ok=True)"
   ],
   "outputs": [],
   "execution_count": 48
  },
  {
   "cell_type": "code",
   "id": "a28616f1726e4513",
   "metadata": {
    "ExecuteTime": {
     "end_time": "2024-08-07T13:20:16.692118Z",
     "start_time": "2024-08-07T13:20:16.678017Z"
    }
   },
   "source": [
    "fixed_lam = 1\n",
    "fixed_gamma = 1\n",
    "\n",
    "fixed_dist_ext = 0.235  * fixed_lam\n",
    "fixed_dist_in  =  fixed_dist_ext\n",
    "########################################                 Define constants                   #############################################\n",
    "N = 3 + 3 * 1\n",
    "\n",
    "t_max    = 100\n",
    "t_size   = 2\n",
    "times  = np.linspace(0, t_max, t_size) * fixed_gamma"
   ],
   "outputs": [],
   "execution_count": 54
  },
  {
   "metadata": {
    "ExecuteTime": {
     "end_time": "2024-08-07T13:20:16.842964Z",
     "start_time": "2024-08-07T13:20:16.807577Z"
    }
   },
   "cell_type": "code",
   "source": [
    "########################################               define the geometry                 #############################################\n",
    "def phi(t, tau):\n",
    "    pi_start = np.pi\n",
    "    pi_end = np.pi / 3\n",
    "    \n",
    "    # Define the transition intervals\n",
    "    t1 = t_max / 10\n",
    "    t2 = t1 + tau\n",
    "    \n",
    "    if t <= t1:\n",
    "        return pi_start\n",
    "    elif t >= t2:\n",
    "        return pi_end\n",
    "    else:\n",
    "        # Normalize time to the range [0, pi] for the transition\n",
    "        normalized_time = ((t - t1) / (t2 - t1)) * np.pi\n",
    "        \n",
    "        # Apply sin^2 transition\n",
    "        sin_squared = np.sin(normalized_time / 2)**2\n",
    "        \n",
    "        return pi_start + (pi_end - pi_start) * sin_squared\n",
    "\n",
    "def dipole_vector(t, tau):\n",
    "    \"\"\"Returns the dipole vector given its orientation by angle phi.\"\"\"\n",
    "    dipole = np.array([np.pi/2 + np.cos(phi(t, tau)), np.pi/2 + np.sin(phi(t, tau)), 0])\n",
    "    return dipole\n",
    "\n",
    "def z_rotation(angle):\n",
    "    return np.array([\n",
    "        [np.cos(angle), -np.sin(angle), 0],\n",
    "        [np.sin(angle), np.cos(angle), 0],\n",
    "        [0, 0, 1]])\n",
    "\n",
    "def chain_positions(distance, N):\n",
    "    Pos = np.zeros((N, 3))\n",
    "    for i in range(N):\n",
    "        Pos[i, 0] = i * distance\n",
    "    return Pos\n",
    "\n",
    "def topo_positions(distance_in = fixed_dist_in, distance_ext = fixed_dist_ext, N = N):\n",
    "    Pos = np.zeros((N, 3))\n",
    "    r = distance_in / np.sqrt(3)\n",
    "    Chain = chain_positions(distance_ext, N // 3) + [r, 0, 0]\n",
    "    Pos[:N//3] = np.dot(Chain, z_rotation(np.pi).T)\n",
    "    Pos = Pos[Pos[:, 0].argsort()]\n",
    "    Pos[N//3:2*N//3] = np.dot(Chain, z_rotation(2 * np.pi / 6).T)\n",
    "    Pos[2*N//3:] = np.dot(Chain, z_rotation(-2 * np.pi / 6).T)\n",
    "    return Pos"
   ],
   "id": "2dd6d0793caca24e",
   "outputs": [],
   "execution_count": 55
  },
  {
   "metadata": {
    "ExecuteTime": {
     "end_time": "2024-08-07T13:20:17.284200Z",
     "start_time": "2024-08-07T13:20:17.253422Z"
    }
   },
   "cell_type": "code",
   "source": [
    "########################################             create the Hamiltonean                 #################################################\n",
    "def Green_tensor(r_a, r_b, k_a):\n",
    "    r_ab = r_b - r_a\n",
    "    abs_r_ab = np.linalg.norm(r_ab)\n",
    "    kappa = k_a * abs_r_ab\n",
    "    return (np.exp(1j * kappa) / (4 * np.pi * kappa ** 2 * abs_r_ab)\n",
    "                    * ((kappa ** 2 + 1j * kappa - 1) * np.eye(3)\n",
    "                       + (- kappa ** 2 - 3 * 1j * kappa + 3)\n",
    "                       * np.outer(r_ab, r_ab) / (abs_r_ab ** 2)))\n",
    "\n",
    "def Gamma_matrix(distance_in, distance_ext, dipoles, lam, gamma):\n",
    "    positions = topo_positions(distance_in, distance_ext)\n",
    "    G_matrix = np.zeros((N, N), dtype=complex)\n",
    "    for a in range(N):\n",
    "        for b in range(N):\n",
    "            G_matrix[a, b] = gamma\n",
    "            r_a, r_b = positions[a], positions[b]\n",
    "            if np.linalg.norm(r_b - r_a) > 1e-5:\n",
    "                d_a, d_b = dipoles[a], dipoles[b]\n",
    "                k_a = 2 * np.pi / lam\n",
    "                G_matrix[a, b] = np.imag((6 * np.pi * gamma / k_a * np.matmul(np.conj(d_a), np.matmul(Green_tensor(r_a, r_b, k_a), d_b.T))))\n",
    "    return G_matrix\n",
    "\n",
    "def V_matrix(distance_in, distance_ext, dipoles, lam, gamma):\n",
    "    positions = topo_positions(distance_in, distance_ext)\n",
    "    V_matrix = np.zeros((N, N), dtype=complex)\n",
    "    for a in range(N):\n",
    "        for b in range(N):\n",
    "            r_a, r_b = positions[a], positions[b]\n",
    "            V_matrix[a, b] = 0\n",
    "            if np.linalg.norm(r_b - r_a) > 1e-5:\n",
    "                d_a, d_b = dipoles[a], dipoles[b]\n",
    "                k_a = 2 * np.pi / lam\n",
    "                V_matrix[a, b] = np.real((3 * np.pi * gamma / k_a * np.matmul(np.conj(d_a), np.matmul(Green_tensor(r_a, r_b, k_a), d_b.T))))\n",
    "    return V_matrix\n",
    "    \n",
    "def H_eff(t =0, distance_in = fixed_dist_in, distance_ext = fixed_dist_ext,  tau=0, lam=fixed_lam, gamma=fixed_gamma):\n",
    "    dipoles = [dipole_vector(t, tau) for _ in range(N)]\n",
    "    G = Gamma_matrix(distance_in, distance_ext, dipoles, lam, gamma)\n",
    "    V = V_matrix(distance_in, distance_ext, dipoles, lam, gamma)\n",
    "    return Qobj(V) - 1j / 2 * Qobj(G)"
   ],
   "id": "e1216d4f99408af9",
   "outputs": [],
   "execution_count": 56
  },
  {
   "metadata": {
    "ExecuteTime": {
     "end_time": "2024-08-07T13:20:17.660632Z",
     "start_time": "2024-08-07T13:20:17.636878Z"
    }
   },
   "cell_type": "code",
   "source": [
    "################ initiate Wave-packet\n",
    "k_s = np.pi / fixed_dist_in\n",
    "sigma = 0.1 * k_s\n",
    "\n",
    "def create_wave_packet(N):\n",
    "    center_index = N // 6\n",
    "    x_j = (np.arange(N//3) - center_index) * fixed_dist_ext\n",
    "    coefficients = np.sqrt(sigma / np.sqrt(2 * np.pi)) * np.exp(-1j * k_s * x_j) * np.exp(-sigma**2 * x_j**2)\n",
    "    wave_packet = sum(coeff * basis(N, j) for j, coeff in enumerate(coefficients))\n",
    "    return wave_packet.unit()"
   ],
   "id": "12d5ee3df02e9511",
   "outputs": [],
   "execution_count": 57
  },
  {
   "metadata": {
    "ExecuteTime": {
     "end_time": "2024-08-07T13:32:03.509407Z",
     "start_time": "2024-08-07T13:32:03.454740Z"
    }
   },
   "cell_type": "code",
   "source": [
    "tau = 0.01 * t_max\n",
    "args = {'tau': tau}\n",
    "\n",
    "H_t = []\n",
    "for t in times:\n",
    "    time_sub_list = []\n",
    "    print(\"The time is :\", t)\n",
    "    time_sub_list.append(H_eff(t))\n",
    "    time_sub_list.append(t)\n",
    "\n",
    "\n",
    "    H_t.append(H_eff(t))\n",
    "print(H_t)\n"
   ],
   "id": "11383eaaad089de",
   "outputs": [
    {
     "name": "stdout",
     "output_type": "stream",
     "text": [
      "The time is : 0.0\n",
      "The time is : 100.0\n",
      "[Quantum object: dims=[[6], [6]], shape=(6, 6), type='oper', dtype=Dense, isherm=False\n",
      "Qobj data =\n",
      "[[ 0.        -0.5j        -0.54373436-0.88535324j -0.47250274-0.13665346j\n",
      "  -0.22608219+0.12481347j -0.68583892+0.05856144j -0.20668813+0.44291419j]\n",
      " [-0.54373436-0.88535324j  0.        -0.5j         0.82772122-1.00739579j\n",
      "  -0.14518616-0.43616699j -0.79576679-0.86292548j -0.57185852-0.0457372j ]\n",
      " [-0.47250274-0.13665346j  0.82772122-1.00739579j  0.        -0.5j\n",
      "   1.94714438-1.10701058j  1.69511195-1.08458282j -0.24454193-0.34525074j]\n",
      " [-0.22608219+0.12481347j -0.14518616-0.43616699j  1.94714438-1.10701058j\n",
      "   0.        -0.5j        -0.03120575-0.54046563j -0.23644396-0.04514011j]\n",
      " [-0.68583892+0.05856144j -0.79576679-0.86292548j  1.69511195-1.08458282j\n",
      "  -0.03120575-0.54046563j  0.        -0.5j         0.32365636-0.96254027j]\n",
      " [-0.20668813+0.44291419j -0.57185852-0.0457372j  -0.24454193-0.34525074j\n",
      "  -0.23644396-0.04514011j  0.32365636-0.96254027j  0.        -0.5j       ]], Quantum object: dims=[[6], [6]], shape=(6, 6), type='oper', dtype=Dense, isherm=False\n",
      "Qobj data =\n",
      "[[ 0.        -0.5j         1.24525641-3.52934985j -0.88224947-1.27594847j\n",
      "  -0.8661175 -0.17290527j -2.0829221 -0.17726382j -0.75696626+1.61739031j]\n",
      " [ 1.24525641-3.52934985j  0.        -0.5j         6.24502186-3.974267j\n",
      "  -0.11192352-1.9808411j  -2.89209512-3.16117684j -2.51326878+0.21652819j]\n",
      " [-0.88224947-1.27594847j  6.24502186-3.974267j    0.        -0.5j\n",
      "   7.10743578-4.05101115j  2.97008425-3.68283815j -1.74294283-0.48836444j]\n",
      " [-0.8661175 -0.17290527j -0.11192352-1.9808411j   7.10743578-4.05101115j\n",
      "   0.        -0.5j        -0.5422702 -1.58704909j -0.82699537+0.46877485j]\n",
      " [-2.0829221 -0.17726382j -2.89209512-3.16117684j  2.97008425-3.68283815j\n",
      "  -0.5422702 -1.58704909j  0.        -0.5j        -2.02968121-3.23792099j]\n",
      " [-0.75696626+1.61739031j -2.51326878+0.21652819j -1.74294283-0.48836444j\n",
      "  -0.82699537+0.46877485j -2.02968121-3.23792099j  0.        -0.5j       ]]]\n"
     ]
    }
   ],
   "execution_count": 63
  },
  {
   "metadata": {
    "ExecuteTime": {
     "end_time": "2024-08-07T13:32:06.412948Z",
     "start_time": "2024-08-07T13:32:06.193530Z"
    }
   },
   "cell_type": "code",
   "source": [
    "\n",
    "\n",
    "# Define solver options with increased nsteps\n",
    "opts = Options(nsteps=10000)\n",
    "\n",
    "# Solve the time evolution\n",
    "result = mesolve(H_t, create_wave_packet(N), times, [], [], args=args, options=opts)\n",
    "\n",
    "# Extract and plot the results\n",
    "populations = [expect(basis(N, i).proj(), result.states) for i in range(N)]\n",
    "\n",
    "# Plot the time evolution of atom state probabilities as a heatmap\n",
    "plt.figure(figsize=(10, 6))\n",
    "plt.imshow(populations, aspect='auto', origin='lower', cmap='viridis', extent=[0, times[-1], 0, N-1])\n",
    "plt.colorbar(label='Probability')\n",
    "plt.xlabel('Time')\n",
    "plt.ylabel('Atom index')\n",
    "plt.title('Time evolution of atom state probabilities')\n",
    "plt.show()"
   ],
   "id": "6492718576621e8d",
   "outputs": [
    {
     "ename": "IntegratorException",
     "evalue": "Excess accuracy requested. (Tolerances too small.)",
     "output_type": "error",
     "traceback": [
      "\u001B[1;31m---------------------------------------------------------------------------\u001B[0m",
      "\u001B[1;31mIntegratorException\u001B[0m                       Traceback (most recent call last)",
      "Cell \u001B[1;32mIn[64], line 5\u001B[0m\n\u001B[0;32m      2\u001B[0m opts \u001B[38;5;241m=\u001B[39m Options(nsteps\u001B[38;5;241m=\u001B[39m\u001B[38;5;241m10000\u001B[39m)\n\u001B[0;32m      4\u001B[0m \u001B[38;5;66;03m# Solve the time evolution\u001B[39;00m\n\u001B[1;32m----> 5\u001B[0m result \u001B[38;5;241m=\u001B[39m mesolve(H_t, create_wave_packet(N), times, [], [], args\u001B[38;5;241m=\u001B[39margs, options\u001B[38;5;241m=\u001B[39mopts)\n\u001B[0;32m      7\u001B[0m \u001B[38;5;66;03m# Extract and plot the results\u001B[39;00m\n\u001B[0;32m      8\u001B[0m populations \u001B[38;5;241m=\u001B[39m [expect(basis(N, i)\u001B[38;5;241m.\u001B[39mproj(), result\u001B[38;5;241m.\u001B[39mstates) \u001B[38;5;28;01mfor\u001B[39;00m i \u001B[38;5;129;01min\u001B[39;00m \u001B[38;5;28mrange\u001B[39m(N)]\n",
      "File \u001B[1;32m~\\anaconda3\\Lib\\site-packages\\qutip\\solver\\mesolve.py:142\u001B[0m, in \u001B[0;36mmesolve\u001B[1;34m(H, rho0, tlist, c_ops, e_ops, args, options, **kwargs)\u001B[0m\n\u001B[0;32m    139\u001B[0m use_mesolve \u001B[38;5;241m=\u001B[39m \u001B[38;5;28mlen\u001B[39m(c_ops) \u001B[38;5;241m>\u001B[39m \u001B[38;5;241m0\u001B[39m \u001B[38;5;129;01mor\u001B[39;00m (\u001B[38;5;129;01mnot\u001B[39;00m rho0\u001B[38;5;241m.\u001B[39misket) \u001B[38;5;129;01mor\u001B[39;00m H\u001B[38;5;241m.\u001B[39missuper\n\u001B[0;32m    141\u001B[0m \u001B[38;5;28;01mif\u001B[39;00m \u001B[38;5;129;01mnot\u001B[39;00m use_mesolve:\n\u001B[1;32m--> 142\u001B[0m     \u001B[38;5;28;01mreturn\u001B[39;00m sesolve(H, rho0, tlist, e_ops\u001B[38;5;241m=\u001B[39me_ops, args\u001B[38;5;241m=\u001B[39margs,\n\u001B[0;32m    143\u001B[0m                    options\u001B[38;5;241m=\u001B[39moptions)\n\u001B[0;32m    145\u001B[0m solver \u001B[38;5;241m=\u001B[39m MESolver(H, c_ops, options\u001B[38;5;241m=\u001B[39moptions)\n\u001B[0;32m    147\u001B[0m \u001B[38;5;28;01mreturn\u001B[39;00m solver\u001B[38;5;241m.\u001B[39mrun(rho0, tlist, e_ops\u001B[38;5;241m=\u001B[39me_ops)\n",
      "File \u001B[1;32m~\\anaconda3\\Lib\\site-packages\\qutip\\solver\\sesolve.py:107\u001B[0m, in \u001B[0;36msesolve\u001B[1;34m(H, psi0, tlist, e_ops, args, options, **kwargs)\u001B[0m\n\u001B[0;32m    105\u001B[0m H \u001B[38;5;241m=\u001B[39m QobjEvo(H, args\u001B[38;5;241m=\u001B[39margs, tlist\u001B[38;5;241m=\u001B[39mtlist)\n\u001B[0;32m    106\u001B[0m solver \u001B[38;5;241m=\u001B[39m SESolver(H, options\u001B[38;5;241m=\u001B[39moptions)\n\u001B[1;32m--> 107\u001B[0m \u001B[38;5;28;01mreturn\u001B[39;00m solver\u001B[38;5;241m.\u001B[39mrun(psi0, tlist, e_ops\u001B[38;5;241m=\u001B[39me_ops)\n",
      "File \u001B[1;32m~\\anaconda3\\Lib\\site-packages\\qutip\\solver\\solver_base.py:177\u001B[0m, in \u001B[0;36mSolver.run\u001B[1;34m(self, state0, tlist, args, e_ops)\u001B[0m\n\u001B[0;32m    172\u001B[0m stats[\u001B[38;5;124m'\u001B[39m\u001B[38;5;124mpreparation time\u001B[39m\u001B[38;5;124m'\u001B[39m] \u001B[38;5;241m+\u001B[39m\u001B[38;5;241m=\u001B[39m time() \u001B[38;5;241m-\u001B[39m _time_start\n\u001B[0;32m    174\u001B[0m progress_bar \u001B[38;5;241m=\u001B[39m progress_bars[\u001B[38;5;28mself\u001B[39m\u001B[38;5;241m.\u001B[39moptions[\u001B[38;5;124m'\u001B[39m\u001B[38;5;124mprogress_bar\u001B[39m\u001B[38;5;124m'\u001B[39m]](\n\u001B[0;32m    175\u001B[0m     \u001B[38;5;28mlen\u001B[39m(tlist)\u001B[38;5;241m-\u001B[39m\u001B[38;5;241m1\u001B[39m, \u001B[38;5;241m*\u001B[39m\u001B[38;5;241m*\u001B[39m\u001B[38;5;28mself\u001B[39m\u001B[38;5;241m.\u001B[39moptions[\u001B[38;5;124m'\u001B[39m\u001B[38;5;124mprogress_kwargs\u001B[39m\u001B[38;5;124m'\u001B[39m]\n\u001B[0;32m    176\u001B[0m )\n\u001B[1;32m--> 177\u001B[0m \u001B[38;5;28;01mfor\u001B[39;00m t, state \u001B[38;5;129;01min\u001B[39;00m \u001B[38;5;28mself\u001B[39m\u001B[38;5;241m.\u001B[39m_integrator\u001B[38;5;241m.\u001B[39mrun(tlist):\n\u001B[0;32m    178\u001B[0m     progress_bar\u001B[38;5;241m.\u001B[39mupdate()\n\u001B[0;32m    179\u001B[0m     results\u001B[38;5;241m.\u001B[39madd(t, \u001B[38;5;28mself\u001B[39m\u001B[38;5;241m.\u001B[39m_restore_state(state, copy\u001B[38;5;241m=\u001B[39m\u001B[38;5;28;01mFalse\u001B[39;00m))\n",
      "File \u001B[1;32m~\\anaconda3\\Lib\\site-packages\\qutip\\solver\\integrator\\integrator.py:201\u001B[0m, in \u001B[0;36mIntegrator.run\u001B[1;34m(self, tlist)\u001B[0m\n\u001B[0;32m    187\u001B[0m \u001B[38;5;250m\u001B[39m\u001B[38;5;124;03m\"\"\"\u001B[39;00m\n\u001B[0;32m    188\u001B[0m \u001B[38;5;124;03mIntegrate the system yielding the state for each times in tlist.\u001B[39;00m\n\u001B[0;32m    189\u001B[0m \n\u001B[1;32m   (...)\u001B[0m\n\u001B[0;32m    198\u001B[0m \u001B[38;5;124;03m    The state of the solver at each ``t`` of tlist.\u001B[39;00m\n\u001B[0;32m    199\u001B[0m \u001B[38;5;124;03m\"\"\"\u001B[39;00m\n\u001B[0;32m    200\u001B[0m \u001B[38;5;28;01mfor\u001B[39;00m t \u001B[38;5;129;01min\u001B[39;00m tlist[\u001B[38;5;241m1\u001B[39m:]:\n\u001B[1;32m--> 201\u001B[0m     \u001B[38;5;28;01myield\u001B[39;00m \u001B[38;5;28mself\u001B[39m\u001B[38;5;241m.\u001B[39mintegrate(t, \u001B[38;5;28;01mFalse\u001B[39;00m)\n",
      "File \u001B[1;32m~\\anaconda3\\Lib\\site-packages\\qutip\\solver\\integrator\\scipy_integrator.py:111\u001B[0m, in \u001B[0;36mIntegratorScipyAdams.integrate\u001B[1;34m(self, t, copy)\u001B[0m\n\u001B[0;32m    109\u001B[0m \u001B[38;5;28;01mif\u001B[39;00m t \u001B[38;5;241m!=\u001B[39m \u001B[38;5;28mself\u001B[39m\u001B[38;5;241m.\u001B[39m_ode_solver\u001B[38;5;241m.\u001B[39mt:\n\u001B[0;32m    110\u001B[0m     \u001B[38;5;28mself\u001B[39m\u001B[38;5;241m.\u001B[39m_ode_solver\u001B[38;5;241m.\u001B[39mintegrate(t)\n\u001B[1;32m--> 111\u001B[0m \u001B[38;5;28;01mreturn\u001B[39;00m \u001B[38;5;28mself\u001B[39m\u001B[38;5;241m.\u001B[39mget_state(copy)\n",
      "File \u001B[1;32m~\\anaconda3\\Lib\\site-packages\\qutip\\solver\\integrator\\scipy_integrator.py:86\u001B[0m, in \u001B[0;36mIntegratorScipyAdams.get_state\u001B[1;34m(self, copy)\u001B[0m\n\u001B[0;32m     84\u001B[0m \u001B[38;5;28;01mif\u001B[39;00m \u001B[38;5;129;01mnot\u001B[39;00m \u001B[38;5;28mself\u001B[39m\u001B[38;5;241m.\u001B[39m_is_set:\n\u001B[0;32m     85\u001B[0m     \u001B[38;5;28;01mraise\u001B[39;00m IntegratorException(\u001B[38;5;124m\"\u001B[39m\u001B[38;5;124mThe state is not initialted\u001B[39m\u001B[38;5;124m\"\u001B[39m)\n\u001B[1;32m---> 86\u001B[0m \u001B[38;5;28mself\u001B[39m\u001B[38;5;241m.\u001B[39m_check_failed_integration()\n\u001B[0;32m     87\u001B[0m t \u001B[38;5;241m=\u001B[39m \u001B[38;5;28mself\u001B[39m\u001B[38;5;241m.\u001B[39m_ode_solver\u001B[38;5;241m.\u001B[39mt\n\u001B[0;32m     88\u001B[0m \u001B[38;5;28;01mif\u001B[39;00m \u001B[38;5;28mself\u001B[39m\u001B[38;5;241m.\u001B[39m_mat_state:\n",
      "File \u001B[1;32m~\\anaconda3\\Lib\\site-packages\\qutip\\solver\\integrator\\scipy_integrator.py:157\u001B[0m, in \u001B[0;36mIntegratorScipyAdams._check_failed_integration\u001B[1;34m(self)\u001B[0m\n\u001B[0;32m    145\u001B[0m     \u001B[38;5;28;01mreturn\u001B[39;00m\n\u001B[0;32m    146\u001B[0m messages \u001B[38;5;241m=\u001B[39m {\n\u001B[0;32m    147\u001B[0m     \u001B[38;5;241m-\u001B[39m\u001B[38;5;241m1\u001B[39m: \u001B[38;5;124m'\u001B[39m\u001B[38;5;124mExcess work done on this call. Try to increasing \u001B[39m\u001B[38;5;124m'\u001B[39m\n\u001B[0;32m    148\u001B[0m         \u001B[38;5;124m'\u001B[39m\u001B[38;5;124mthe nsteps parameter in the Options class\u001B[39m\u001B[38;5;124m'\u001B[39m,\n\u001B[1;32m   (...)\u001B[0m\n\u001B[0;32m    155\u001B[0m         \u001B[38;5;124m'\u001B[39m\u001B[38;5;124m component i vanished, and ATOL or ATOL(i) = 0.)\u001B[39m\u001B[38;5;124m'\u001B[39m\n\u001B[0;32m    156\u001B[0m }\n\u001B[1;32m--> 157\u001B[0m \u001B[38;5;28;01mraise\u001B[39;00m IntegratorException(\n\u001B[0;32m    158\u001B[0m     messages[\u001B[38;5;28mself\u001B[39m\u001B[38;5;241m.\u001B[39m_ode_solver\u001B[38;5;241m.\u001B[39m_integrator\u001B[38;5;241m.\u001B[39mistate]\n\u001B[0;32m    159\u001B[0m )\n",
      "\u001B[1;31mIntegratorException\u001B[0m: Excess accuracy requested. (Tolerances too small.)"
     ]
    }
   ],
   "execution_count": 64
  },
  {
   "metadata": {},
   "cell_type": "markdown",
   "source": "",
   "id": "b66f1161f36e23d3"
  }
 ],
 "metadata": {
  "kernelspec": {
   "display_name": "Python 3 (ipykernel)",
   "language": "python",
   "name": "python3"
  },
  "language_info": {
   "codemirror_mode": {
    "name": "ipython",
    "version": 3
   },
   "file_extension": ".py",
   "mimetype": "text/x-python",
   "name": "python",
   "nbconvert_exporter": "python",
   "pygments_lexer": "ipython3",
   "version": "3.8.18"
  }
 },
 "nbformat": 4,
 "nbformat_minor": 5
}
