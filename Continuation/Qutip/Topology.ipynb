{
 "cells": [
  {
   "metadata": {},
   "cell_type": "markdown",
   "source": "### They inner atoms, and the outer atoms are equally spaced",
   "id": "3654a3d41dcb94d6"
  },
  {
   "metadata": {
    "ExecuteTime": {
     "end_time": "2024-06-11T14:48:40.954611Z",
     "start_time": "2024-06-11T14:48:38.438689Z"
    }
   },
   "cell_type": "code",
   "source": [
    "from tqdm import tqdm\n",
    "import numpy as np\n",
    "import matplotlib.pyplot as plt\n",
    "from qutip import *\n",
    "import matplotlib.animation as animation\n",
    "import os"
   ],
   "id": "7a8ccd8b-9d55-4c86-86c1-98886873e15c",
   "outputs": [],
   "execution_count": 1
  },
  {
   "metadata": {
    "ExecuteTime": {
     "end_time": "2024-06-11T14:48:40.963493Z",
     "start_time": "2024-06-11T14:48:40.958111Z"
    }
   },
   "cell_type": "code",
   "source": [
    "save_path = r'C:\\Users\\leopo\\OneDrive - UT Cloud\\Uni\\Semester_8\\BA_mit_Git\\BA_Plots\\Qutip'\n",
    "os.makedirs(os.path.dirname(save_path), exist_ok=True)"
   ],
   "id": "a1fc4153198833a0",
   "outputs": [],
   "execution_count": 2
  },
  {
   "metadata": {
    "ExecuteTime": {
     "end_time": "2024-06-11T15:18:22.872905Z",
     "start_time": "2024-06-11T15:18:22.863646Z"
    }
   },
   "cell_type": "code",
   "source": [
    "fixed_lam = 1\n",
    "fixed_gamma = 1\n",
    "\n",
    "fixed_dist_in  = 1  * fixed_lam\n",
    "fixed_dist_ext  = 1  * fixed_lam\n",
    "fixed_phi  = 0\n",
    "fixed_d_hat = np.array([1, 1, 1]) / np.sqrt(3) ### not needed?\n",
    "########################################                 Define constants                   #############################################\n",
    "N = 3 + 3 * 20\n",
    "\n",
    "x_0    = 0.2\n",
    "x_max  = 1.1\n",
    "\n",
    "phi_0    = 0\n",
    "phi_max  = 2 * np.pi / 3\n",
    "\n",
    "phi_size = 20\n",
    "x_size   = 50\n",
    "\n",
    "########################################################################################################################    \n",
    "phis   = np.linspace(phi_0, phi_max, phi_size)\n",
    "dists  = np.linspace(x_0, x_max, x_size) * fixed_lam"
   ],
   "id": "a28616f1726e4513",
   "outputs": [],
   "execution_count": 17
  },
  {
   "metadata": {
    "ExecuteTime": {
     "end_time": "2024-06-11T15:18:23.403654Z",
     "start_time": "2024-06-11T15:18:23.240455Z"
    }
   },
   "cell_type": "code",
   "source": [
    "########################################               define the geometry                 #############################################\n",
    "def dipole_vector(phi = fixed_phi):\n",
    "    \"\"\"Returns the dipole vector given its orientation by angle phi.\"\"\"\n",
    "    dipole = np.array([np.cos(phi), np.sin(phi), 0])\n",
    "    return dipole\n",
    "\n",
    "def atom_positions(d_in = fixed_dist_in, d_ext = fixed_dist_ext, N = N):\n",
    "    \"\"\" Returns     np.ndarray: Positions of the six atoms as a Nx3 array. \"\"\"\n",
    "    Pos = np.zeros((N, 3))\n",
    "\n",
    "    # Calculate the inner triangle vertices (atoms 2, 3, 4)\n",
    "    cos = np.cos(2 * np.pi / 6) # 60 degrees in radians\n",
    "    sin = np.sin(2 * np.pi / 6) # 60 degrees in radians\n",
    "    x = d_in / (2 * np.cos(np.pi / 6)) # 30 deg\n",
    "    Pos[0] = (- x, 0, 0)\n",
    "    Pos[1] = (+ x * cos, + x * sin, 0)\n",
    "    Pos[2] = (+ x * cos, - x * sin, 0)\n",
    "\n",
    "    for i in range((N-1) // 3):\n",
    "        Pos[3 * (i+1)] = Pos[0]     + (- (i+1) * d_ext, 0, 0)\n",
    "        Pos[3 * (i+1) + 1] = Pos[1] + (+ (i+1) * d_ext * cos, + (i+1) * d_ext * sin, 0)\n",
    "        Pos[3 * (i+1) + 2] = Pos[2] + (+ (i+1) * d_ext * cos, - (i+1) * d_ext * sin, 0)\n",
    "    Pos_sorted = Pos[Pos[:, 0].argsort()]\n",
    "\n",
    "    return Pos_sorted\n",
    "\n",
    "positions = atom_positions(fixed_dist_in, fixed_dist_in)\n",
    "#print(positions)\n",
    "d_hat = dipole_vector()\n",
    "max_x = np.max(positions[:, 0])\n",
    "scale = 0.1 * max_x\n",
    "# Plot the atom positions\n",
    "plt.figure(figsize=(8, 6))\n",
    "plt.plot(positions[:, 0], positions[:, 1], 'o', markersize=10, label='atoms')\n",
    "plt.arrow(0, 0, d_hat[0] * scale, d_hat[1] * scale, \n",
    "          head_width=0.5*scale, head_length=0.5*scale, fc='r', ec='r', label='dipole vec')\n",
    "# Plot dipole vectors\n",
    "#for i, position in enumerate(positions):\n",
    "#    plt.arrow(position[0], position[1], d_hat[0] * scale, d_hat[1] * scale, \n",
    "#              head_width=0.2*scale, head_length=0.2*scale, fc='r', ec='r')\n",
    "\n",
    "plt.xlabel('x')\n",
    "plt.ylabel('y')\n",
    "plt.legend()\n",
    "plt.axis('equal')\n",
    "plt.show()"
   ],
   "id": "39c575483e1943b9",
   "outputs": [
    {
     "data": {
      "text/plain": [
       "<Figure size 800x600 with 1 Axes>"
      ],
      "image/png": "[encoded data removed]"
     },
     "metadata": {},
     "output_type": "display_data"
    }
   ],
   "execution_count": 18
  },
  {
   "metadata": {
    "ExecuteTime": {
     "end_time": "2024-06-11T15:18:32.269313Z",
     "start_time": "2024-06-11T15:18:31.776922Z"
    }
   },
   "cell_type": "code",
   "source": [
    "########################################             create the Hamiltonean                 ################################################# old version also down at the bottom\n",
    "#implement the Greenstensor for the different orientations of the dipole vectors\n",
    "def Green_tensor(r_a, r_b, k_a):\n",
    "    r_ab = r_b - r_a\n",
    "    abs_r_ab = np.linalg.norm(r_ab)\n",
    "    kappa = k_a * abs_r_ab\n",
    "    Greenstensor = (np.exp(1j * kappa) / (4 * np.pi * kappa ** 2 * abs_r_ab)\n",
    "                    * ((kappa ** 2 + 1j * kappa - 1) * np.eye(3)\n",
    "                       + (- kappa ** 2 - 3 * 1j * kappa + 3)\n",
    "                       * np.outer(r_ab, r_ab) / (abs_r_ab ** 2)))\n",
    "    return Greenstensor\n",
    "\n",
    "def Gamma_coefficients(r_a, r_b,\n",
    "                       d_a = dipole_vector(), \n",
    "                       d_b = dipole_vector(),\n",
    "                       lam = fixed_lam,\n",
    "                       gamma = fixed_gamma) -> float:\n",
    "\n",
    "    if np.linalg.norm(r_b - r_a) < 1e-5:\n",
    "        return gamma\n",
    "    k_a = 2 * np.pi / lam\n",
    "    result = (6 * np.pi * gamma / k_a  # also / d^2 but it has length 1\n",
    "              * np.matmul(np.conj(d_a), np.matmul(Green_tensor(r_a, r_b, k_a), d_b.T)))\n",
    "    return np.imag(result)\n",
    "\n",
    "def V_coefficients(r_a, r_b,\n",
    "                   d_a = dipole_vector(), \n",
    "                   d_b = dipole_vector(),\n",
    "                   lam = fixed_lam,\n",
    "                   gamma = fixed_gamma) -> float:\n",
    "    \n",
    "    if np.linalg.norm(r_b - r_a) < 1e-5:\n",
    "        return 0\n",
    "    k_a = 2 * np.pi / lam\n",
    "    result = (-3 * np.pi * gamma / k_a # also / d^2 but it has length 1\n",
    "              * np.matmul(np.conj(d_a), np.matmul(Green_tensor(r_a, r_b, k_a), d_b.T)))\n",
    "    return np.real(result)\n",
    "\n",
    "def H_eff(distance_in: float = fixed_dist_in,\n",
    "          distance_ext: float = fixed_dist_ext,\n",
    "          d_a = dipole_vector(), \n",
    "          d_b = dipole_vector(),\n",
    "          lam = fixed_lam,\n",
    "          gamma: float = fixed_gamma,\n",
    "          N: int = N):\n",
    "    \n",
    "    positions  = atom_positions(distance_in, distance_ext)\n",
    "    H_eff_matrix = np.zeros((N, N), dtype=complex)\n",
    "\n",
    "    for a in range(N):\n",
    "        for b in range(N):\n",
    "            r_a = positions[a]\n",
    "            r_b = positions[b]\n",
    "\n",
    "            V_ab = V_coefficients(r_a, r_b, d_a, d_b, lam, gamma)\n",
    "            Gamma_ab = Gamma_coefficients(r_a, r_b, d_a, d_b, lam, gamma)\n",
    "\n",
    "            matrix_element = V_ab - 1j * 0.5 * Gamma_ab\n",
    "            H_eff_matrix[a, b] = matrix_element\n",
    "    return Qobj(H_eff_matrix)\n",
    "H = H_eff()\n",
    "H"
   ],
   "id": "e1216d4f99408af9",
   "outputs": [
    {
     "data": {
      "text/plain": [
       "Quantum object: dims=[[63], [63]], shape=(63, 63), type='oper', dtype=Dense, isherm=False\n",
       "Qobj data =\n",
       "[[ 0.        -5.00000000e-01j -0.00604716+3.79954439e-02j\n",
       "  -0.0007559 +9.49886097e-03j ... -0.00012584+8.06252036e-04j\n",
       "   0.00054411+6.36771191e-04j  0.00054411+6.36771191e-04j]\n",
       " [-0.00604716+3.79954439e-02j  0.        -5.00000000e-01j\n",
       "  -0.00604716+3.79954439e-02j ... -0.00072887+4.93792409e-04j\n",
       "  -0.00014226+8.90118694e-04j -0.00014226+8.90118694e-04j]\n",
       " [-0.0007559 +9.49886097e-03j -0.00604716+3.79954439e-02j\n",
       "   0.        -5.00000000e-01j ... -0.00091626-2.54991700e-04j\n",
       "  -0.0008527 +4.65039087e-04j -0.0008527 +4.65039087e-04j]\n",
       " ...\n",
       " [-0.00012584+8.06252036e-04j -0.00072887+4.93792409e-04j\n",
       "  -0.00091626-2.54991700e-04j ...  0.        -5.00000000e-01j\n",
       "  -0.00062843+3.37339363e-03j -0.08876876-4.74943048e-03j]\n",
       " [ 0.00054411+6.36771191e-04j -0.00014226+8.90118694e-04j\n",
       "  -0.0008527 +4.65039087e-04j ... -0.00062843+3.37339363e-03j\n",
       "   0.        -5.00000000e-01j  0.00210667+2.60352982e-03j]\n",
       " [ 0.00054411+6.36771191e-04j -0.00014226+8.90118694e-04j\n",
       "  -0.0008527 +4.65039087e-04j ... -0.08876876-4.74943048e-03j\n",
       "   0.00210667+2.60352982e-03j  0.        -5.00000000e-01j]]"
      ],
      "text/latex": "Quantum object: dims=[[63], [63]], shape=(63, 63), type='oper', dtype=Dense, isherm=False$$\\left(\\begin{array}{cc}-0.500j & (-0.006+0.038j) & 0.009j & 0.004j & 0.002j & \\cdots & -6.922\\times10^{ -4 } & -1.258\\times10^{ -4 } & -1.258\\times10^{ -4 } & 5.441\\times10^{ -4 } & 5.441\\times10^{ -4 }\\\\(-0.006+0.038j) & -0.500j & (-0.006+0.038j) & 0.009j & 0.004j & \\cdots & -8.261\\times10^{ -4 } & -7.289\\times10^{ -4 } & -7.289\\times10^{ -4 } & -1.423\\times10^{ -4 } & -1.423\\times10^{ -4 }\\\\0.009j & (-0.006+0.038j) & -0.500j & (-0.006+0.038j) & 0.009j & \\cdots & -4.317\\times10^{ -4 } & -9.163\\times10^{ -4 } & -9.163\\times10^{ -4 } & -8.527\\times10^{ -4 } & -8.527\\times10^{ -4 }\\\\0.004j & 0.009j & (-0.006+0.038j) & -0.500j & (-0.006+0.038j) & \\cdots & 3.775\\times10^{ -4 } & -3.839\\times10^{ -4 } & -3.839\\times10^{ -4 } & -9.366\\times10^{ -4 } & -9.366\\times10^{ -4 }\\\\0.002j & 0.004j & 0.009j & (-0.006+0.038j) & -0.500j & \\cdots & 0.001 & 6.188\\times10^{ -4 } & 6.188\\times10^{ -4 } & -0.001j & -0.001j\\\\\\vdots & \\vdots & \\vdots & \\vdots & \\vdots & \\ddots & \\vdots & \\vdots & \\vdots & \\vdots & \\vdots\\\\-6.922\\times10^{ -4 } & -8.261\\times10^{ -4 } & -4.317\\times10^{ -4 } & 3.775\\times10^{ -4 } & 0.001 & \\cdots & -0.500j & (-0.089-0.005j) & (-0.003-0.001j) & (-0.045-0.001j) & (-0.003+0.002j)\\\\-1.258\\times10^{ -4 } & -7.289\\times10^{ -4 } & -9.163\\times10^{ -4 } & -3.839\\times10^{ -4 } & 6.188\\times10^{ -4 } & \\cdots & (-0.089-0.005j) & -0.500j & (-0.003+0.002j) & (-0.089-0.005j) & 0.003j\\\\-1.258\\times10^{ -4 } & -7.289\\times10^{ -4 } & -9.163\\times10^{ -4 } & -3.839\\times10^{ -4 } & 6.188\\times10^{ -4 } & \\cdots & (-0.003-0.001j) & (-0.003+0.002j) & -0.500j & 0.003j & (-0.089-0.005j)\\\\5.441\\times10^{ -4 } & -1.423\\times10^{ -4 } & -8.527\\times10^{ -4 } & -9.366\\times10^{ -4 } & -0.001j & \\cdots & (-0.045-0.001j) & (-0.089-0.005j) & 0.003j & -0.500j & (0.002+0.003j)\\\\5.441\\times10^{ -4 } & -1.423\\times10^{ -4 } & -8.527\\times10^{ -4 } & -9.366\\times10^{ -4 } & -0.001j & \\cdots & (-0.003+0.002j) & 0.003j & (-0.089-0.005j) & (0.002+0.003j) & -0.500j\\end{array}\\right)$$"
     },
     "execution_count": 19,
     "metadata": {},
     "output_type": "execute_result"
    }
   ],
   "execution_count": 19
  },
  {
   "metadata": {
    "ExecuteTime": {
     "end_time": "2024-06-11T15:18:33.245695Z",
     "start_time": "2024-06-11T15:18:33.046182Z"
    }
   },
   "cell_type": "code",
   "source": [
    "################ initiate Wave-packet\n",
    "k_s = np.pi / fixed_dist_ext\n",
    "sigma = 0.1 * k_s\n",
    "kd_range = np.arange(0, N) * 2 * np.pi / (N * fixed_dist_ext)\n",
    "center_index = N // 6\n",
    "x_j = (np.arange(N//3) - center_index) * fixed_dist_ext\n",
    "\n",
    "# Calculate the Gaussian wave packet in real space\n",
    "coefficients = np.sqrt(sigma / np.sqrt(2 * np.pi)) * np.exp(-1j * k_s * x_j) * np.exp(-sigma**2 * x_j**2)\n",
    "wave_packet = sum(coeff * basis(N, j) for j, coeff in enumerate(coefficients))\n",
    "psi0 = wave_packet.unit()\n",
    "\n",
    "# Plot the real and imaginary parts of the wave packet coefficients\n",
    "plt.figure(figsize=(10, 6))\n",
    "plt.plot(x_j, coefficients.real, 'bo-', label='Real Part')\n",
    "plt.plot(x_j, coefficients.imag, 'ro-', label='Imaginary Part')\n",
    "plt.xlabel('Position $x_j$')\n",
    "plt.ylabel('Coefficient')\n",
    "plt.title('Gaussian Wave Packet in Real Space')\n",
    "plt.legend()\n",
    "plt.grid(True)\n",
    "plt.show()\n",
    "Psi_01 = (basis(N,0)-basis(N,1)).unit()\n",
    "psi0"
   ],
   "id": "12d5ee3df02e9511",
   "outputs": [
    {
     "data": {
      "text/plain": [
       "<Figure size 1000x600 with 1 Axes>"
      ],
      "image/png": "[encoded data removed]"
     },
     "metadata": {},
     "output_type": "display_data"
    },
    {
     "data": {
      "text/plain": [
       "Quantum object: dims=[[63], [1]], shape=(63, 1), type='ket', dtype=Dense\n",
       "Qobj data =\n",
       "[[ 2.58958540e-05]\n",
       " [-1.68900150e-04]\n",
       " [ 9.04281279e-04]\n",
       " [-3.97420943e-03]\n",
       " [ 1.43374417e-02]\n",
       " [-4.24586601e-02]\n",
       " [ 1.03213050e-01]\n",
       " [-2.05957040e-01]\n",
       " [ 3.37359060e-01]\n",
       " [-4.53609164e-01]\n",
       " [ 5.00662389e-01]\n",
       " [-4.53609164e-01]\n",
       " [ 3.37359060e-01]\n",
       " [-2.05957040e-01]\n",
       " [ 1.03213050e-01]\n",
       " [-4.24586601e-02]\n",
       " [ 1.43374417e-02]\n",
       " [-3.97420943e-03]\n",
       " [ 9.04281279e-04]\n",
       " [-1.68900150e-04]\n",
       " [ 2.58958540e-05]\n",
       " [ 0.00000000e+00]\n",
       " [ 0.00000000e+00]\n",
       " [ 0.00000000e+00]\n",
       " [ 0.00000000e+00]\n",
       " [ 0.00000000e+00]\n",
       " [ 0.00000000e+00]\n",
       " [ 0.00000000e+00]\n",
       " [ 0.00000000e+00]\n",
       " [ 0.00000000e+00]\n",
       " [ 0.00000000e+00]\n",
       " [ 0.00000000e+00]\n",
       " [ 0.00000000e+00]\n",
       " [ 0.00000000e+00]\n",
       " [ 0.00000000e+00]\n",
       " [ 0.00000000e+00]\n",
       " [ 0.00000000e+00]\n",
       " [ 0.00000000e+00]\n",
       " [ 0.00000000e+00]\n",
       " [ 0.00000000e+00]\n",
       " [ 0.00000000e+00]\n",
       " [ 0.00000000e+00]\n",
       " [ 0.00000000e+00]\n",
       " [ 0.00000000e+00]\n",
       " [ 0.00000000e+00]\n",
       " [ 0.00000000e+00]\n",
       " [ 0.00000000e+00]\n",
       " [ 0.00000000e+00]\n",
       " [ 0.00000000e+00]\n",
       " [ 0.00000000e+00]\n",
       " [ 0.00000000e+00]\n",
       " [ 0.00000000e+00]\n",
       " [ 0.00000000e+00]\n",
       " [ 0.00000000e+00]\n",
       " [ 0.00000000e+00]\n",
       " [ 0.00000000e+00]\n",
       " [ 0.00000000e+00]\n",
       " [ 0.00000000e+00]\n",
       " [ 0.00000000e+00]\n",
       " [ 0.00000000e+00]\n",
       " [ 0.00000000e+00]\n",
       " [ 0.00000000e+00]\n",
       " [ 0.00000000e+00]]"
      ],
      "text/latex": "Quantum object: dims=[[63], [1]], shape=(63, 1), type='ket', dtype=Dense$$\\left(\\begin{array}{cc}2.590\\times10^{ -5 }\\\\-1.689\\times10^{ -4 }\\\\9.043\\times10^{ -4 }\\\\-0.004\\\\0.014\\\\\\vdots\\\\0\\\\0\\\\0\\\\0\\\\0\\end{array}\\right)$$"
     },
     "execution_count": 20,
     "metadata": {},
     "output_type": "execute_result"
    }
   ],
   "execution_count": 20
  },
  {
   "metadata": {
    "ExecuteTime": {
     "end_time": "2024-06-11T15:24:28.320277Z",
     "start_time": "2024-06-11T15:18:34.849121Z"
    }
   },
   "cell_type": "code",
   "source": [
    "def total_phases(distances, phis, N = N):\n",
    "    total_ps = np.zeros((len(distances), len(phis)))\n",
    "    for i, distance in enumerate(tqdm(distances, desc='Iteration')):\n",
    "        for j, phi in enumerate(phis):\n",
    "            dist_in = distance\n",
    "            dist_ext = 0.10 * dist_in\n",
    "            H = H_eff(distance_in=dist_in,distance_ext=dist_ext, d_a = dipole_vector(), d_b = dipole_vector(phi), lam = fixed_lam, gamma=fixed_gamma, N=N)\n",
    "            p = (np.angle(H[N//3 - 1, N//3]) +\n",
    "                 np.angle(H[N//3 - 1, N//3+1]) +\n",
    "                 np.angle(H[N//3, N//3+1])) / np.pi\n",
    "            total_ps[i, j] = p\n",
    "    return total_ps\n",
    "phases = total_phases(dists, phis)"
   ],
   "id": "7707b07e19f58f1b",
   "outputs": [
    {
     "name": "stderr",
     "output_type": "stream",
     "text": [
      "Iteration: 100%|██████████| 50/50 [05:53<00:00,  7.07s/it]\n"
     ]
    }
   ],
   "execution_count": 21
  },
  {
   "metadata": {
    "ExecuteTime": {
     "end_time": "2024-06-11T15:24:53.272063Z",
     "start_time": "2024-06-11T15:24:51.818748Z"
    }
   },
   "cell_type": "code",
   "source": [
    "# Create the animation\n",
    "fig, ax = plt.subplots()\n",
    "line, = ax.plot(dists, phases[:, 0])\n",
    "\n",
    "def update(frame):\n",
    "    line.set_ydata(phases[:, frame])\n",
    "    ax.set_title(f'angle of dipole vec: phi = {phis[frame]:.2f}')\n",
    "    ax.set_xlabel(f'total phase along the loop ')\n",
    "    ax.set_ylabel(f'distance x / lambda')\n",
    "    return line,\n",
    "\n",
    "ani = animation.FuncAnimation(fig, update, frames=len(phis), blit=True)\n",
    "ani.save(save_path + r'\\phases_vs_distance_for_different_dipoles_1.gif', writer='pillow')\n",
    "plt.show()"
   ],
   "id": "eeac803cd9c4f250",
   "outputs": [
    {
     "data": {
      "text/plain": [
       "<Figure size 640x480 with 1 Axes>"
      ],
      "image/png": "[encoded data removed]"
     },
     "metadata": {},
     "output_type": "display_data"
    }
   ],
   "execution_count": 22
  },
  {
   "metadata": {
    "jupyter": {
     "is_executing": true
    },
    "ExecuteTime": {
     "start_time": "2024-06-11T15:28:56.254424Z"
    }
   },
   "cell_type": "code",
   "source": [
    "# calculate the optimal phi configuration\n",
    "from scipy.optimize import differential_evolution\n",
    "\n",
    "def H_eff_test(distance_in = fixed_dist_in, distance_ext = fixed_dist_ext, d_a=None, d_b=None, lam=fixed_lam, gamma=fixed_gamma, N=N):\n",
    "    positions = atom_positions(distance_in, distance_ext, N)\n",
    "    H_eff_matrix = np.zeros((N, N), dtype=complex)\n",
    "    for a in range(N):\n",
    "        for b in range(N):\n",
    "            r_a = positions[a]\n",
    "            r_b = positions[b]\n",
    "            V_ab = V_coefficients(r_a, r_b, d_a[a], d_b[b], lam, gamma)\n",
    "            Gamma_ab = Gamma_coefficients(r_a, r_b, d_a[a], d_b[b], lam, gamma)\n",
    "            matrix_element = V_ab - 1j * 0.5 * Gamma_ab\n",
    "            H_eff_matrix[a, b] = matrix_element\n",
    "    return Qobj(H_eff_matrix)\n",
    "\n",
    "def norms_cal(times, distance_in = fixed_dist_in, distance_ext = fixed_dist_ext, gamma=fixed_gamma, d_a=None, d_b=None, Psi_0=basis(N, 0)):\n",
    "    H = H_eff_test(distance_in = distance_in, distance_ext = distance_ext, d_a=d_a, d_b=d_b, lam=fixed_lam, gamma=gamma, N=N)\n",
    "    all_norms = []\n",
    "    for t in times:\n",
    "        U = (-1j * H * t).expm()\n",
    "        Psi_t = U * Psi_0\n",
    "        norm_sq = Psi_t.norm()**2\n",
    "        all_norms.append(norm_sq)\n",
    "    return np.array(all_norms)\n",
    "\n",
    "# Define the cost function to be minimized (negative of the survival probability at t=10*gamma)\n",
    "def cost_function(phis):\n",
    "    d_a = [dipole_vector(phi) for phi in phis]\n",
    "    d_b = d_a  # assuming the dipole vectors for both sets are the same\n",
    "    survival_probabilities = norms_cal([10 * fixed_gamma], d_a=d_a, d_b=d_b, Psi_0=psi0)\n",
    "    survival_probability = survival_probabilities[0]\n",
    "    return -survival_probability\n",
    "\n",
    "# Define the bounds for each phi value\n",
    "bounds = [(0, 2 * np.pi) for _ in range(N)]\n",
    "\n",
    "# Perform the optimization\n",
    "result = differential_evolution(cost_function, bounds)\n",
    "optimal_phis = result.x\n",
    "optimal_survival_probability = -result.fun\n",
    "\n",
    "print(f\"Optimal phis: {optimal_phis}\")\n",
    "print(f\"Optimal survival probability: {optimal_survival_probability}\")\n",
    "\n",
    "optimal_phis = result.x\n",
    "d_a = [dipole_vector(phi) for phi in optimal_phis]\n",
    "d_b = d_a  # assuming the dipole vectors for both sets are the same\n",
    "\n",
    "# Calculate norms over the entire time range\n",
    "norms = norms_cal(times, d_a=d_a, d_b=d_b)\n",
    "\n",
    "# Plot the norms against time\n",
    "plt.figure(figsize=(10, 6))\n",
    "plt.plot(times, norms, label='Survival Probability')\n",
    "plt.xlabel('Time')\n",
    "plt.ylabel('Norm (Survival Probability)')\n",
    "plt.title('Survival Probability vs. Time for Optimal $\\phi$ Configuration')\n",
    "plt.legend()\n",
    "plt.grid(True)\n",
    "plt.show()\n",
    "\n",
    "# Plot atoms with their dipole moments\n",
    "positions = atom_positions(fixed_dist_in, fixed_dist_ext, N)\n",
    "max_x = np.max(positions[:, 0])\n",
    "scale = 0.1 * max_x\n",
    "\n",
    "plt.figure(figsize=(8, 8))\n",
    "plt.scatter(positions[:, 0], positions[:, 1], color='blue', s=100, label='Atoms')\n",
    "for i in range(N):\n",
    "    plt.arrow(positions[i, 0], positions[i, 1], d_a[i][0] * scale, d_a[i][1] * scale, head_width=0.5 * scale, head_length=0.5 * scale, fc='red', ec='red')\n",
    "\n",
    "plt.title('Atom Positions and Dipole Moments')\n",
    "plt.xlabel('X Position')\n",
    "plt.ylabel('Y Position')\n",
    "plt.grid(True)\n",
    "plt.legend()\n",
    "plt.axis('equal')\n",
    "plt.show()"
   ],
   "id": "21e5da19151fb4f0",
   "outputs": [],
   "execution_count": null
  },
  {
   "metadata": {},
   "cell_type": "code",
   "source": [
    "# plot phi(distances for a dipole orientation)\n",
    "fig, ax = plt.subplots()\n",
    "plt.plot(dists, phases, label=r'total Phase/ $\\pi$')\n",
    "plt.xlabel(r'distance x')\n",
    "plt.ylabel(r'Phase / $\\pi$')\n",
    "plt.title(f'Phase of off-diagonal entries of H over distance for $\\phi$')#={fixed_phi:.2f}\n",
    "#plt.legend()\n",
    "plt.show()"
   ],
   "id": "4a6c60f1616d4f1e",
   "outputs": [],
   "execution_count": null
  },
  {
   "metadata": {},
   "cell_type": "code",
   "outputs": [],
   "execution_count": null,
   "source": "",
   "id": "4f11120a84aa59fa"
  },
  {
   "metadata": {},
   "cell_type": "code",
   "outputs": [],
   "execution_count": null,
   "source": "",
   "id": "f73592911564dd7"
  },
  {
   "metadata": {},
   "cell_type": "markdown",
   "source": "# old implementation",
   "id": "19f05e93a65150a6"
  },
  {
   "metadata": {},
   "cell_type": "code",
   "outputs": [
    {
     "data": {
      "text/plain": [
       "Quantum object: dims=[[6], [6]], shape=(6, 6), type='oper', dtype=Dense, isherm=False\n",
       "Qobj data =\n",
       "[[ 0.        -0.5j        -0.00604716+0.03799544j -0.00064916+0.01036299j\n",
       "  -0.00064916+0.01036299j  0.0044114 +0.01067949j  0.0044114 +0.01067949j]\n",
       " [-0.00604716+0.03799544j  0.        -0.5j        -0.03362103+0.02374715j\n",
       "  -0.03362103+0.02374715j -0.02723902+0.01523052j -0.02723902+0.01523052j]\n",
       " [-0.00064916+0.01036299j -0.03362103+0.02374715j  0.        -0.5j\n",
       "  -0.11634263-0.01899772j -0.08876876-0.00474943j -0.05382888+0.02009805j]\n",
       " [-0.00064916+0.01036299j -0.03362103+0.02374715j -0.11634263-0.01899772j\n",
       "   0.        -0.5j        -0.05382888+0.02009805j -0.08876876-0.00474943j]\n",
       " [ 0.0044114 +0.01067949j -0.02723902+0.01523052j -0.08876876-0.00474943j\n",
       "  -0.05382888+0.02009805j  0.        -0.5j         0.00237123+0.04355261j]\n",
       " [ 0.0044114 +0.01067949j -0.02723902+0.01523052j -0.05382888+0.02009805j\n",
       "  -0.08876876-0.00474943j  0.00237123+0.04355261j  0.        -0.5j       ]]"
      ],
      "text/latex": "Quantum object: dims=[[6], [6]], shape=(6, 6), type='oper', dtype=Dense, isherm=False$$\\left(\\begin{array}{cc}-0.500j & (-0.006+0.038j) & 0.010j & 0.010j & (0.004+0.011j) & (0.004+0.011j)\\\\(-0.006+0.038j) & -0.500j & (-0.034+0.024j) & (-0.034+0.024j) & (-0.027+0.015j) & (-0.027+0.015j)\\\\0.010j & (-0.034+0.024j) & -0.500j & (-0.116-0.019j) & (-0.089-0.005j) & (-0.054+0.020j)\\\\0.010j & (-0.034+0.024j) & (-0.116-0.019j) & -0.500j & (-0.054+0.020j) & (-0.089-0.005j)\\\\(0.004+0.011j) & (-0.027+0.015j) & (-0.089-0.005j) & (-0.054+0.020j) & -0.500j & (0.002+0.044j)\\\\(0.004+0.011j) & (-0.027+0.015j) & (-0.054+0.020j) & (-0.089-0.005j) & (0.002+0.044j) & -0.500j\\end{array}\\right)$$"
     },
     "execution_count": 34,
     "metadata": {},
     "output_type": "execute_result"
    }
   ],
   "execution_count": 34,
   "source": [
    "########################################             create the Hamiltonean                 ################################################# old version\n",
    "#jetzt direkter weg zur NxN matrix\n",
    "def H_eff(N: int,\n",
    "          distance_in: float = fixed_dist_in, \n",
    "          distance_ext: float = fixed_dist_ext, \n",
    "          phi: float = fixed_phi,\n",
    "          gamma: float = fixed_gamma):\n",
    "\n",
    "    d_hat = dipole_vector(phi)\n",
    "    H_eff_matrix = np.zeros((N, N), dtype=complex)\n",
    "    pos = atom_positions(distance_in, distance_ext, N)\n",
    "\n",
    "    for i in range(N):\n",
    "        for j in range(N):\n",
    "            V_ij = 0\n",
    "            if i == j:\n",
    "                Gamma_ij = gamma\n",
    "            else:\n",
    "                r_ij = pos[j] - pos[i]\n",
    "                x = np.linalg.norm(r_ij)\n",
    "                r_hat_ij = r_ij / x\n",
    "                k = 2 * np.pi * x\n",
    "                dot_ij = np.dot(d_hat, r_hat_ij)\n",
    "\n",
    "                Gamma_ij = 3/2 * gamma * ((1 - (dot_ij)**2) * np.sin(k) / k +\n",
    "                                          (1 - 3 * (dot_ij)**2) * (np.cos(k)/k**2 -\n",
    "                                                                   np.sin(k) / k**3))\n",
    "\n",
    "                V_ij = - 3/4 * gamma * ((1 - (dot_ij)**2) * np.cos(k) / k -\n",
    "                                        (1 - 3 * (dot_ij)**2) * (np.sin(k)/k**2 +\n",
    "                                                                 np.cos(k) / k**3))\n",
    "\n",
    "            matrix_element = V_ij - 1j * 0.5 * Gamma_ij\n",
    "            H_eff_matrix[i, j] = matrix_element\n",
    "            \n",
    "#            self._Gamma = matrix_element.imag  ???????\n",
    "    return Qobj(H_eff_matrix)\n",
    "H_ex = H_eff(N)\n",
    "H_ex"
   ],
   "id": "16b5a90d3d29a739"
  },
  {
   "metadata": {},
   "cell_type": "code",
   "outputs": [],
   "execution_count": null,
   "source": [
    "'''def ladder_operator(i, operator_type, N = N):\n",
    "    if i <= 0 or i > N:\n",
    "        raise ValueError(\"Index i out of range. Use 1 <= i <= N\")\n",
    "    if operator_type not in ['lowering', 'raising']:\n",
    "        raise ValueError(\"Invalid operator type. Use 'lowering' or 'raising'.\")\n",
    "    if operator_type == 'lowering':\n",
    "        op_atom = destroy(2)  # Outer product |g⟩⟨e| = ((0,1), (0,0))\n",
    "    else:\n",
    "        op_atom = create(2)  # Outer product |e⟩⟨g| = ((0,0), (1,0))\n",
    "    identity_list = [qeye(2) for _ in range(N)]\n",
    "    identity_list[i - 1] = op_atom\n",
    "    op = tensor(identity_list)\n",
    "    return op\n",
    "\n",
    "def single_excitation_basis(N = N):\n",
    "    basis_states = []\n",
    "    for i in range(N):\n",
    "        state_list = [basis(2, 0)] * N\n",
    "        state_list[i] = basis(2, 1)\n",
    "        basis_state = tensor(state_list)\n",
    "        basis_states.append(basis_state)\n",
    "    return basis_states\n",
    "\n",
    "def generic_superposition(basis_states, coefficients=None):\n",
    "    N = len(basis_states)\n",
    "    if coefficients is None:\n",
    "        coefficients = np.random.rand(N) + 1j * np.random.rand(N)\n",
    "        coefficients /= np.linalg.norm(coefficients)\n",
    "    \n",
    "    superposition = sum(c * state for c, state in zip(coefficients, basis_states))\n",
    "    return superposition.unit()\n",
    "\n",
    "def H_eff(distance_in: float = fixed_dist_in,\n",
    "          distance_ext: float = fixed_dist_ext,\n",
    "          phi: float = fixed_phi,\n",
    "          gamma: float = fixed_gamma,\n",
    "          N: int = N):\n",
    "\n",
    "    d_hat = dipole_vector(phi)\n",
    "    pos = atom_positions(distance_in, distance_ext)\n",
    "    H_V = 0\n",
    "    H_Gamma = 0\n",
    "    for i in range(N):\n",
    "        for j in range(N):\n",
    "            V_ij = 0\n",
    "            if i == j:\n",
    "                Gamma_ij = gamma\n",
    "            else:\n",
    "                r_ij = pos[j] - pos[i]\n",
    "                x = np.linalg.norm(r_ij)\n",
    "                r_hat_ij = r_ij / x\n",
    "                k = 2 * np.pi * x\n",
    "                dot_ij = np.dot(d_hat, r_hat_ij)\n",
    "\n",
    "                Gamma_ij = 3/2 * gamma * ((1 - (dot_ij)**2) * np.sin(k) / k +\n",
    "                                          (1 - 3 * (dot_ij)**2) * (np.cos(k)/k**2 -\n",
    "                                                                   np.sin(k) / k**3))\n",
    "\n",
    "                V_ij = - 3/4 * gamma * ((1 - (dot_ij)**2) * np.cos(k) / k -\n",
    "                                        (1 - 3 * (dot_ij)**2) * (np.sin(k)/k**2 +\n",
    "                                                                 np.cos(k) / k**3))\n",
    "                \n",
    "            raising_op_i  = ladder_operator(i+1, 'raising')\n",
    "            lowering_op_j = ladder_operator(j+1, 'lowering')\n",
    "                \n",
    "            H_Gamma += Gamma_ij * (raising_op_i * lowering_op_j)\n",
    "            H_V     += V_ij     * (raising_op_i * lowering_op_j)\n",
    "\n",
    "    return H_V - 1/2 * 1j * H_Gamma\n",
    "\n",
    "def H_eff_red(distance_in: float = fixed_dist_in,\n",
    "              distance_ext: float = fixed_dist_ext,\n",
    "              phi: float = fixed_phi,\n",
    "              gamma: float = fixed_gamma,\n",
    "              N: int = N):\n",
    "    \n",
    "    H = H_eff(distance_in, distance_ext, phi, gamma, N)\n",
    "    single_exc_basis = single_excitation_basis(N)\n",
    "    H_reduced = np.zeros((N, N), dtype=complex)\n",
    "\n",
    "    for i, bra in enumerate(single_exc_basis):\n",
    "        for j, ket in enumerate(single_exc_basis):\n",
    "            H_reduced[i, j] = H.matrix_element(bra.dag(), ket)\n",
    "\n",
    "    return Qobj(H_reduced)\n",
    "# example form of the Hamiltonean\n",
    "H_red_ex = H_eff_red()\n",
    "H_red_ex'''"
   ],
   "id": "af458c67057a197d"
  }
 ],
 "metadata": {
  "kernelspec": {
   "display_name": "Python 3 (ipykernel)",
   "language": "python",
   "name": "python3"
  },
  "language_info": {
   "codemirror_mode": {
    "name": "ipython",
    "version": 3
   },
   "file_extension": ".py",
   "mimetype": "text/x-python",
   "name": "python",
   "nbconvert_exporter": "python",
   "pygments_lexer": "ipython3",
   "version": "3.8.8"
  }
 },
 "nbformat": 4,
 "nbformat_minor": 5
}
