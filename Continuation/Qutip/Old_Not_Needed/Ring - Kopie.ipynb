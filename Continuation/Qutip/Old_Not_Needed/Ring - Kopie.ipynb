{
 "cells": [
  {
   "metadata": {},
   "cell_type": "markdown",
   "source": "### They are all equally spaced",
   "id": "3654a3d41dcb94d6"
  },
  {
   "metadata": {
    "ExecuteTime": {
     "end_time": "2024-07-29T13:15:38.303684Z",
     "start_time": "2024-07-29T13:15:36.262144Z"
    }
   },
   "cell_type": "code",
   "source": [
    "from tqdm import tqdm\n",
    "import numpy as np\n",
    "import matplotlib.pyplot as plt\n",
    "from qutip import *\n",
    "from matplotlib.animation import FuncAnimation\n",
    "import os"
   ],
   "id": "7a8ccd8b-9d55-4c86-86c1-98886873e15c",
   "execution_count": 1,
   "outputs": []
  },
  {
   "metadata": {
    "ExecuteTime": {
     "end_time": "2024-07-29T13:15:38.313149Z",
     "start_time": "2024-07-29T13:15:38.306379Z"
    }
   },
   "cell_type": "code",
   "source": [
    "save_path = r'C:\\Users\\leopo\\OneDrive - UT Cloud\\Uni\\Semester_8\\BA_mit_Git\\BA_Plots\\Qutip'\n",
    "os.makedirs(os.path.dirname(save_path), exist_ok=True)"
   ],
   "id": "4f7e2ea8cb7a5bd7",
   "execution_count": 2,
   "outputs": []
  },
  {
   "metadata": {
    "ExecuteTime": {
     "end_time": "2024-07-29T13:15:38.324271Z",
     "start_time": "2024-07-29T13:15:38.315775Z"
    }
   },
   "cell_type": "code",
   "source": [
    "########################################                 Define constants                   #############################################\n",
    "N = 50\n",
    "fixed_lam   = 1\n",
    "fixed_gamma = 1\n",
    "\n",
    "fixed_dist  = 0.3 * fixed_lam\n",
    "fixed_phi   = 0\n",
    "\n",
    "x_0      = 0.2\n",
    "x_max    = 0.6\n",
    "x_size   = 1\n",
    "\n",
    "phi_0    = 0\n",
    "phi_max  = 2 * np.pi / N\n",
    "phi_size = 50\n",
    "\n",
    "t_max    = 4000\n",
    "t_size   = 100\n",
    "########################################################################################################################    \n",
    "times  = np.linspace(0, t_max, t_size) * fixed_gamma\n",
    "dists  = np.linspace(x_0, x_max, x_size) * fixed_lam\n",
    "phis   = np.linspace(phi_0, phi_max, phi_size)"
   ],
   "id": "a28616f1726e4513",
   "execution_count": 3,
   "outputs": []
  },
  {
   "metadata": {
    "ExecuteTime": {
     "end_time": "2024-07-29T13:15:38.667351Z",
     "start_time": "2024-07-29T13:15:38.327340Z"
    }
   },
   "cell_type": "code",
   "source": [
    "########################################               define the geometry                 #############################################\n",
    "def dipole_vector(phi = fixed_phi):\n",
    "    \"\"\"Returns the dipole vector given its orientation by angle phi.\"\"\"\n",
    "    dipole = np.array([np.cos(phi), np.sin(phi), 0])\n",
    "    return dipole\n",
    "\n",
    "d_z = np.array([0,0,1])\n",
    "d_hats = np.array([d_z for _ in range(N)])\n",
    "#d_hats = np.array([dipole_vector() for _ in range(N)])\n",
    "\n",
    "def z_rotation(angle):\n",
    "    return np.array([\n",
    "        [np.cos(angle), -np.sin(angle), 0],\n",
    "        [np.sin(angle), np.cos(angle), 0],\n",
    "        [0, 0, 1]\n",
    "    ])\n",
    "\n",
    "def ring_positions(distance = fixed_dist, N = N):\n",
    "    Pos = np.zeros((N, 3))\n",
    "    mu = 2 * np.pi / N\n",
    "    radius = distance / 2 / np.sin(np.pi / N) # TODO something doesnt work\n",
    "    helper = np.array([radius, 0, 0])\n",
    "    for i in range(N):\n",
    "        rotation_matrix = np.linalg.matrix_power(z_rotation(mu), i)\n",
    "        Pos[i] = np.matmul(rotation_matrix, helper)\n",
    "    return Pos\n",
    "\n",
    "positions = ring_positions()\n",
    "#print(positions)\n",
    "\n",
    "# Find the highest x_value\n",
    "max_x = np.max(positions[:, 0])\n",
    "scale = 0.1 * max_x\n",
    "# Plot the atom positions\n",
    "fig, ax = plt.subplots(figsize=(15, 8))\n",
    "ax.plot(positions[:, 0], positions[:, 1], 'o', markersize=10, label='atoms')\n",
    "for i, position in enumerate(positions):\n",
    "    ax.arrow(position[0], position[1], d_hats[i][0] * scale, d_hats[i][1] * scale, \n",
    "             head_width=0.2*scale, head_length=0.2*scale, fc='r', ec='r')\n",
    "ax.set_xlabel('x')\n",
    "ax.set_ylabel('y')\n",
    "ax.grid(True)\n",
    "ax.legend()\n",
    "ax.axis('equal')\n",
    "plt.show()"
   ],
   "id": "39c575483e1943b9",
   "execution_count": 4,
   "outputs": []
  },
  {
   "metadata": {
    "ExecuteTime": {
     "end_time": "2024-07-29T13:15:38.689278Z",
     "start_time": "2024-07-29T13:15:38.671841Z"
    }
   },
   "cell_type": "code",
   "source": [
    "########################################             create the Hamiltonean                 #################################################\n",
    "def Green_tensor(r_a, r_b, k_a):\n",
    "    r_ab = r_b - r_a\n",
    "    abs_r_ab = np.linalg.norm(r_ab)\n",
    "    kappa = k_a * abs_r_ab\n",
    "    return (np.exp(1j * kappa) / (4 * np.pi * kappa ** 2 * abs_r_ab)\n",
    "                    * ((kappa ** 2 + 1j * kappa - 1) * np.eye(3)\n",
    "                       + (- kappa ** 2 - 3 * 1j * kappa + 3)\n",
    "                       * np.outer(r_ab, r_ab) / (abs_r_ab ** 2)))\n",
    "\n",
    "def Gamma_matrix(distance, dipoles, lam, gamma):\n",
    "    positions = ring_positions(distance)\n",
    "    G_matrix = np.zeros((N, N), dtype=complex)\n",
    "    for a in range(N):\n",
    "        for b in range(N):\n",
    "            G_matrix[a, b] = gamma\n",
    "            r_a, r_b = positions[a], positions[b]\n",
    "            if np.linalg.norm(r_b - r_a) > 1e-5:\n",
    "                d_a, d_b = dipoles[a], dipoles[b]\n",
    "                k_a = 2 * np.pi / lam\n",
    "                result = (6 * np.pi * gamma / k_a * np.matmul(np.conj(d_a), np.matmul(Green_tensor(r_a, r_b, k_a), d_b.T)))\n",
    "                G_matrix[a, b] = np.imag(result)\n",
    "    return G_matrix\n",
    "\n",
    "def V_matrix(distance, dipoles, lam, gamma):\n",
    "    positions = ring_positions(distance, N)\n",
    "    V_matrix = np.zeros((N, N), dtype=complex)\n",
    "    for a in range(N):\n",
    "        for b in range(N):\n",
    "            r_a, r_b = positions[a], positions[b]\n",
    "            V_matrix[a, b] = 0\n",
    "            if np.linalg.norm(r_b - r_a) > 1e-5:\n",
    "                d_a, d_b = dipoles[a], dipoles[b]\n",
    "                k_a = 2 * np.pi / lam\n",
    "                result = (3 * np.pi * gamma / k_a * np.matmul(np.conj(d_a), np.matmul(Green_tensor(r_a, r_b, k_a), d_b.T)))\n",
    "                V_matrix[a, b] = np.real(result)\n",
    "    return V_matrix\n",
    "    \n",
    "def H_eff(distance = fixed_dist, dipoles = [dipole_vector() for _ in range(N)], lam=fixed_lam, gamma=fixed_gamma):\n",
    "    G = Gamma_matrix(distance, dipoles, lam, gamma)\n",
    "    V = V_matrix(distance, dipoles, lam, gamma)\n",
    "    return Qobj(V) - 1j / 2 * Qobj(G)"
   ],
   "id": "16b5a90d3d29a739",
   "execution_count": 5,
   "outputs": []
  },
  {
   "metadata": {
    "ExecuteTime": {
     "end_time": "2024-07-29T13:18:07.851364Z",
     "start_time": "2024-07-29T13:18:07.843144Z"
    }
   },
   "cell_type": "code",
   "source": [
    "k_range = np.arange(-N//2, N//2)\n",
    "def p(k):\n",
    "    return 2 * np.pi / (N * fixed_dist) * k"
   ],
   "id": "d8ac14e869620524",
   "execution_count": 8,
   "outputs": []
  },
  {
   "metadata": {
    "ExecuteTime": {
     "end_time": "2024-07-29T13:18:08.262112Z",
     "start_time": "2024-07-29T13:18:08.252934Z"
    }
   },
   "cell_type": "code",
   "source": [
    "def k_base(k):\n",
    "    for i in range(N):\n",
    "        k_hat =+ np.exp(1j * 2 * np.pi / N * (i - 1) * (k - N//2)) * basis(N,i) / np.sqrt(N)\n",
    "    return k_hat\n",
    "\n",
    "sigma = np.pi / (16 * fixed_dist)\n",
    "for k in k_range:\n",
    "    psi_0 =* 1 / np.sqrt(np.sqrt(2*np.pi) sigma) * np.exp(-(p(k)-p())**2 / (2 * sigma**2))"
   ],
   "id": "978a943291f57774",
   "execution_count": 9,
   "outputs": []
  },
  {
   "metadata": {
    "ExecuteTime": {
     "end_time": "2024-07-29T11:23:18.617346Z",
     "start_time": "2024-07-29T11:23:18.318583Z"
    }
   },
   "cell_type": "code",
   "source": [
    "# Define the position indices with periodic boundary conditions\n",
    "center_index = N\n",
    "k_s = np.pi / fixed_dist\n",
    "sigma = 0.1 * k_s\n",
    "x_j = (np.arange(N) - center_index) * fixed_dist\n",
    "x_j = np.mod(x_j + N//2 * fixed_dist, N * fixed_dist) - N//2 * fixed_dist\n",
    "# Calculate the Gaussian wave packet in real space with periodic boundary conditions\n",
    "coefficients = np.sqrt(sigma / np.sqrt(2 * np.pi)) * np.exp(-1j * k_s * x_j) * np.exp(-sigma**2 * x_j**2)\n",
    "wave_packet = sum(coeff * basis(N, (j+center_index)%N) for j, coeff in enumerate(coefficients))\n",
    "psi0 = wave_packet.unit()\n",
    "\n",
    "# Plot the real and imaginary parts of the wave packet coefficients\n",
    "plt.figure(figsize=(10, 6))\n",
    "plt.plot(x_j, coefficients.real, 'bo-', label='Real Part')\n",
    "plt.plot(x_j, coefficients.imag, 'ro-', label='Imaginary Part')\n",
    "plt.xlabel('Position $x_j$')\n",
    "plt.ylabel('Coefficient')\n",
    "plt.title('Gaussian Wave Packet in Real Space with Periodic Boundary Conditions')\n",
    "plt.legend()\n",
    "plt.grid(True)\n",
    "plt.show()\n",
    "\n",
    "Psi_01 = (basis(N,0)-basis(N,1)).unit()\n",
    "print(psi0)"
   ],
   "id": "1c0baff94b317912",
   "execution_count": 12,
   "outputs": []
  },
  {
   "metadata": {
    "ExecuteTime": {
     "end_time": "2024-07-29T11:29:21.691109Z",
     "start_time": "2024-07-29T11:29:21.679802Z"
    }
   },
   "cell_type": "code",
   "source": [
    "from scipy.optimize import minimize\n",
    "def survival_probabilities(distance, dipoles, times, gamma=fixed_gamma, Psi_0=basis(N, N//2)):\n",
    "    H = H_eff(distance=distance, dipoles=dipoles, lam=fixed_lam, gamma=gamma)\n",
    "    coeffs_sq_mods = np.zeros((len(times), N))\n",
    "    P_surs = np.zeros((len(times)))\n",
    "    \n",
    "    for t_idx, t in enumerate(times):\n",
    "        U = (-1j * H * t).expm()\n",
    "        Psi_t = (U * Psi_0).full().flatten()\n",
    "        Probs = np.abs(Psi_t)**2\n",
    "\n",
    "        coeffs_sq_mods[t_idx, :] = Probs\n",
    "        P_surs[t_idx] = Probs.sum()\n",
    "\n",
    "    return coeffs_sq_mods, P_surs"
   ],
   "id": "5ff0259302b94f0b",
   "execution_count": 32,
   "outputs": []
  },
  {
   "metadata": {
    "ExecuteTime": {
     "end_time": "2024-07-29T11:29:22.704466Z",
     "start_time": "2024-07-29T11:29:21.828536Z"
    }
   },
   "cell_type": "code",
   "source": [
    "distance = 0.234 * fixed_lam\n",
    "dipoles = np.array([[0,0,1] for _ in range(N)])\n",
    "y1, y2 = survival_probabilities(distance, dipoles, times, Psi_0=psi0)"
   ],
   "id": "aa565db39cea8a85",
   "execution_count": 33,
   "outputs": []
  },
  {
   "metadata": {
    "ExecuteTime": {
     "end_time": "2024-07-29T11:29:47.259260Z",
     "start_time": "2024-07-29T11:29:46.599442Z"
    }
   },
   "cell_type": "code",
   "source": [
    "# Plot atoms with their dipole moments\n",
    "positions = ring_positions(fixed_dist, N)\n",
    "max_x = np.max(positions[:, 0])\n",
    "scale = 0.1 * max_x\n",
    "optimized_dipoles = [dipole_vector(phi) for phi in  optimized_params[:-1]]\n",
    "plt.figure(figsize=(8, 8))\n",
    "plt.scatter(positions[:, 0], positions[:, 1], color='blue', s=100, label='Atoms')\n",
    "for i, position in enumerate(positions):\n",
    "    plt.arrow(position[0], position[1], dipoles[i][0], dipoles[i][1], head_width=0.2, head_length=0.2, fc='r', ec='r')\n",
    "plt.title('Atom Positions and Dipole Moments')\n",
    "plt.xlabel('X Position')\n",
    "plt.ylabel('Y Position')\n",
    "plt.grid(True)\n",
    "plt.legend()\n",
    "plt.axis('equal')\n",
    "plt.show()\n",
    "# Create a heatmap for state probabilities\n",
    "reordered_indices = np.roll(np.arange(N), shift=-N//2)\n",
    "y1 = y1[:, reordered_indices]\n",
    "plt.figure(figsize=(10, 6))\n",
    "plt.imshow(y1.T, aspect='auto', origin='lower', cmap='viridis', extent=[0, t_max, 0, N])\n",
    "plt.colorbar(label='Probability')\n",
    "plt.xlabel('Time')\n",
    "plt.ylabel('Atom index - centered_index')\n",
    "plt.title('Time evolution of atom state probabilities')\n",
    "plt.show()\n",
    "\n",
    "# Plot survival probability\n",
    "plt.figure(figsize=(10, 6))\n",
    "plt.plot(times, np.exp(-times), 'r--', linewidth=2.5, label=r'exp(-$\\gamma t$)')\n",
    "plt.plot(times, y2, 'b-', label='Survival Probability')\n",
    "plt.xlabel('Time')\n",
    "plt.ylabel('Survival Probability')\n",
    "plt.title('Survival Probability over time')\n",
    "plt.legend()\n",
    "plt.grid(True)\n",
    "\n",
    "plt.tight_layout()\n",
    "plt.show()"
   ],
   "id": "4573baa46a8ab35d",
   "execution_count": 38,
   "outputs": []
  },
  {
   "metadata": {
    "ExecuteTime": {
     "end_time": "2024-07-29T11:29:34.972938Z",
     "start_time": "2024-07-29T11:29:34.967583Z"
    }
   },
   "cell_type": "code",
   "source": "    ",
   "id": "6f4bed6ccf54f07e",
   "execution_count": 36,
   "outputs": []
  },
  {
   "metadata": {},
   "cell_type": "code",
   "execution_count": null,
   "source": "",
   "id": "e4b7f8bf2d8cd371",
   "outputs": []
  }
 ],
 "metadata": {
  "kernelspec": {
   "display_name": "Python 3 (ipykernel)",
   "language": "python",
   "name": "python3"
  },
  "language_info": {
   "codemirror_mode": {
    "name": "ipython",
    "version": 3
   },
   "file_extension": ".py",
   "mimetype": "text/x-python",
   "name": "python",
   "nbconvert_exporter": "python",
   "pygments_lexer": "ipython3",
   "version": "3.8.8"
  }
 },
 "nbformat": 4,
 "nbformat_minor": 5
}
