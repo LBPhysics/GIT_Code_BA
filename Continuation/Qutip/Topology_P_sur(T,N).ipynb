{
 "cells": [
  {
   "cell_type": "markdown",
   "id": "3654a3d41dcb94d6",
   "metadata": {},
   "source": [
    "### They inner atoms, and the outer atoms are equally spaced\n",
    "### Find out the N-dependance"
   ]
  },
  {
   "cell_type": "code",
   "id": "7a8ccd8b-9d55-4c86-86c1-98886873e15c",
   "metadata": {
    "jupyter": {
     "is_executing": true
    }
   },
   "source": [
    "from tqdm import tqdm\n",
    "from qutip import *\n",
    "import numpy as np\n",
    "\n",
    "from scipy.optimize import minimize\n",
    "\n",
    "import os\n",
    "\n",
    "import matplotlib.pyplot as plt\n",
    "import matplotlib.animation as animation\n",
    "from functools import partial"
   ],
   "outputs": [],
   "execution_count": null
  },
  {
   "metadata": {},
   "cell_type": "code",
   "outputs": [],
   "execution_count": null,
   "source": [
    "save_path = r'C:\\Users\\leopo\\OneDrive - UT Cloud\\Uni\\Semester_8\\BA_mit_Git\\BA_Plots\\Qutip'\n",
    "os.makedirs(os.path.dirname(save_path), exist_ok=True)"
   ],
   "id": "91a52cf3706f7de6"
  },
  {
   "metadata": {
    "ExecuteTime": {
     "end_time": "2024-08-04T14:56:03.068434Z",
     "start_time": "2024-08-04T14:56:02.997767Z"
    }
   },
   "cell_type": "code",
   "source": [
    "# Define constants\n",
    "fixed_lam = 1\n",
    "fixed_gamma = 1\n",
    "fixed_dist_ext = 0.235 * fixed_lam\n",
    "fixed_dist_in = fixed_dist_ext\n",
    "\n",
    "t_max = 100\n",
    "t_size = 200\n",
    "times = np.linspace(0, t_max, t_size) * fixed_gamma\n",
    "\n",
    "# Define the geometry functions\n",
    "def dipole_vector(phi=0):\n",
    "    \"\"\"Returns the dipole vector given its orientation by angle phi.\"\"\"\n",
    "    dipole = np.array([np.cos(phi), np.sin(phi), 0])\n",
    "    return dipole\n",
    "\n",
    "def z_rotation(angle):\n",
    "    return np.array([\n",
    "        [np.cos(angle), -np.sin(angle), 0],\n",
    "        [np.sin(angle), np.cos(angle), 0],\n",
    "        [0, 0, 1]])\n",
    "\n",
    "def chain_positions(distance, N):\n",
    "    Pos = np.zeros((N, 3))\n",
    "    for i in range(N):\n",
    "        Pos[i, 0] = i * distance\n",
    "    return Pos\n",
    "\n",
    "def topo_positions(distance_in=fixed_dist_in, distance_ext=fixed_dist_ext, N=6):\n",
    "    Pos = np.zeros((N, 3))\n",
    "    r = distance_in / np.sqrt(3)\n",
    "    Chain = chain_positions(distance_ext, N // 3) + [r, 0, 0]\n",
    "    Pos[:N//3] = np.dot(Chain, z_rotation(np.pi).T)\n",
    "    Pos = Pos[Pos[:, 0].argsort()]\n",
    "    Pos[N//3:2*N//3] = np.dot(Chain, z_rotation(2 * np.pi / 6).T)\n",
    "    Pos[2*N//3:] = np.dot(Chain, z_rotation(-2 * np.pi / 6).T)\n",
    "    return Pos\n",
    "\n",
    "def Green_tensor(r_a, r_b, k_a):\n",
    "    r_ab = r_b - r_a\n",
    "    abs_r_ab = np.linalg.norm(r_ab)\n",
    "    kappa = k_a * abs_r_ab\n",
    "    return (np.exp(1j * kappa) / (4 * np.pi * kappa ** 2 * abs_r_ab)\n",
    "            * ((kappa ** 2 + 1j * kappa - 1) * np.eye(3)\n",
    "               + (- kappa ** 2 - 3 * 1j * kappa + 3)\n",
    "               * np.outer(r_ab, r_ab) / (abs_r_ab ** 2)))\n",
    "\n",
    "def Gamma_matrix(distance_in, distance_ext, dipoles, lam, gamma, N):\n",
    "    positions = topo_positions(distance_in, distance_ext, N)\n",
    "    G_matrix = np.zeros((N, N), dtype=complex)\n",
    "    for a in range(N):\n",
    "        for b in range(N):\n",
    "            G_matrix[a, b] = gamma\n",
    "            r_a, r_b = positions[a], positions[b]\n",
    "            if np.linalg.norm(r_b - r_a) > 1e-5:\n",
    "                d_a, d_b = dipoles[a], dipoles[b]\n",
    "                k_a = 2 * np.pi / lam\n",
    "                G_matrix[a, b] = np.imag((6 * np.pi * gamma / k_a * np.matmul(np.conj(d_a), np.matmul(Green_tensor(r_a, r_b, k_a), d_b.T))))\n",
    "    return G_matrix\n",
    "\n",
    "def V_matrix(distance_in, distance_ext, dipoles, lam, gamma, N):\n",
    "    positions = topo_positions(distance_in, distance_ext, N)\n",
    "    V_matrix = np.zeros((N, N), dtype=complex)\n",
    "    for a in range(N):\n",
    "        for b in range(N):\n",
    "            r_a, r_b = positions[a], positions[b]\n",
    "            V_matrix[a, b] = 0\n",
    "            if np.linalg.norm(r_b - r_a) > 1e-5:\n",
    "                d_a, d_b = dipoles[a], dipoles[b]\n",
    "                k_a = 2 * np.pi / lam\n",
    "                V_matrix[a, b] = np.real((3 * np.pi * gamma / k_a * np.matmul(np.conj(d_a), np.matmul(Green_tensor(r_a, r_b, k_a), d_b.T))))\n",
    "    return V_matrix\n",
    "    \n",
    "def H_eff(distance_in=fixed_dist_in, distance_ext=fixed_dist_ext, dipoles=None, lam=fixed_lam, gamma=fixed_gamma, N=6):\n",
    "    if dipoles is None:\n",
    "        dipoles = [dipole_vector() for _ in range(N)]\n",
    "    G = Gamma_matrix(distance_in, distance_ext, dipoles, lam, gamma, N)\n",
    "    V = V_matrix(distance_in, distance_ext, dipoles, lam, gamma, N)\n",
    "    return Qobj(V) - 1j / 2 * Qobj(G)\n",
    "\n",
    "# Initialize wave-packet\n",
    "k_s = np.pi / fixed_dist_ext\n",
    "sigma = 0.1 * k_s\n",
    "\n",
    "def create_wave_packet(N):\n",
    "    center_index = N // 6\n",
    "    x_j = (np.arange(N//3) - center_index) * fixed_dist_ext\n",
    "    coefficients = np.sqrt(sigma / np.sqrt(2 * np.pi)) * np.exp(-1j * k_s * x_j) * np.exp(-sigma**2 * x_j**2)\n",
    "    wave_packet = sum(coeff * basis(N, j) for j, coeff in enumerate(coefficients))\n",
    "    return wave_packet.unit()\n",
    "\n",
    "# Functions for optimization\n",
    "def survival_probabilities(dipoles, distance_in, times, distance_ext=fixed_dist_ext, lam=fixed_lam, gamma=fixed_gamma, Psi_0=None, N=6):\n",
    "    H = H_eff(distance_in, distance_ext, dipoles, lam, gamma, N)\n",
    "    coeffs_sq_mods = np.zeros((len(times), N))\n",
    "    P_surs = np.zeros((len(times)))\n",
    "    for t_idx, t in enumerate(times):\n",
    "        U = (-1j * H * t).expm()\n",
    "        Psi_t = (U * Psi_0).full().flatten()\n",
    "        Probs = np.abs(Psi_t)**2\n",
    "        coeffs_sq_mods[t_idx, :] = Probs\n",
    "        P_surs[t_idx] = Probs.sum()\n",
    "    return coeffs_sq_mods, P_surs\n",
    "\n",
    "def dipole_angles_and_distance(params, N):\n",
    "    angles = params[:N]\n",
    "    distance_in = params[N]\n",
    "    dipoles = [dipole_vector(angle) for angle in angles]\n",
    "    return dipoles, distance_in\n",
    "\n",
    "def optimization_target(params, times, target_indices, Psi_0, N):\n",
    "    dipoles, distance_in = dipole_angles_and_distance(params, N)\n",
    "    res, _ = survival_probabilities(dipoles, distance_in, times, Psi_0=Psi_0, N=N)\n",
    "    # Sum probabilities of the states in the target indices\n",
    "    target_prob = np.sum(res[-1, target_indices])\n",
    "    # We want to maximize the target probability\n",
    "    return -target_prob\n",
    "\n",
    "def extend_initial_params(old_params, old_N, new_N):\n",
    "    \"\"\"Extend the initial parameters from old_N to new_N with specific positioning for new atoms.\"\"\"\n",
    "    new_angles = np.zeros(new_N)\n",
    "    old_angles = old_params[:old_N]\n",
    "    old_distance = old_params[old_N]\n",
    "\n",
    "    # Initialize new angles with old angles\n",
    "    new_angles[2:2 + 2 * old_N // 3]= old_angles[0:2 * old_N // 3]\n",
    "    new_angles[2 * new_N // 3:2 * new_N // 3 + new_N//3-2]= old_angles[2 * old_N // 3:2 * old_N // 3+ N//3]\n",
    "    new_params = np.hstack((new_angles, old_distance))\n",
    "    return new_params\n"
   ],
   "id": "e51b9d5d74529336",
   "outputs": [],
   "execution_count": 114
  },
  {
   "metadata": {
    "ExecuteTime": {
     "end_time": "2024-08-04T14:36:15.081809Z",
     "start_time": "2024-08-04T14:36:15.019339Z"
    }
   },
   "cell_type": "code",
   "source": [
    "# Example parameters for old_N = 6\n",
    "old_N = 6\n",
    "old_angles = np.array([np.pi/6, np.pi/3, np.pi/2, np.pi/6, np.pi/3, np.pi/2])#, 0, np.pi/6, np.pi/3, np.pi/2, 2*np.pi/3, 5*np.pi/6])\n",
    "old_distance = 0.234 * 1  # example value for distance\n",
    "old_params = np.hstack((old_angles, old_distance))\n",
    "\n",
    "# Extend parameters to new_N = 12\n",
    "new_N = 12\n",
    "new_params = extend_initial_params(old_params, old_N, new_N)\n",
    "\n",
    "# Print the results\n",
    "#print(\"Old Angles:\", old_angles)\n",
    "#print(\"Old Distance:\", old_distance)\n",
    "#print(\"Old Params:\", old_params)\n",
    "#print(\"New Params:\", new_params)\n",
    "new_angles[2]"
   ],
   "id": "8460f0cb8484e78",
   "outputs": [
    {
     "ename": "NameError",
     "evalue": "name 'new_angles' is not defined",
     "output_type": "error",
     "traceback": [
      "\u001B[1;31m---------------------------------------------------------------------------\u001B[0m",
      "\u001B[1;31mNameError\u001B[0m                                 Traceback (most recent call last)",
      "Cell \u001B[1;32mIn[73], line 16\u001B[0m\n\u001B[0;32m      9\u001B[0m new_params \u001B[38;5;241m=\u001B[39m extend_initial_params(old_params, old_N, new_N)\n\u001B[0;32m     11\u001B[0m \u001B[38;5;66;03m# Print the results\u001B[39;00m\n\u001B[0;32m     12\u001B[0m \u001B[38;5;66;03m#print(\"Old Angles:\", old_angles)\u001B[39;00m\n\u001B[0;32m     13\u001B[0m \u001B[38;5;66;03m#print(\"Old Distance:\", old_distance)\u001B[39;00m\n\u001B[0;32m     14\u001B[0m \u001B[38;5;66;03m#print(\"Old Params:\", old_params)\u001B[39;00m\n\u001B[0;32m     15\u001B[0m \u001B[38;5;66;03m#print(\"New Params:\", new_params)\u001B[39;00m\n\u001B[1;32m---> 16\u001B[0m new_angles[\u001B[38;5;241m2\u001B[39m]\n",
      "\u001B[1;31mNameError\u001B[0m: name 'new_angles' is not defined"
     ]
    }
   ],
   "execution_count": 73
  },
  {
   "metadata": {
    "ExecuteTime": {
     "end_time": "2024-08-04T14:55:41.280573Z",
     "start_time": "2024-08-04T14:55:41.248817Z"
    }
   },
   "cell_type": "code",
   "source": [
    "old_N = 6\n",
    "new_N = 12\n",
    "old_angles = np.random.uniform(0, 2*np.pi, old_N)\n",
    "new_angles = np.zeros(new_N)\n",
    "#print(new_angles)\n",
    "new_angles[2:2 + 2 * old_N // 3]= old_angles[0:2 * old_N // 3]\n",
    "new_angles[2 * new_N // 3:2 * new_N // 3 + new_N//3-2]= old_angles[2 * old_N // 3:2 * old_N // 3+ N//3]\n",
    "new_angles"
   ],
   "id": "3889dd6a7fe4aff4",
   "outputs": [
    {
     "data": {
      "text/plain": [
       "array([0.        , 0.        , 1.92551886, 1.58438507, 1.66744641,\n",
       "       5.82560388, 0.        , 0.        , 2.68667848, 1.85778564,\n",
       "       0.        , 0.        ])"
      ]
     },
     "execution_count": 113,
     "metadata": {},
     "output_type": "execute_result"
    }
   ],
   "execution_count": 113
  },
  {
   "metadata": {},
   "cell_type": "code",
   "outputs": [],
   "execution_count": null,
   "source": [
    "<<<<# Optimization results\n",
    "optimization_results = {}\n",
    "\n",
    "# Loop over multiples of 6\n",
    "for N in range(6, 61, 6):\n",
    "    print(f\"Optimizing for N = {N}\")\n",
    "    if N == 6:\n",
    "        initial_distance = 0.234 * fixed_lam\n",
    "        initial_angles = np.zeros(N)\n",
    "        initial_params = np.hstack((initial_angles, initial_distance))\n",
    "    else:\n",
    "        old_N = N - 6\n",
    "        old_params = np.hstack((optimization_results[old_N]['angles'], optimization_results[old_N]['distance_in']))\n",
    "        initial_params = extend_initial_params(old_params, old_N, N)\n",
    "\n",
    "    # Bounds for the optimization\n",
    "    angle_bounds = [(0, 2*np.pi) for _ in range(N)]\n",
    "    distance_in_bounds = [(0.1, 1)]\n",
    "    bounds = angle_bounds + distance_in_bounds\n",
    "\n",
    "    # Indices of the atoms in the target regions\n",
    "    target_indices = list(range(N//3, 2*N//3-1))\n",
    "\n",
    "    # Initial wave packet\n",
    "    psi0 = create_wave_packet(N)\n",
    "\n",
    "    # Optimization with bounds\n",
    "    result = minimize(optimization_target, initial_params, args=(times, target_indices, psi0, N), bounds=bounds, method='SLSQP')\n",
    "\n",
    "    # Save results\n",
    "    optimization_results[N] = {\n",
    "        'angles': result.x[:N],\n",
    "        'distance_in': result.x[N],\n",
    "        'final_survival_probability': -result.fun\n",
    "    }\n",
    "\n",
    "# Plot the final survival probability against N\n",
    "Ns = sorted(optimization_results.keys())\n",
    "final_survival_probabilities = [optimization_results[N]['final_survival_probability'] for N in Ns]\n",
    "\n",
    "plt.figure(figsize=(10, 6))\n",
    "plt.plot(Ns, final_survival_probabilities, 'bo-', label='Final Survival Probability')\n",
    "plt.xlabel('Number of Atoms $N$')\n",
    "plt.ylabel('Final Survival Probability')\n",
    "plt.title('Final Survival Probability vs. Number of Atoms $N$')\n",
    "plt.legend()\n",
    "plt.grid(True)\n",
    "plt.show()\n",
    "\n",
    "# Optionally save the optimization results to a file\n",
    "with open('optimization_results.pkl', 'wb') as f:\n",
    "    pickle.dump(optimization_results, f)"
   ],
   "id": "dd040664142e5385"
  },
  {
   "metadata": {},
   "cell_type": "code",
   "outputs": [],
   "execution_count": null,
   "source": [
    "# Plot the final survival probability against N\n",
    "Ns = sorted(optimization_results.keys())\n",
    "final_survival_probabilities = [optimization_results[N]['final_survival_probability'] for N in Ns]\n",
    "\n",
    "plt.figure(figsize=(10, 6))\n",
    "plt.plot(Ns, final_survival_probabilities, 'bo-', label='Final Survival Probability')\n",
    "plt.xlabel('Number of Atoms $N$')\n",
    "plt.ylabel('Final Survival Probability')\n",
    "plt.title('Final Survival Probability vs. Number of Atoms $N$')\n",
    "plt.legend()\n",
    "plt.grid(True)\n",
    "plt.show()\n",
    "\n",
    "# Optionally save the optimization results to a file\n",
    "import pickle\n",
    "with open('optimization_results.pkl', 'wb') as f:\n",
    "    pickle.dump(optimization_results, f)"
   ],
   "id": "a096153e340f1b5f"
  },
  {
   "metadata": {},
   "cell_type": "code",
   "outputs": [],
   "execution_count": null,
   "source": "",
   "id": "bce557a15d9b1eb"
  }
 ],
 "metadata": {
  "kernelspec": {
   "display_name": "Python 3 (ipykernel)",
   "language": "python",
   "name": "python3"
  },
  "language_info": {
   "codemirror_mode": {
    "name": "ipython",
    "version": 3
   },
   "file_extension": ".py",
   "mimetype": "text/x-python",
   "name": "python",
   "nbconvert_exporter": "python",
   "pygments_lexer": "ipython3",
   "version": "3.8.18"
  }
 },
 "nbformat": 4,
 "nbformat_minor": 5
}
