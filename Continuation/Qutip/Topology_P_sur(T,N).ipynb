{
 "cells": [
  {
   "cell_type": "markdown",
   "id": "3654a3d41dcb94d6",
   "metadata": {},
   "source": [
    "### They inner atoms, and the outer atoms are equally spaced\n",
    "### Find out the N-dependance"
   ]
  },
  {
   "cell_type": "code",
   "id": "7a8ccd8b-9d55-4c86-86c1-98886873e15c",
   "metadata": {
    "ExecuteTime": {
     "end_time": "2024-08-04T13:40:36.495794Z",
     "start_time": "2024-08-04T13:40:33.906116Z"
    }
   },
   "source": [
    "from tqdm import tqdm\n",
    "from qutip import *\n",
    "import numpy as np\n",
    "\n",
    "from scipy.optimize import minimize\n",
    "\n",
    "import os\n",
    "\n",
    "import matplotlib.pyplot as plt\n",
    "import matplotlib.animation as animation\n",
    "from functools import partial"
   ],
   "outputs": [],
   "execution_count": 1
  },
  {
   "cell_type": "code",
   "id": "a1fc4153198833a0",
   "metadata": {
    "ExecuteTime": {
     "end_time": "2024-08-04T13:40:36.502665Z",
     "start_time": "2024-08-04T13:40:36.495794Z"
    }
   },
   "source": [
    "save_path = r'C:\\Users\\leopo\\OneDrive - UT Cloud\\Uni\\Semester_8\\BA_mit_Git\\BA_Plots\\Qutip'\n",
    "os.makedirs(os.path.dirname(save_path), exist_ok=True)"
   ],
   "outputs": [],
   "execution_count": 2
  },
  {
   "cell_type": "code",
   "id": "a28616f1726e4513",
   "metadata": {
    "ExecuteTime": {
     "end_time": "2024-08-04T14:16:17.618303Z",
     "start_time": "2024-08-04T14:16:17.589452Z"
    }
   },
   "source": [
    "# Define constants\n",
    "fixed_lam = 1\n",
    "fixed_gamma = 1\n",
    "fixed_dist_ext = 0.235 * fixed_lam\n",
    "fixed_dist_in = fixed_dist_ext\n",
    "\n",
    "t_max = 100\n",
    "t_size = 200\n",
    "times = np.linspace(0, t_max, t_size) * fixed_gamma\n",
    "\n",
    "# Define the geometry functions\n",
    "def dipole_vector(phi=0):\n",
    "    \"\"\"Returns the dipole vector given its orientation by angle phi.\"\"\"\n",
    "    dipole = np.array([np.cos(phi), np.sin(phi), 0])\n",
    "    return dipole\n",
    "\n",
    "def z_rotation(angle):\n",
    "    return np.array([\n",
    "        [np.cos(angle), -np.sin(angle), 0],\n",
    "        [np.sin(angle), np.cos(angle), 0],\n",
    "        [0, 0, 1]])\n",
    "\n",
    "def chain_positions(distance, N):\n",
    "    Pos = np.zeros((N, 3))\n",
    "    for i in range(N):\n",
    "        Pos[i, 0] = i * distance\n",
    "    return Pos\n",
    "\n",
    "def topo_positions(distance_in=fixed_dist_in, distance_ext=fixed_dist_ext, N=6):\n",
    "    Pos = np.zeros((N, 3))\n",
    "    r = distance_in / np.sqrt(3)\n",
    "    Chain = chain_positions(distance_ext, N // 3) + [r, 0, 0]\n",
    "    Pos[:N//3] = np.dot(Chain, z_rotation(np.pi).T)\n",
    "    Pos = Pos[Pos[:, 0].argsort()]\n",
    "    Pos[N//3:2*N//3] = np.dot(Chain, z_rotation(2 * np.pi / 6).T)\n",
    "    Pos[2*N//3:] = np.dot(Chain, z_rotation(-2 * np.pi / 6).T)\n",
    "    return Pos\n",
    "\n",
    "def Green_tensor(r_a, r_b, k_a):\n",
    "    r_ab = r_b - r_a\n",
    "    abs_r_ab = np.linalg.norm(r_ab)\n",
    "    kappa = k_a * abs_r_ab\n",
    "    return (np.exp(1j * kappa) / (4 * np.pi * kappa ** 2 * abs_r_ab)\n",
    "            * ((kappa ** 2 + 1j * kappa - 1) * np.eye(3)\n",
    "               + (- kappa ** 2 - 3 * 1j * kappa + 3)\n",
    "               * np.outer(r_ab, r_ab) / (abs_r_ab ** 2)))\n",
    "\n",
    "def Gamma_matrix(distance_in, distance_ext, dipoles, lam, gamma, N):\n",
    "    positions = topo_positions(distance_in, distance_ext, N)\n",
    "    G_matrix = np.zeros((N, N), dtype=complex)\n",
    "    for a in range(N):\n",
    "        for b in range(N):\n",
    "            G_matrix[a, b] = gamma\n",
    "            r_a, r_b = positions[a], positions[b]\n",
    "            if np.linalg.norm(r_b - r_a) > 1e-5:\n",
    "                d_a, d_b = dipoles[a], dipoles[b]\n",
    "                k_a = 2 * np.pi / lam\n",
    "                G_matrix[a, b] = np.imag((6 * np.pi * gamma / k_a * np.matmul(np.conj(d_a), np.matmul(Green_tensor(r_a, r_b, k_a), d_b.T))))\n",
    "    return G_matrix\n",
    "\n",
    "def V_matrix(distance_in, distance_ext, dipoles, lam, gamma, N):\n",
    "    positions = topo_positions(distance_in, distance_ext, N)\n",
    "    V_matrix = np.zeros((N, N), dtype=complex)\n",
    "    for a in range(N):\n",
    "        for b in range(N):\n",
    "            r_a, r_b = positions[a], positions[b]\n",
    "            V_matrix[a, b] = 0\n",
    "            if np.linalg.norm(r_b - r_a) > 1e-5:\n",
    "                d_a, d_b = dipoles[a], dipoles[b]\n",
    "                k_a = 2 * np.pi / lam\n",
    "                V_matrix[a, b] = np.real((3 * np.pi * gamma / k_a * np.matmul(np.conj(d_a), np.matmul(Green_tensor(r_a, r_b, k_a), d_b.T))))\n",
    "    return V_matrix\n",
    "    \n",
    "def H_eff(distance_in=fixed_dist_in, distance_ext=fixed_dist_ext, dipoles=None, lam=fixed_lam, gamma=fixed_gamma, N=6):\n",
    "    if dipoles is None:\n",
    "        dipoles = [dipole_vector() for _ in range(N)]\n",
    "    G = Gamma_matrix(distance_in, distance_ext, dipoles, lam, gamma, N)\n",
    "    V = V_matrix(distance_in, distance_ext, dipoles, lam, gamma, N)\n",
    "    return Qobj(V) - 1j / 2 * Qobj(G)\n",
    "\n",
    "# Initialize wave-packet\n",
    "k_s = np.pi / fixed_dist_ext\n",
    "sigma = 0.1 * k_s\n",
    "\n",
    "def create_wave_packet(N):\n",
    "    center_index = N // 6\n",
    "    x_j = (np.arange(N//3) - center_index) * fixed_dist_ext\n",
    "    coefficients = np.sqrt(sigma / np.sqrt(2 * np.pi)) * np.exp(-1j * k_s * x_j) * np.exp(-sigma**2 * x_j**2)\n",
    "    wave_packet = sum(coeff * basis(N, j) for j, coeff in enumerate(coefficients))\n",
    "    return wave_packet.unit()\n",
    "\n",
    "# Functions for optimization\n",
    "def survival_probabilities(dipoles, distance_in, times, distance_ext=fixed_dist_ext, lam=fixed_lam, gamma=fixed_gamma, Psi_0=None, N=6):\n",
    "    H = H_eff(distance_in, distance_ext, dipoles, lam, gamma, N)\n",
    "    coeffs_sq_mods = np.zeros((len(times), N))\n",
    "    P_surs = np.zeros((len(times)))\n",
    "    for t_idx, t in enumerate(times):\n",
    "        U = (-1j * H * t).expm()\n",
    "        Psi_t = (U * Psi_0).full().flatten()\n",
    "        Probs = np.abs(Psi_t)**2\n",
    "        coeffs_sq_mods[t_idx, :] = Probs\n",
    "        P_surs[t_idx] = Probs.sum()\n",
    "    return coeffs_sq_mods, P_surs\n",
    "\n",
    "def dipole_angles_and_distance(params, N):\n",
    "    angles = params[:N]\n",
    "    distance_in = params[N]\n",
    "    dipoles = [dipole_vector(angle) for angle in angles]\n",
    "    return dipoles, distance_in\n",
    "\n",
    "def optimization_target(params, times, target_indices, Psi_0, N):\n",
    "    dipoles, distance_in = dipole_angles_and_distance(params, N)\n",
    "    res, _ = survival_probabilities(dipoles, distance_in, times, Psi_0=Psi_0, N=N)\n",
    "    # Sum probabilities of the states in the target indices\n",
    "    target_prob = np.sum(res[-1, target_indices])\n",
    "    # We want to maximize the target probability\n",
    "    return -target_prob\n",
    "\n",
    "def extend_initial_params(old_params, old_N, new_N):\n",
    "    \"\"\"Extend the initial parameters from old_N to new_N with specific positioning for new atoms.\"\"\"\n",
    "    old_angles = old_params[:old_N]\n",
    "    old_distance = old_params[old_N]\n",
    "\n",
    "    # Initialize new angles with old angles\n",
    "    new_angles = np.zeros(new_N)\n",
    "    \n",
    "    # Copy old angles to their respective positions in the new array\n",
    "    new_angles[2:2 * old_N // 3 + 2] = old_angles[:2* old_N // 3]  # Upper arm part 1\n",
    "    new_angles[4 + 2 * old_N // 3:new_N -2] = old_angles[2*old_N// 3:old_N -1]  # Upper arm part 2\n",
    "    \n",
    "    new_params = np.hstack((new_angles, old_distance))\n",
    "    return new_params"
   ],
   "outputs": [],
   "execution_count": 46
  },
  {
   "metadata": {
    "ExecuteTime": {
     "end_time": "2024-08-04T14:16:23.398677Z",
     "start_time": "2024-08-04T14:16:17.917108Z"
    }
   },
   "cell_type": "code",
   "source": [
    "# Optimization results\n",
    "optimization_results = {}\n",
    "\n",
    "# Loop over multiples of 6\n",
    "for N in range(6, 61, 6):\n",
    "    print(f\"Optimizing for N = {N}\")\n",
    "    if N == 6:\n",
    "        initial_distance = 0.234 * fixed_lam\n",
    "        initial_angles = np.zeros(N)\n",
    "        initial_params = np.hstack((initial_angles, initial_distance))\n",
    "    else:\n",
    "        old_N = N - 6\n",
    "        old_params = np.hstack((optimization_results[old_N]['angles'], optimization_results[old_N]['distance_in']))\n",
    "        initial_params = extend_initial_params(old_params, old_N, N)\n",
    "\n",
    "    # Bounds for the optimization\n",
    "    angle_bounds = [(0, 2*np.pi) for _ in range(N)]\n",
    "    distance_in_bounds = [(0.1, 1)]\n",
    "    bounds = angle_bounds + distance_in_bounds\n",
    "\n",
    "    # Indices of the atoms in the target regions\n",
    "    target_indices = list(range(N//3, 2*N//3-1))\n",
    "\n",
    "    # Initial wave packet\n",
    "    psi0 = create_wave_packet(N)\n",
    "\n",
    "    # Optimization with bounds\n",
    "    result = minimize(optimization_target, initial_params, args=(times, target_indices, psi0, N), bounds=bounds, method='SLSQP')\n",
    "\n",
    "    # Save results\n",
    "    optimization_results[N] = {\n",
    "        'angles': result.x[:N],\n",
    "        'distance_in': result.x[N],\n",
    "        'final_survival_probability': -result.fun\n",
    "    }\n",
    "\n",
    "# Plot the final survival probability against N\n",
    "Ns = sorted(optimization_results.keys())\n",
    "final_survival_probabilities = [optimization_results[N]['final_survival_probability'] for N in Ns]\n",
    "\n",
    "plt.figure(figsize=(10, 6))\n",
    "plt.plot(Ns, final_survival_probabilities, 'bo-', label='Final Survival Probability')\n",
    "plt.xlabel('Number of Atoms $N$')\n",
    "plt.ylabel('Final Survival Probability')\n",
    "plt.title('Final Survival Probability vs. Number of Atoms $N$')\n",
    "plt.legend()\n",
    "plt.grid(True)\n",
    "plt.show()\n",
    "\n",
    "# Optionally save the optimization results to a file\n",
    "with open('optimization_results.pkl', 'wb') as f:\n",
    "    pickle.dump(optimization_results, f)"
   ],
   "id": "2dd6d0793caca24e",
   "outputs": [
    {
     "name": "stdout",
     "output_type": "stream",
     "text": [
      "Optimizing for N = 6\n",
      "Optimizing for N = 12\n"
     ]
    },
    {
     "ename": "KeyboardInterrupt",
     "evalue": "",
     "output_type": "error",
     "traceback": [
      "\u001B[1;31m---------------------------------------------------------------------------\u001B[0m",
      "\u001B[1;31mKeyboardInterrupt\u001B[0m                         Traceback (most recent call last)",
      "Cell \u001B[1;32mIn[47], line 28\u001B[0m\n\u001B[0;32m     25\u001B[0m psi0 \u001B[38;5;241m=\u001B[39m create_wave_packet(N)\n\u001B[0;32m     27\u001B[0m \u001B[38;5;66;03m# Optimization with bounds\u001B[39;00m\n\u001B[1;32m---> 28\u001B[0m result \u001B[38;5;241m=\u001B[39m minimize(optimization_target, initial_params, args\u001B[38;5;241m=\u001B[39m(times, target_indices, psi0, N), bounds\u001B[38;5;241m=\u001B[39mbounds, method\u001B[38;5;241m=\u001B[39m\u001B[38;5;124m'\u001B[39m\u001B[38;5;124mSLSQP\u001B[39m\u001B[38;5;124m'\u001B[39m)\n\u001B[0;32m     30\u001B[0m \u001B[38;5;66;03m# Save results\u001B[39;00m\n\u001B[0;32m     31\u001B[0m optimization_results[N] \u001B[38;5;241m=\u001B[39m {\n\u001B[0;32m     32\u001B[0m     \u001B[38;5;124m'\u001B[39m\u001B[38;5;124mangles\u001B[39m\u001B[38;5;124m'\u001B[39m: result\u001B[38;5;241m.\u001B[39mx[:N],\n\u001B[0;32m     33\u001B[0m     \u001B[38;5;124m'\u001B[39m\u001B[38;5;124mdistance_in\u001B[39m\u001B[38;5;124m'\u001B[39m: result\u001B[38;5;241m.\u001B[39mx[N],\n\u001B[0;32m     34\u001B[0m     \u001B[38;5;124m'\u001B[39m\u001B[38;5;124mfinal_survival_probability\u001B[39m\u001B[38;5;124m'\u001B[39m: \u001B[38;5;241m-\u001B[39mresult\u001B[38;5;241m.\u001B[39mfun\n\u001B[0;32m     35\u001B[0m }\n",
      "File \u001B[1;32m~\\anaconda3\\Lib\\site-packages\\scipy\\optimize\\_minimize.py:719\u001B[0m, in \u001B[0;36mminimize\u001B[1;34m(fun, x0, args, method, jac, hess, hessp, bounds, constraints, tol, callback, options)\u001B[0m\n\u001B[0;32m    716\u001B[0m     res \u001B[38;5;241m=\u001B[39m _minimize_cobyla(fun, x0, args, constraints, callback\u001B[38;5;241m=\u001B[39mcallback,\n\u001B[0;32m    717\u001B[0m                            bounds\u001B[38;5;241m=\u001B[39mbounds, \u001B[38;5;241m*\u001B[39m\u001B[38;5;241m*\u001B[39moptions)\n\u001B[0;32m    718\u001B[0m \u001B[38;5;28;01melif\u001B[39;00m meth \u001B[38;5;241m==\u001B[39m \u001B[38;5;124m'\u001B[39m\u001B[38;5;124mslsqp\u001B[39m\u001B[38;5;124m'\u001B[39m:\n\u001B[1;32m--> 719\u001B[0m     res \u001B[38;5;241m=\u001B[39m _minimize_slsqp(fun, x0, args, jac, bounds,\n\u001B[0;32m    720\u001B[0m                           constraints, callback\u001B[38;5;241m=\u001B[39mcallback, \u001B[38;5;241m*\u001B[39m\u001B[38;5;241m*\u001B[39moptions)\n\u001B[0;32m    721\u001B[0m \u001B[38;5;28;01melif\u001B[39;00m meth \u001B[38;5;241m==\u001B[39m \u001B[38;5;124m'\u001B[39m\u001B[38;5;124mtrust-constr\u001B[39m\u001B[38;5;124m'\u001B[39m:\n\u001B[0;32m    722\u001B[0m     res \u001B[38;5;241m=\u001B[39m _minimize_trustregion_constr(fun, x0, args, jac, hess, hessp,\n\u001B[0;32m    723\u001B[0m                                        bounds, constraints,\n\u001B[0;32m    724\u001B[0m                                        callback\u001B[38;5;241m=\u001B[39mcallback, \u001B[38;5;241m*\u001B[39m\u001B[38;5;241m*\u001B[39moptions)\n",
      "File \u001B[1;32m~\\anaconda3\\Lib\\site-packages\\scipy\\optimize\\_slsqp_py.py:432\u001B[0m, in \u001B[0;36m_minimize_slsqp\u001B[1;34m(func, x0, args, jac, bounds, constraints, maxiter, ftol, iprint, disp, eps, callback, finite_diff_rel_step, **unknown_options)\u001B[0m\n\u001B[0;32m    429\u001B[0m     c \u001B[38;5;241m=\u001B[39m _eval_constraint(x, cons)\n\u001B[0;32m    431\u001B[0m \u001B[38;5;28;01mif\u001B[39;00m mode \u001B[38;5;241m==\u001B[39m \u001B[38;5;241m-\u001B[39m\u001B[38;5;241m1\u001B[39m:  \u001B[38;5;66;03m# gradient evaluation required\u001B[39;00m\n\u001B[1;32m--> 432\u001B[0m     g \u001B[38;5;241m=\u001B[39m append(wrapped_grad(x), \u001B[38;5;241m0.0\u001B[39m)\n\u001B[0;32m    433\u001B[0m     a \u001B[38;5;241m=\u001B[39m _eval_con_normals(x, cons, la, n, m, meq, mieq)\n\u001B[0;32m    435\u001B[0m \u001B[38;5;28;01mif\u001B[39;00m majiter \u001B[38;5;241m>\u001B[39m majiter_prev:\n\u001B[0;32m    436\u001B[0m     \u001B[38;5;66;03m# call callback if major iteration has incremented\u001B[39;00m\n",
      "File \u001B[1;32m~\\anaconda3\\Lib\\site-packages\\scipy\\optimize\\_optimize.py:397\u001B[0m, in \u001B[0;36m_clip_x_for_func.<locals>.eval\u001B[1;34m(x)\u001B[0m\n\u001B[0;32m    395\u001B[0m \u001B[38;5;28;01mdef\u001B[39;00m \u001B[38;5;21meval\u001B[39m(x):\n\u001B[0;32m    396\u001B[0m     x \u001B[38;5;241m=\u001B[39m _check_clip_x(x, bounds)\n\u001B[1;32m--> 397\u001B[0m     \u001B[38;5;28;01mreturn\u001B[39;00m func(x)\n",
      "File \u001B[1;32m~\\anaconda3\\Lib\\site-packages\\scipy\\optimize\\_differentiable_functions.py:273\u001B[0m, in \u001B[0;36mScalarFunction.grad\u001B[1;34m(self, x)\u001B[0m\n\u001B[0;32m    271\u001B[0m \u001B[38;5;28;01mif\u001B[39;00m \u001B[38;5;129;01mnot\u001B[39;00m np\u001B[38;5;241m.\u001B[39marray_equal(x, \u001B[38;5;28mself\u001B[39m\u001B[38;5;241m.\u001B[39mx):\n\u001B[0;32m    272\u001B[0m     \u001B[38;5;28mself\u001B[39m\u001B[38;5;241m.\u001B[39m_update_x_impl(x)\n\u001B[1;32m--> 273\u001B[0m \u001B[38;5;28mself\u001B[39m\u001B[38;5;241m.\u001B[39m_update_grad()\n\u001B[0;32m    274\u001B[0m \u001B[38;5;28;01mreturn\u001B[39;00m \u001B[38;5;28mself\u001B[39m\u001B[38;5;241m.\u001B[39mg\n",
      "File \u001B[1;32m~\\anaconda3\\Lib\\site-packages\\scipy\\optimize\\_differentiable_functions.py:256\u001B[0m, in \u001B[0;36mScalarFunction._update_grad\u001B[1;34m(self)\u001B[0m\n\u001B[0;32m    254\u001B[0m \u001B[38;5;28;01mdef\u001B[39;00m \u001B[38;5;21m_update_grad\u001B[39m(\u001B[38;5;28mself\u001B[39m):\n\u001B[0;32m    255\u001B[0m     \u001B[38;5;28;01mif\u001B[39;00m \u001B[38;5;129;01mnot\u001B[39;00m \u001B[38;5;28mself\u001B[39m\u001B[38;5;241m.\u001B[39mg_updated:\n\u001B[1;32m--> 256\u001B[0m         \u001B[38;5;28mself\u001B[39m\u001B[38;5;241m.\u001B[39m_update_grad_impl()\n\u001B[0;32m    257\u001B[0m         \u001B[38;5;28mself\u001B[39m\u001B[38;5;241m.\u001B[39mg_updated \u001B[38;5;241m=\u001B[39m \u001B[38;5;28;01mTrue\u001B[39;00m\n",
      "File \u001B[1;32m~\\anaconda3\\Lib\\site-packages\\scipy\\optimize\\_differentiable_functions.py:173\u001B[0m, in \u001B[0;36mScalarFunction.__init__.<locals>.update_grad\u001B[1;34m()\u001B[0m\n\u001B[0;32m    171\u001B[0m \u001B[38;5;28mself\u001B[39m\u001B[38;5;241m.\u001B[39m_update_fun()\n\u001B[0;32m    172\u001B[0m \u001B[38;5;28mself\u001B[39m\u001B[38;5;241m.\u001B[39mngev \u001B[38;5;241m+\u001B[39m\u001B[38;5;241m=\u001B[39m \u001B[38;5;241m1\u001B[39m\n\u001B[1;32m--> 173\u001B[0m \u001B[38;5;28mself\u001B[39m\u001B[38;5;241m.\u001B[39mg \u001B[38;5;241m=\u001B[39m approx_derivative(fun_wrapped, \u001B[38;5;28mself\u001B[39m\u001B[38;5;241m.\u001B[39mx, f0\u001B[38;5;241m=\u001B[39m\u001B[38;5;28mself\u001B[39m\u001B[38;5;241m.\u001B[39mf,\n\u001B[0;32m    174\u001B[0m                            \u001B[38;5;241m*\u001B[39m\u001B[38;5;241m*\u001B[39mfinite_diff_options)\n",
      "File \u001B[1;32m~\\anaconda3\\Lib\\site-packages\\scipy\\optimize\\_numdiff.py:505\u001B[0m, in \u001B[0;36mapprox_derivative\u001B[1;34m(fun, x0, method, rel_step, abs_step, f0, bounds, sparsity, as_linear_operator, args, kwargs)\u001B[0m\n\u001B[0;32m    502\u001B[0m     use_one_sided \u001B[38;5;241m=\u001B[39m \u001B[38;5;28;01mFalse\u001B[39;00m\n\u001B[0;32m    504\u001B[0m \u001B[38;5;28;01mif\u001B[39;00m sparsity \u001B[38;5;129;01mis\u001B[39;00m \u001B[38;5;28;01mNone\u001B[39;00m:\n\u001B[1;32m--> 505\u001B[0m     \u001B[38;5;28;01mreturn\u001B[39;00m _dense_difference(fun_wrapped, x0, f0, h,\n\u001B[0;32m    506\u001B[0m                              use_one_sided, method)\n\u001B[0;32m    507\u001B[0m \u001B[38;5;28;01melse\u001B[39;00m:\n\u001B[0;32m    508\u001B[0m     \u001B[38;5;28;01mif\u001B[39;00m \u001B[38;5;129;01mnot\u001B[39;00m issparse(sparsity) \u001B[38;5;129;01mand\u001B[39;00m \u001B[38;5;28mlen\u001B[39m(sparsity) \u001B[38;5;241m==\u001B[39m \u001B[38;5;241m2\u001B[39m:\n",
      "File \u001B[1;32m~\\anaconda3\\Lib\\site-packages\\scipy\\optimize\\_numdiff.py:576\u001B[0m, in \u001B[0;36m_dense_difference\u001B[1;34m(fun, x0, f0, h, use_one_sided, method)\u001B[0m\n\u001B[0;32m    574\u001B[0m     x \u001B[38;5;241m=\u001B[39m x0 \u001B[38;5;241m+\u001B[39m h_vecs[i]\n\u001B[0;32m    575\u001B[0m     dx \u001B[38;5;241m=\u001B[39m x[i] \u001B[38;5;241m-\u001B[39m x0[i]  \u001B[38;5;66;03m# Recompute dx as exactly representable number.\u001B[39;00m\n\u001B[1;32m--> 576\u001B[0m     df \u001B[38;5;241m=\u001B[39m fun(x) \u001B[38;5;241m-\u001B[39m f0\n\u001B[0;32m    577\u001B[0m \u001B[38;5;28;01melif\u001B[39;00m method \u001B[38;5;241m==\u001B[39m \u001B[38;5;124m'\u001B[39m\u001B[38;5;124m3-point\u001B[39m\u001B[38;5;124m'\u001B[39m \u001B[38;5;129;01mand\u001B[39;00m use_one_sided[i]:\n\u001B[0;32m    578\u001B[0m     x1 \u001B[38;5;241m=\u001B[39m x0 \u001B[38;5;241m+\u001B[39m h_vecs[i]\n",
      "File \u001B[1;32m~\\anaconda3\\Lib\\site-packages\\scipy\\optimize\\_numdiff.py:456\u001B[0m, in \u001B[0;36mapprox_derivative.<locals>.fun_wrapped\u001B[1;34m(x)\u001B[0m\n\u001B[0;32m    455\u001B[0m \u001B[38;5;28;01mdef\u001B[39;00m \u001B[38;5;21mfun_wrapped\u001B[39m(x):\n\u001B[1;32m--> 456\u001B[0m     f \u001B[38;5;241m=\u001B[39m np\u001B[38;5;241m.\u001B[39matleast_1d(fun(x, \u001B[38;5;241m*\u001B[39margs, \u001B[38;5;241m*\u001B[39m\u001B[38;5;241m*\u001B[39mkwargs))\n\u001B[0;32m    457\u001B[0m     \u001B[38;5;28;01mif\u001B[39;00m f\u001B[38;5;241m.\u001B[39mndim \u001B[38;5;241m>\u001B[39m \u001B[38;5;241m1\u001B[39m:\n\u001B[0;32m    458\u001B[0m         \u001B[38;5;28;01mraise\u001B[39;00m \u001B[38;5;167;01mRuntimeError\u001B[39;00m(\u001B[38;5;124m\"\u001B[39m\u001B[38;5;124m`fun` return value has \u001B[39m\u001B[38;5;124m\"\u001B[39m\n\u001B[0;32m    459\u001B[0m                            \u001B[38;5;124m\"\u001B[39m\u001B[38;5;124mmore than 1 dimension.\u001B[39m\u001B[38;5;124m\"\u001B[39m)\n",
      "File \u001B[1;32m~\\anaconda3\\Lib\\site-packages\\scipy\\optimize\\_differentiable_functions.py:137\u001B[0m, in \u001B[0;36mScalarFunction.__init__.<locals>.fun_wrapped\u001B[1;34m(x)\u001B[0m\n\u001B[0;32m    133\u001B[0m \u001B[38;5;28mself\u001B[39m\u001B[38;5;241m.\u001B[39mnfev \u001B[38;5;241m+\u001B[39m\u001B[38;5;241m=\u001B[39m \u001B[38;5;241m1\u001B[39m\n\u001B[0;32m    134\u001B[0m \u001B[38;5;66;03m# Send a copy because the user may overwrite it.\u001B[39;00m\n\u001B[0;32m    135\u001B[0m \u001B[38;5;66;03m# Overwriting results in undefined behaviour because\u001B[39;00m\n\u001B[0;32m    136\u001B[0m \u001B[38;5;66;03m# fun(self.x) will change self.x, with the two no longer linked.\u001B[39;00m\n\u001B[1;32m--> 137\u001B[0m fx \u001B[38;5;241m=\u001B[39m fun(np\u001B[38;5;241m.\u001B[39mcopy(x), \u001B[38;5;241m*\u001B[39margs)\n\u001B[0;32m    138\u001B[0m \u001B[38;5;66;03m# Make sure the function returns a true scalar\u001B[39;00m\n\u001B[0;32m    139\u001B[0m \u001B[38;5;28;01mif\u001B[39;00m \u001B[38;5;129;01mnot\u001B[39;00m np\u001B[38;5;241m.\u001B[39misscalar(fx):\n",
      "Cell \u001B[1;32mIn[46], line 113\u001B[0m, in \u001B[0;36moptimization_target\u001B[1;34m(params, times, target_indices, Psi_0, N)\u001B[0m\n\u001B[0;32m    111\u001B[0m \u001B[38;5;28;01mdef\u001B[39;00m \u001B[38;5;21moptimization_target\u001B[39m(params, times, target_indices, Psi_0, N):\n\u001B[0;32m    112\u001B[0m     dipoles, distance_in \u001B[38;5;241m=\u001B[39m dipole_angles_and_distance(params, N)\n\u001B[1;32m--> 113\u001B[0m     res, _ \u001B[38;5;241m=\u001B[39m survival_probabilities(dipoles, distance_in, times, Psi_0\u001B[38;5;241m=\u001B[39mPsi_0, N\u001B[38;5;241m=\u001B[39mN)\n\u001B[0;32m    114\u001B[0m     \u001B[38;5;66;03m# Sum probabilities of the states in the target indices\u001B[39;00m\n\u001B[0;32m    115\u001B[0m     target_prob \u001B[38;5;241m=\u001B[39m np\u001B[38;5;241m.\u001B[39msum(res[\u001B[38;5;241m-\u001B[39m\u001B[38;5;241m1\u001B[39m, target_indices])\n",
      "Cell \u001B[1;32mIn[46], line 98\u001B[0m, in \u001B[0;36msurvival_probabilities\u001B[1;34m(dipoles, distance_in, times, distance_ext, lam, gamma, Psi_0, N)\u001B[0m\n\u001B[0;32m     96\u001B[0m P_surs \u001B[38;5;241m=\u001B[39m np\u001B[38;5;241m.\u001B[39mzeros((\u001B[38;5;28mlen\u001B[39m(times)))\n\u001B[0;32m     97\u001B[0m \u001B[38;5;28;01mfor\u001B[39;00m t_idx, t \u001B[38;5;129;01min\u001B[39;00m \u001B[38;5;28menumerate\u001B[39m(times):\n\u001B[1;32m---> 98\u001B[0m     U \u001B[38;5;241m=\u001B[39m (\u001B[38;5;241m-\u001B[39m\u001B[38;5;241m1\u001B[39mj \u001B[38;5;241m*\u001B[39m H \u001B[38;5;241m*\u001B[39m t)\u001B[38;5;241m.\u001B[39mexpm()\n\u001B[0;32m     99\u001B[0m     Psi_t \u001B[38;5;241m=\u001B[39m (U \u001B[38;5;241m*\u001B[39m Psi_0)\u001B[38;5;241m.\u001B[39mfull()\u001B[38;5;241m.\u001B[39mflatten()\n\u001B[0;32m    100\u001B[0m     Probs \u001B[38;5;241m=\u001B[39m np\u001B[38;5;241m.\u001B[39mabs(Psi_t)\u001B[38;5;241m*\u001B[39m\u001B[38;5;241m*\u001B[39m\u001B[38;5;241m2\u001B[39m\n",
      "File \u001B[1;32m~\\anaconda3\\Lib\\site-packages\\qutip\\core\\qobj.py:463\u001B[0m, in \u001B[0;36mQobj.__rmul__\u001B[1;34m(self, other)\u001B[0m\n\u001B[0;32m    460\u001B[0m \u001B[38;5;28;01mdef\u001B[39;00m \u001B[38;5;21m__rmul__\u001B[39m(\u001B[38;5;28mself\u001B[39m, other):\n\u001B[0;32m    461\u001B[0m     \u001B[38;5;66;03m# Shouldn't be here unless `other.__mul__` has already been tried, so\u001B[39;00m\n\u001B[0;32m    462\u001B[0m     \u001B[38;5;66;03m# we _shouldn't_ check that `other` is `Qobj`.\u001B[39;00m\n\u001B[1;32m--> 463\u001B[0m     \u001B[38;5;28;01mreturn\u001B[39;00m \u001B[38;5;28mself\u001B[39m\u001B[38;5;241m.\u001B[39m\u001B[38;5;21m__mul__\u001B[39m(other)\n",
      "File \u001B[1;32m~\\anaconda3\\Lib\\site-packages\\qutip\\core\\qobj.py:440\u001B[0m, in \u001B[0;36mQobj.__mul__\u001B[1;34m(self, other)\u001B[0m\n\u001B[0;32m    436\u001B[0m \u001B[38;5;66;03m# We send other to mul instead of complex(other) to be more flexible.\u001B[39;00m\n\u001B[0;32m    437\u001B[0m \u001B[38;5;66;03m# The dispatcher can then decide how to handle other and return\u001B[39;00m\n\u001B[0;32m    438\u001B[0m \u001B[38;5;66;03m# TypeError if it does not know what to do with the type of other.\u001B[39;00m\n\u001B[0;32m    439\u001B[0m \u001B[38;5;28;01mtry\u001B[39;00m:\n\u001B[1;32m--> 440\u001B[0m     out \u001B[38;5;241m=\u001B[39m _data\u001B[38;5;241m.\u001B[39mmul(\u001B[38;5;28mself\u001B[39m\u001B[38;5;241m.\u001B[39m_data, other)\n\u001B[0;32m    441\u001B[0m \u001B[38;5;28;01mexcept\u001B[39;00m \u001B[38;5;167;01mTypeError\u001B[39;00m:\n\u001B[0;32m    442\u001B[0m     \u001B[38;5;28;01mreturn\u001B[39;00m \u001B[38;5;28mNotImplemented\u001B[39m\n",
      "\u001B[1;31mKeyboardInterrupt\u001B[0m: "
     ]
    }
   ],
   "execution_count": 47
  },
  {
   "metadata": {
    "ExecuteTime": {
     "end_time": "2024-08-04T13:45:24.777043Z",
     "start_time": "2024-08-04T13:45:24.396408Z"
    }
   },
   "cell_type": "code",
   "source": [
    "# Plot the final survival probability against N\n",
    "Ns = sorted(optimization_results.keys())\n",
    "final_survival_probabilities = [optimization_results[N]['final_survival_probability'] for N in Ns]\n",
    "\n",
    "plt.figure(figsize=(10, 6))\n",
    "plt.plot(Ns, final_survival_probabilities, 'bo-', label='Final Survival Probability')\n",
    "plt.xlabel('Number of Atoms $N$')\n",
    "plt.ylabel('Final Survival Probability')\n",
    "plt.title('Final Survival Probability vs. Number of Atoms $N$')\n",
    "plt.legend()\n",
    "plt.grid(True)\n",
    "plt.show()\n",
    "\n",
    "# Optionally save the optimization results to a file\n",
    "import pickle\n",
    "with open('optimization_results.pkl', 'wb') as f:\n",
    "    pickle.dump(optimization_results, f)"
   ],
   "id": "6cb3ba9b7c58eace",
   "outputs": [
    {
     "data": {
      "text/plain": [
       "<Figure size 1000x600 with 1 Axes>"
      ],
      "image/png": "[encoded data removed]"
     },
     "metadata": {},
     "output_type": "display_data"
    }
   ],
   "execution_count": 8
  },
  {
   "metadata": {},
   "cell_type": "code",
   "outputs": [],
   "execution_count": null,
   "source": "",
   "id": "ce31d5bb2f678be3"
  }
 ],
 "metadata": {
  "kernelspec": {
   "display_name": "Python 3 (ipykernel)",
   "language": "python",
   "name": "python3"
  },
  "language_info": {
   "codemirror_mode": {
    "name": "ipython",
    "version": 3
   },
   "file_extension": ".py",
   "mimetype": "text/x-python",
   "name": "python",
   "nbconvert_exporter": "python",
   "pygments_lexer": "ipython3",
   "version": "3.8.18"
  }
 },
 "nbformat": 4,
 "nbformat_minor": 5
}
