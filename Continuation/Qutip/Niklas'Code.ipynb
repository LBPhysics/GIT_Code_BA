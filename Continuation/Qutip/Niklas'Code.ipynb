{
 "cells": [
  {
   "metadata": {
    "ExecuteTime": {
     "end_time": "2024-08-07T14:59:43.003871Z",
     "start_time": "2024-08-07T14:59:42.999069Z"
    }
   },
   "cell_type": "code",
   "source": [
    "import numpy as np\n",
    "import matplotlib.pyplot as plt\n",
    "from scipy.integrate import quad\n",
    "from scipy.integrate import solve_ivp"
   ],
   "id": "335b033196c49648",
   "outputs": [],
   "execution_count": 106
  },
  {
   "metadata": {
    "ExecuteTime": {
     "end_time": "2024-08-07T14:59:43.194388Z",
     "start_time": "2024-08-07T14:59:43.185009Z"
    }
   },
   "cell_type": "code",
   "source": [
    "# Matplotlib Einstellungen gemäß den LaTeX-Caption-Formatierungen\n",
    "plt.rcParams.update({ # todo change font\n",
    "    'font.family': 'serif',            # Use serif fonts (like in LaTeX)\n",
    "    'font.serif': ['Times New Roman'], # Use Times New Roman as the serif font\n",
    "    'font.size': 25,                   # Font size for general text\n",
    "    'axes.titlesize': 25,              # Font size for axis titles\n",
    "    'axes.labelsize': 25,              # Font size for axis labels\n",
    "    'xtick.labelsize': 25,             # Font size for x-axis tick labels\n",
    "    'ytick.labelsize': 25,             # Font size for y-axis tick labels\n",
    "    'legend.fontsize': 25,             # Font size for legends\n",
    "    'figure.figsize': [8, 6],          # Size of the plot (width x height)\n",
    "    'figure.autolayout': True,         # Automatic layout adjustment\n",
    "    'text.usetex': False,              # Disable LaTeX usage\n",
    "    'savefig.format': 'svg'            # Default format for saving figures\n",
    "})"
   ],
   "id": "33b618dbed49c81d",
   "outputs": [],
   "execution_count": 107
  },
  {
   "metadata": {
    "ExecuteTime": {
     "end_time": "2024-08-07T15:01:57.119114Z",
     "start_time": "2024-08-07T15:01:57.111327Z"
    }
   },
   "cell_type": "code",
   "source": [
    "########################################                 Define constants                   #############################################\n",
    "n = 3 + 3 * 10\n",
    "t_max = 100 # final time\n",
    "N = 100 #iterations for solveivp\n",
    "\n",
    "hbar=1\n",
    "fixed_lam = 1\n",
    "fixed_gamma = 1\n",
    "fixed_dist_ext = 0.235  * fixed_lam\n",
    "fixed_dist_in  =  fixed_dist_ext\n",
    "\n",
    "times  = np.linspace(0, t_max, N) * fixed_gamma\n",
    "t_span = (0, t_max)"
   ],
   "id": "a97b3db6f4b347f9",
   "outputs": [],
   "execution_count": 112
  },
  {
   "cell_type": "code",
   "id": "initial_id",
   "metadata": {
    "collapsed": true,
    "ExecuteTime": {
     "end_time": "2024-08-07T15:01:57.546513Z",
     "start_time": "2024-08-07T15:01:57.525582Z"
    }
   },
   "source": [
    "########################################               define the geometry                 #############################################\n",
    "def phi(t, tau):\n",
    "    pi_start = np.pi\n",
    "    pi_end = np.pi / 3\n",
    "    \n",
    "    # Define the transition intervals\n",
    "    t1 = t_max / 5\n",
    "    t2 = t_max t1 + tau\n",
    "    \n",
    "    if t <= t1:\n",
    "        return pi_start\n",
    "    elif t >= t2:\n",
    "        return pi_end\n",
    "    else:\n",
    "        # Normalize time to the range [0, pi] for the transition\n",
    "        normalized_time = ((t - t1) / (t2 - t1)) * np.pi\n",
    "        \n",
    "        # Apply sin^2 transition\n",
    "        sin_squared = np.sin(normalized_time / 2)**2\n",
    "        \n",
    "        return pi_start + (pi_end - pi_start) * sin_squared\n",
    "\n",
    "def dipole_vector(t, tau):\n",
    "    \"\"\"Returns the dipole vector given its orientation by angle phi.\"\"\"\n",
    "    dipole = np.array([np.cos(phi(t, tau)),np.sin(phi(t, tau)), 0])\n",
    "    return dipole\n",
    "\n",
    "def z_rotation(angle):\n",
    "    return np.array([\n",
    "        [np.cos(angle), -np.sin(angle), 0],\n",
    "        [np.sin(angle), np.cos(angle), 0],\n",
    "        [0, 0, 1]])\n",
    "\n",
    "def chain_positions(distance, n):\n",
    "    Pos = np.zeros((n, 3))\n",
    "    for i in range(n):\n",
    "        Pos[i, 0] = i * distance\n",
    "    return Pos\n",
    "\n",
    "def topo_positions(distance_in = fixed_dist_in, distance_ext = fixed_dist_ext, n = n):\n",
    "    Pos = np.zeros((n, 3))\n",
    "    r = distance_in / np.sqrt(3)\n",
    "    Chain = chain_positions(distance_ext, n // 3) + [r, 0, 0]\n",
    "    Pos[:n//3] = np.dot(Chain, z_rotation(np.pi).T)\n",
    "    Pos = Pos[Pos[:, 0].argsort()]\n",
    "    Pos[n//3:2*n//3] = np.dot(Chain, z_rotation(np.pi / 3).T)\n",
    "    Pos[2*n//3:] = np.dot(Chain, z_rotation(-np.pi / 3).T)\n",
    "    return Pos\n",
    "\n",
    "########################################             create the Hamiltonean                 #################################################\n",
    "def Green_tensor(r_a, r_b, k_a):\n",
    "    r_ab = r_b - r_a\n",
    "    abs_r_ab = np.linalg.norm(r_ab)\n",
    "    kappa = k_a * abs_r_ab\n",
    "    return (np.exp(1j * kappa) / (4 * np.pi * kappa ** 2 * abs_r_ab)\n",
    "                    * ((kappa ** 2 + 1j * kappa - 1) * np.eye(3)\n",
    "                       + (- kappa ** 2 - 3 * 1j * kappa + 3)\n",
    "                       * np.outer(r_ab, r_ab) / (abs_r_ab ** 2)))\n",
    "\n",
    "def Gamma_matrix(distance_in, distance_ext, dipoles, lam, gamma):\n",
    "    positions = topo_positions(distance_in, distance_ext)\n",
    "    G_matrix = np.zeros((n, n), dtype=complex)\n",
    "    for a in range(n):\n",
    "        for b in range(n):\n",
    "            G_matrix[a, b] = gamma\n",
    "            r_a, r_b = positions[a], positions[b]\n",
    "            if np.linalg.norm(r_b - r_a) > 1e-5:\n",
    "                d_a, d_b = dipoles[a], dipoles[b]\n",
    "                k_a = 2 * np.pi / lam\n",
    "                G_matrix[a, b] = np.imag((6 * np.pi * gamma / k_a * np.matmul(np.conj(d_a), np.matmul(Green_tensor(r_a, r_b, k_a), d_b.T))))\n",
    "    return G_matrix\n",
    "\n",
    "def V_matrix(distance_in, distance_ext, dipoles, lam, gamma):\n",
    "    positions = topo_positions(distance_in, distance_ext)\n",
    "    V_matrix = np.zeros((n, n), dtype=complex)\n",
    "    for a in range(n):\n",
    "        for b in range(n):\n",
    "            r_a, r_b = positions[a], positions[b]\n",
    "            V_matrix[a, b] = 0\n",
    "            if np.linalg.norm(r_b - r_a) > 1e-5:\n",
    "                d_a, d_b = dipoles[a], dipoles[b]\n",
    "                k_a = 2 * np.pi / lam\n",
    "                V_matrix[a, b] = - np.real((3 * np.pi * gamma / k_a * np.matmul(np.conj(d_a), np.matmul(Green_tensor(r_a, r_b, k_a), d_b.T))))\n",
    "    return V_matrix\n",
    "    \n",
    "def Hamiltn(t=0, tau=0, distance_in = fixed_dist_in, distance_ext = fixed_dist_ext, lam=fixed_lam, gamma=fixed_gamma):\n",
    "    dipoles = [dipole_vector(t, tau) for _ in range(n)]\n",
    "    G = Gamma_matrix(distance_in, distance_ext, dipoles, lam, gamma)\n",
    "    V = V_matrix(distance_in, distance_ext, dipoles, lam, gamma)\n",
    "    return V - 1j / 2 * G\n",
    "\n",
    "#derivative for the solve_ivp\n",
    "#n-particle konfiguration \n",
    "def derivativen(t, Psi, tau=0):\n",
    "    H=Hamiltn(t, tau)\n",
    "    dPsi_dt = -1j * np.dot(H, Psi)/hbar\n",
    "    return dPsi_dt"
   ],
   "outputs": [],
   "execution_count": 113
  },
  {
   "metadata": {
    "jupyter": {
     "is_executing": true
    },
    "ExecuteTime": {
     "start_time": "2024-08-07T15:01:58.841525Z"
    }
   },
   "cell_type": "code",
   "source": [
    "#Initialisierung des States\n",
    "k_s = np.pi / fixed_dist_in\n",
    "sigma = 0.1 * k_s\n",
    "\n",
    "def create_wave_packet(n):\n",
    "    center_index = n // 6\n",
    "    x_j = (np.arange(n // 3) - center_index) * fixed_dist_ext\n",
    "    coefficients = np.sqrt(sigma / np.sqrt(2 * np.pi)) * np.exp(-1j * k_s * x_j) * np.exp(-sigma**2 * x_j**2)\n",
    "    wave_packet = np.zeros(n, dtype=complex)\n",
    "    # Sum over the j-th basis elements\n",
    "    for j, coeff in enumerate(coefficients):\n",
    "        basis_vector = np.zeros(n, dtype=complex)\n",
    "        basis_vector[j] = 1\n",
    "        wave_packet += coeff * basis_vector\n",
    "    return wave_packet / np.linalg.norm(wave_packet)\n",
    "psi0 = create_wave_packet(n)\n",
    "\n",
    "#function which solves the Evolutions\n",
    "def solve(tau):    \n",
    "    sol = solve_ivp(derivativen, t_span, psi0, t_eval=times, method='RK45', rtol=1e-8, atol=1e-10, args=(tau,))\n",
    "    return sol\n",
    "\n",
    "# solve\n",
    "tau = 0.1 * t_max\n",
    "result = solve(tau)"
   ],
   "id": "b56abdabf12a10aa",
   "outputs": [],
   "execution_count": null
  },
  {
   "metadata": {
    "jupyter": {
     "is_executing": true
    }
   },
   "cell_type": "code",
   "source": [
    "# Extract the wave function at each time step\n",
    "NPsi1n = result.y\n",
    "\n",
    "# Calculate the probability density |Psi(t)|^2 for each basis state\n",
    "prob_density = np.abs(NPsi1n)**2\n",
    "\n",
    "# Plot the time evolution of the probability density\n",
    "plt.figure(figsize=(10, 6))\n",
    "plt.imshow(prob_density, aspect='auto', origin='lower', cmap='viridis', extent=[0, t_max, 0, n-1])\n",
    "plt.colorbar(label='Probability Density')\n",
    "plt.xlabel('Time')\n",
    "plt.ylabel('State Index')\n",
    "plt.title('Time Evolution of Probability Density')\n",
    "plt.show()"
   ],
   "id": "b357a7e2604039c",
   "outputs": [],
   "execution_count": null
  },
  {
   "metadata": {
    "ExecuteTime": {
     "end_time": "2024-08-07T14:19:52.982430Z",
     "start_time": "2024-08-07T14:19:52.782782Z"
    }
   },
   "cell_type": "code",
   "source": "",
   "id": "d52ce4d5463248bf",
   "outputs": [
    {
     "ename": "NameError",
     "evalue": "name 'NPsi1n_phase' is not defined",
     "output_type": "error",
     "traceback": [
      "\u001B[1;31m---------------------------------------------------------------------------\u001B[0m",
      "\u001B[1;31mNameError\u001B[0m                                 Traceback (most recent call last)",
      "Cell \u001B[1;32mIn[40], line 40\u001B[0m\n\u001B[0;32m     38\u001B[0m ax\u001B[38;5;241m.\u001B[39mset_xlabel(\u001B[38;5;124m'\u001B[39m\u001B[38;5;124mt [microseconds]\u001B[39m\u001B[38;5;124m'\u001B[39m)                 \n\u001B[0;32m     39\u001B[0m ax\u001B[38;5;241m.\u001B[39mset_ylabel(\u001B[38;5;124m'\u001B[39m\u001B[38;5;124mPhases\u001B[39m\u001B[38;5;124m'\u001B[39m) \n\u001B[1;32m---> 40\u001B[0m ax\u001B[38;5;241m.\u001B[39mscatter(times,NPsi1n_phase, s\u001B[38;5;241m=\u001B[39m\u001B[38;5;241m3\u001B[39m, label\u001B[38;5;241m=\u001B[39m\u001B[38;5;124m\"\u001B[39m\u001B[38;5;124mnumerical\u001B[39m\u001B[38;5;124m\"\u001B[39m,color\u001B[38;5;241m=\u001B[39m\u001B[38;5;124m\"\u001B[39m\u001B[38;5;124mgreen\u001B[39m\u001B[38;5;124m\"\u001B[39m) \n\u001B[0;32m     41\u001B[0m ax\u001B[38;5;241m.\u001B[39mscatter(times,PhaseRayleighSchr, s\u001B[38;5;241m=\u001B[39m\u001B[38;5;241m3\u001B[39m, label\u001B[38;5;241m=\u001B[39m\u001B[38;5;124m\"\u001B[39m\u001B[38;5;124mapproximation through peturbation theory\u001B[39m\u001B[38;5;124m\"\u001B[39m,color\u001B[38;5;241m=\u001B[39m\u001B[38;5;124m\"\u001B[39m\u001B[38;5;124mpurple\u001B[39m\u001B[38;5;124m\"\u001B[39m)\n\u001B[0;32m     44\u001B[0m \u001B[38;5;28;01mfrom\u001B[39;00m \u001B[38;5;21;01mmatplotlib\u001B[39;00m\u001B[38;5;21;01m.\u001B[39;00m\u001B[38;5;21;01mticker\u001B[39;00m \u001B[38;5;28;01mimport\u001B[39;00m FuncFormatter\n",
      "\u001B[1;31mNameError\u001B[0m: name 'NPsi1n_phase' is not defined"
     ]
    },
    {
     "data": {
      "text/plain": [
       "<Figure size 800x600 with 1 Axes>"
      ],
      "image/png": "[encoded data removed]"
     },
     "metadata": {},
     "output_type": "display_data"
    }
   ],
   "execution_count": 40
  },
  {
   "metadata": {},
   "cell_type": "code",
   "outputs": [],
   "execution_count": null,
   "source": "",
   "id": "91444270f0e95e11"
  }
 ],
 "metadata": {
  "kernelspec": {
   "display_name": "Python 3",
   "language": "python",
   "name": "python3"
  },
  "language_info": {
   "codemirror_mode": {
    "name": "ipython",
    "version": 2
   },
   "file_extension": ".py",
   "mimetype": "text/x-python",
   "name": "python",
   "nbconvert_exporter": "python",
   "pygments_lexer": "ipython2",
   "version": "2.7.6"
  }
 },
 "nbformat": 4,
 "nbformat_minor": 5
}
