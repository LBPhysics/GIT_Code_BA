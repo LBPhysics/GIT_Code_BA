{
 "cells": [
  {
   "metadata": {},
   "cell_type": "markdown",
   "source": "### They are all equally spaced",
   "id": "3654a3d41dcb94d6"
  },
  {
   "metadata": {
    "ExecuteTime": {
     "end_time": "2024-06-04T20:21:32.262496Z",
     "start_time": "2024-06-04T20:21:28.368842Z"
    }
   },
   "cell_type": "code",
   "source": [
    "from tqdm import tqdm\n",
    "import numpy as np\n",
    "import matplotlib.pyplot as plt\n",
    "from qutip import *\n",
    "from matplotlib.animation import FuncAnimation"
   ],
   "id": "7a8ccd8b-9d55-4c86-86c1-98886873e15c",
   "execution_count": 1,
   "outputs": []
  },
  {
   "metadata": {
    "ExecuteTime": {
     "end_time": "2024-06-04T20:21:32.278495Z",
     "start_time": "2024-06-04T20:21:32.267496Z"
    }
   },
   "cell_type": "code",
   "source": [
    "########################################                 Define constants                   #############################################\n",
    "phi = np.pi/2 #np.arctan(dy/dx)\n",
    "N      = 3\n",
    "\n",
    "x_0    = 0.002\n",
    "x_max  = 2\n",
    "x_size = 150\n",
    "t_max  = 40\n",
    "t_size = 100\n",
    "\n",
    "########################################################################################################################    \n",
    "gamma = 1\n",
    "t_vals = np.linspace(0, t_max, t_size) * gamma\n",
    "x_vals = np.linspace(x_0, x_max, x_size) # Create the distances x = r/lambda0 from x_0 to x_max "
   ],
   "id": "a28616f1726e4513",
   "execution_count": 2,
   "outputs": []
  },
  {
   "metadata": {
    "ExecuteTime": {
     "end_time": "2024-06-04T20:21:32.772390Z",
     "start_time": "2024-06-04T20:21:32.282495Z"
    }
   },
   "cell_type": "code",
   "source": [
    "########################################               define the geometry                 #############################################\n",
    "def dipole_vector(phi):\n",
    "    \"\"\"Returns the dipole vector given its magnitude and direction angle phi.\"\"\"\n",
    "    phi = np.array([np.cos(phi), np.sin(phi)])\n",
    "    return (phi / np.linalg.norm(phi))\n",
    "d_hat = dipole_vector(phi)\n",
    "\n",
    "def atom_positions(N: int, distance: float = 1):\n",
    "    \"\"\"Returns the positions of the N atoms in a 2D shape.\"\"\"\n",
    "    # Start with an initial guess for x\n",
    "    x = distance / (2 * np.sin(np.pi / N))\n",
    "\n",
    "    # Define a function to calculate the distance between adjacent atoms\n",
    "    def calculate_distances(x):\n",
    "        angles = np.linspace(0, 2 * np.pi, N, endpoint=False)\n",
    "        adjusted_angles = angles + np.pi / N\n",
    "        x_coords = np.cos(adjusted_angles) * x\n",
    "        y_coords = np.sin(adjusted_angles) * x\n",
    "        pos = np.column_stack((x_coords, y_coords))\n",
    "        distances = np.linalg.norm(np.diff(np.vstack((pos, pos[0])), axis=0), axis=1)\n",
    "        return distances\n",
    "\n",
    "    # Use an iterative approach to adjust x until the desired distance condition is met\n",
    "    def optimize_x(x):\n",
    "        distances = calculate_distances(x)\n",
    "        return np.abs(np.mean(distances) - distance)\n",
    "\n",
    "    # Use scipy.optimize to find the optimal value of x\n",
    "    from scipy.optimize import minimize\n",
    "    result = minimize(optimize_x, x, method='Nelder-Mead')\n",
    "\n",
    "    if result.success:\n",
    "        x = result.x[0]\n",
    "    else:\n",
    "        raise ValueError(\"Optimization failed.\")\n",
    "\n",
    "    # Calculate the final positions using the optimized x\n",
    "    angles = np.linspace(0, 2 * np.pi, N, endpoint=False)\n",
    "    adjusted_angles = angles + np.pi / N\n",
    "    x_coords = np.cos(adjusted_angles) * x\n",
    "    y_coords = np.sin(adjusted_angles) * x\n",
    "    pos = np.column_stack((x_coords, y_coords))\n",
    "\n",
    "    return pos\n",
    "\n",
    "positions = atom_positions(N)\n",
    "print(positions)\n",
    "# Find the highest x_value\n",
    "max_x = np.max(positions[:, 0])\n",
    "scale = 0.3 * max_x\n",
    "# Plot the atom positions\n",
    "plt.figure(figsize=(8, 6))\n",
    "plt.plot(positions[:, 0], positions[:, 1], 'o', markersize=10, label='atoms')\n",
    "plt.arrow(0, 0, d_hat[0] * scale, d_hat[1] * scale, \n",
    "          head_width=0.5*scale, head_length=0.5*scale, fc='r', ec='r', label='dipole vec')\n",
    "# Plot dipole vectors\n",
    "for i, position in enumerate(positions):\n",
    "    plt.arrow(position[0], position[1], d_hat[0] * scale, d_hat[1] * scale, \n",
    "              head_width=0.2*scale, head_length=0.2*scale, fc='r', ec='r')\n",
    "\n",
    "plt.xlabel('x')\n",
    "plt.ylabel('y')\n",
    "plt.grid(True)\n",
    "plt.legend()\n",
    "plt.axis('equal')\n",
    "plt.show()"
   ],
   "id": "39c575483e1943b9",
   "execution_count": 3,
   "outputs": []
  },
  {
   "metadata": {
    "ExecuteTime": {
     "end_time": "2024-06-04T20:21:32.819494Z",
     "start_time": "2024-06-04T20:21:32.776392Z"
    }
   },
   "cell_type": "code",
   "source": [
    "########################################             create the Hamiltonean                 #################################################\n",
    "def ladder_operator(i, N, operator_type):\n",
    "    if i <= 0 or i > N:\n",
    "        raise ValueError(\"Index i out of range. Use 1 <= i <= N\")\n",
    "    if operator_type not in ['lowering', 'raising']:\n",
    "        raise ValueError(\"Invalid operator type. Use 'lowering' or 'raising'.\")\n",
    "    if operator_type == 'lowering':\n",
    "        op_atom = destroy(2)  # Outer product |g⟩⟨e| = ((0,1), (0,0))\n",
    "    else:\n",
    "        op_atom = create(2)  # Outer product |e⟩⟨g| = ((0,0), (1,0))\n",
    "    identity_list = [qeye(2) for _ in range(N)]\n",
    "    identity_list[i - 1] = op_atom\n",
    "    op = tensor(identity_list)\n",
    "    return op\n",
    "\n",
    "def single_excitation_basis(N):\n",
    "    basis_states = []\n",
    "    for i in range(N):\n",
    "        state_list = [basis(2, 0)] * N\n",
    "        state_list[i] = basis(2, 1)\n",
    "        basis_state = tensor(state_list)\n",
    "        basis_states.append(basis_state)\n",
    "    return basis_states\n",
    "\n",
    "def generic_superposition(basis_states, coefficients=None):\n",
    "    N = len(basis_states)\n",
    "    if coefficients is None:\n",
    "        coefficients = np.random.rand(N) + 1j * np.random.rand(N)\n",
    "        coefficients /= np.linalg.norm(coefficients)\n",
    "    \n",
    "    superposition = sum(c * state for c, state in zip(coefficients, basis_states))\n",
    "    return superposition.unit()\n",
    "\n",
    "\n",
    "def effective_hamiltonian(d_hat: np.array,gamma: float, distance: float, N: int):\n",
    "    pos = atom_positions(N, distance)\n",
    "    H_V = 0\n",
    "    H_Gamma = 0\n",
    "    for i in range(N):\n",
    "        for j in range(N):\n",
    "            V_ij = 0\n",
    "            if i == j:\n",
    "                Gamma_ij = gamma\n",
    "            else:\n",
    "                r_ij = pos[j] - pos[i]\n",
    "                x = np.linalg.norm(r_ij)\n",
    "                r_hat_ij = r_ij / x\n",
    "                k = 2 * np.pi * x\n",
    "                dot_ij = np.dot(d_hat, r_hat_ij)\n",
    "\n",
    "                Gamma_ij = 3/2 * gamma * ((1 - (dot_ij)**2) * np.sin(k) / k +\n",
    "                                          (1 - 3 * (dot_ij)**2) * (np.cos(k)/k**2 -\n",
    "                                                                   np.sin(k) / k**3))\n",
    "\n",
    "                V_ij = - 3/4 * gamma * ((1 - (dot_ij)**2) * np.cos(k) / k -\n",
    "                                        (1 - 3 * (dot_ij)**2) * (np.sin(k)/k**2 +\n",
    "                                                                 np.cos(k) / k**3))\n",
    "                \n",
    "            raising_op_i  = ladder_operator(i+1, N, 'raising')\n",
    "            lowering_op_j = ladder_operator(j+1, N, 'lowering')\n",
    "                \n",
    "            H_Gamma += Gamma_ij * (raising_op_i * lowering_op_j)\n",
    "            H_V     += V_ij     * (raising_op_i * lowering_op_j)\n",
    "\n",
    "    return H_V - 1/2 * 1j * H_Gamma\n",
    "\n",
    "\n",
    "def reduced_H(H_list: list):\n",
    "    H_reduced_list = []\n",
    "    # Generate the single excitation basis: N elems with dimension 2**N\n",
    "    single_exc_basis = single_excitation_basis(N)\n",
    "\n",
    "    # Reduce the Hamiltonians to the single excitation subspace\n",
    "    for H in H_list:\n",
    "        H_reduced = np.zeros((N, N), dtype=complex)\n",
    "        for i, bra in enumerate(single_exc_basis):\n",
    "            for j, ket in enumerate(single_exc_basis):\n",
    "                H_reduced[i, j] = H.matrix_element(bra.dag(), ket)\n",
    "        H_reduced_list.append(Qobj(H_reduced))\n",
    "\n",
    "    return [Qobj(H) for H in H_reduced_list]\n"
   ],
   "id": "16b5a90d3d29a739",
   "execution_count": 4,
   "outputs": []
  },
  {
   "metadata": {
    "ExecuteTime": {
     "end_time": "2024-06-04T20:21:47.825553Z",
     "start_time": "2024-06-04T20:21:47.773322Z"
    }
   },
   "cell_type": "code",
   "source": [
    "# example form of the Hamiltonean\n",
    "H_ex = effective_hamiltonian(d_hat, 1, 1, N)\n",
    "H_red_ex = reduced_H([H_ex])\n",
    "H_ex"
   ],
   "id": "73ab95c533458b14",
   "execution_count": 5,
   "outputs": []
  },
  {
   "metadata": {
    "ExecuteTime": {
     "end_time": "2024-06-04T20:21:48.225837Z",
     "start_time": "2024-06-04T20:21:48.201835Z"
    }
   },
   "cell_type": "code",
   "source": [
    "def calculate_norms(x_vals, t_vals, H_list, Psi_0):\n",
    "    all_norms = []\n",
    "    for i, x in enumerate(x_vals):\n",
    "        H = H_list[i]\n",
    "        norms = []\n",
    "\n",
    "        progress_bar = tqdm(t_vals, desc=f\"Calculating norms for x={x:.2f}\", unit=\"timestep\", leave=False)\n",
    "        for t in progress_bar:\n",
    "            U = (-1j * H * t).expm()\n",
    "            Psi_t = U * Psi_0\n",
    "            norm_sq = Psi_t.norm()**2\n",
    "            norms.append(norm_sq)\n",
    "\n",
    "        all_norms.append(norms)\n",
    "    return all_norms"
   ],
   "id": "bbe2f5140db4430f",
   "execution_count": 6,
   "outputs": []
  },
  {
   "metadata": {
    "ExecuteTime": {
     "end_time": "2024-06-04T20:21:53.146604Z",
     "start_time": "2024-06-04T20:21:50.189281Z"
    }
   },
   "cell_type": "code",
   "source": "H_list = [effective_hamiltonian(d_hat, gamma, dist, N) for dist in x_vals]",
   "id": "fa714f17530586e7",
   "execution_count": 7,
   "outputs": []
  },
  {
   "metadata": {
    "ExecuteTime": {
     "end_time": "2024-05-28T13:11:49.444472Z",
     "start_time": "2024-05-28T13:11:49.428846Z"
    }
   },
   "cell_type": "code",
   "source": "#############################################---------        N x N case           ---------###########################################################",
   "id": "e3ee88ecbae8fe49",
   "execution_count": 117,
   "outputs": []
  },
  {
   "metadata": {
    "ExecuteTime": {
     "end_time": "2024-05-28T13:11:53.308823Z",
     "start_time": "2024-05-28T13:11:49.444472Z"
    }
   },
   "cell_type": "code",
   "source": [
    "H_red_list = reduced_H(H_list)\n",
    "print('NxN H_eff:', H_red_list[0])\n",
    "\n",
    "#Psi_01 = generic_superposition([basis(N, i) for i in range(N-1)])\n",
    "Psi_01 = (basis(N,0)-basis(N,1)).unit() # only one atom is excited\n",
    "print('Psi(0):', Psi_01)\n",
    "norms = calculate_norms(x_vals, t_vals, H_red_list, Psi_01)"
   ],
   "id": "af73d3dded59dd41",
   "execution_count": 118,
   "outputs": []
  },
  {
   "metadata": {
    "ExecuteTime": {
     "end_time": "2024-05-28T13:11:54.107817Z",
     "start_time": "2024-05-28T13:11:53.308823Z"
    }
   },
   "cell_type": "code",
   "source": [
    "plt.figure(figsize=(15, 5))\n",
    "for i, x in enumerate(x_vals):\n",
    "    plt.plot(t_vals, norms[i], label=f'x={x:.2f}')\n",
    "\n",
    "plt.plot(t_vals, np.exp(-t_vals), 'r--', linewidth=2.5, label=r'exp(-$\\gamma t$)')\n",
    "\n",
    "# Final plot adjustments\n",
    "plt.xlabel(r'$\\gamma t$')\n",
    "plt.ylabel(r'$P_{sur(t)} = < \\Psi_t | \\Psi_t >$')\n",
    "plt.title('H is N x N; for symmetric distance values')\n",
    "#plt.legend()\n",
    "plt.show()"
   ],
   "id": "7707b07e19f58f1b",
   "execution_count": 119,
   "outputs": []
  },
  {
   "metadata": {
    "ExecuteTime": {
     "end_time": "2024-05-28T13:12:04.152469Z",
     "start_time": "2024-05-28T13:11:54.107817Z"
    }
   },
   "cell_type": "code",
   "source": [
    "fig, ax = plt.subplots(figsize=(15, 5))\n",
    "line, = ax.plot([], [], lw=2)\n",
    "exp_line, = ax.plot(t_vals, np.exp(-t_vals), 'r--', linewidth=2.5, label=r'exp(-$\\gamma t$)')\n",
    "ax.set_xlabel(r'$\\gamma t$')\n",
    "ax.set_ylabel(r'$P_{sur(t)} = < \\Psi_t | \\Psi_t >$')\n",
    "ax.set_title('H is N x N; for symmetric distance values')\n",
    "ax.legend()\n",
    "\n",
    "def init():\n",
    "    line.set_data([], [])\n",
    "    return line, exp_line\n",
    "\n",
    "def update(frame):\n",
    "    x = x_vals[frame]\n",
    "    norm = norms[frame]\n",
    "    line.set_data(t_vals, norm)\n",
    "    line.set_label(f'x={x:.2f}')\n",
    "    ax.legend()\n",
    "    return line, exp_line\n",
    "\n",
    "ani = FuncAnimation(fig, update, frames=len(x_vals), init_func=init, blit=True, repeat=False)\n",
    "ani.save('N_.mp4', writer='ffmpeg')\n",
    "plt.show()"
   ],
   "id": "4a6c60f1616d4f1e",
   "execution_count": 120,
   "outputs": []
  },
  {
   "metadata": {
    "ExecuteTime": {
     "end_time": "2024-05-29T12:35:20.589154Z",
     "start_time": "2024-05-29T12:35:18.796669Z"
    }
   },
   "cell_type": "code",
   "source": [
    "# Extract the phase of the off-diagonal elements. this code only makes sense for symmetric distances\n",
    "# H_12 = V_12 - i / 2 G_12 == R * exp(i phi(x))\n",
    "# also for H_13, H_230\n",
    "# plot phi(distances)\n",
    "H_list = [effective_hamiltonian(d_hat, gamma, dist, N) for dist in x_vals]\n",
    "H_red_list = reduced_H(H_list)\n",
    "\n",
    "# Calculate the phases for the off-diagonal elements\n",
    "phases_12 = [np.angle(H[0, 1]) / np.pi for H in H_red_list]\n",
    "phases_13 = [np.angle(H[0, 2]) / np.pi for H in H_red_list]\n",
    "phases_23 = [np.angle(H[1, 2]) / np.pi for H in H_red_list]\n",
    "\n",
    "# Plotting the phases   \n",
    "plt.figure(figsize=(15, 5))\n",
    "plt.plot(x_vals, phases_12, label=r'$H_{12}$')\n",
    "plt.plot(x_vals, phases_13, label=r'$H_{31}$') #its the same as 12\n",
    "\n",
    "plt.xlabel(r'Distance x / $\\lambda_0$')\n",
    "plt.ylabel(r'Phase / $\\pi$')\n",
    "plt.title('Phase of off-diagonal entries of H over distances')\n",
    "plt.legend()\n",
    "plt.savefig('phase_plot.png', dpi=300)  \n",
    "plt.show()"
   ],
   "id": "e7e67def0d00dcd7",
   "execution_count": 22,
   "outputs": []
  },
  {
   "metadata": {},
   "cell_type": "markdown",
   "source": "## It does matter whether or not I reduce the Hamiltonean!!",
   "id": "e0c9eae97fe8cefa"
  },
  {
   "metadata": {},
   "cell_type": "code",
   "execution_count": 78,
   "source": "#############################################---------      2^N x 2^N case         ----------##################################################",
   "id": "5ee41b0955a9eb30",
   "outputs": []
  },
  {
   "metadata": {},
   "cell_type": "code",
   "execution_count": 79,
   "source": [
    "#### x = lambda / 2 case:\n",
    "x_special = 0.5\n",
    "x_vals_ = np.concatenate((x_vals[[0, int(x_size/2), -1]], np.array([x_special])))\n",
    "\n",
    "print(f'2^{N} x 2^{N} H_eff: ', H_list[0])\n",
    "\n",
    "single_exc_basis = single_excitation_basis(N)\n",
    "#Psi_0 = generic_superposition(single_exc_basis)\n",
    "Psi_0 = (single_exc_basis[N-1] + single_exc_basis[N-2]).unit()  # only the first atom is excited\n",
    "print('Psi(0):', Psi_0)\n",
    "\n",
    "norms = calculate_norms(x_vals, t_vals, H_list, Psi_0)"
   ],
   "id": "3f73d096c107c88b",
   "outputs": []
  },
  {
   "metadata": {},
   "cell_type": "code",
   "execution_count": 80,
   "source": [
    "plt.figure(figsize=(15, 5))\n",
    "for i, x in enumerate(x_vals):\n",
    "    plt.plot(t_vals, norms[i], label=f'x={x:.2f}')\n",
    "\n",
    "plt.plot(t_vals, np.exp(-t_vals), 'r--', linewidth=2.5, label=r'exp(-$\\gamma t$)')\n",
    "\n",
    "# Final plot adjustments\n",
    "plt.xlabel(r'$\\gamma t$')\n",
    "plt.ylabel(r'$P_{sur(t)} = < \\Psi_t | \\Psi_t >$')\n",
    "plt.title('H is2^N x 2^N; for symmetric distance values')\n",
    "#plt.legend()\n",
    "plt.show()"
   ],
   "id": "f843b4291baf8ce4",
   "outputs": []
  },
  {
   "metadata": {},
   "cell_type": "code",
   "execution_count": 81,
   "source": [
    "fig, ax = plt.subplots(figsize=(15, 5))\n",
    "line, = ax.plot([], [], lw=2)\n",
    "exp_line, = ax.plot(t_vals, np.exp(-t_vals), 'r--', linewidth=2.5, label=r'exp(-$\\gamma t$)')\n",
    "ax.set_xlabel(r'$\\gamma t$')\n",
    "ax.set_ylabel(r'$P_{sur(t)} = < \\Psi_t | \\Psi_t >$')\n",
    "ax.set_title('H is 2^N x 2^N; for symmetric distance values')\n",
    "ax.legend()\n",
    "\n",
    "def init():\n",
    "    line.set_data([], [])\n",
    "    return line, exp_line\n",
    "\n",
    "def update(frame):\n",
    "    x = x_vals[frame]\n",
    "    norm = norms[frame]\n",
    "    line.set_data(t_vals, norm)\n",
    "    line.set_label(f'x={x:.2f}')\n",
    "    ax.legend()\n",
    "    return line, exp_line\n",
    "\n",
    "ani = FuncAnimation(fig, update, frames=len(x_vals), init_func=init, blit=True, repeat=False)\n",
    "ani.save('N_sq.mp4', writer='ffmpeg')\n",
    "plt.show()"
   ],
   "id": "5eccdaf80b43531a",
   "outputs": []
  }
 ],
 "metadata": {
  "kernelspec": {
   "display_name": "Python 3 (ipykernel)",
   "language": "python",
   "name": "python3"
  },
  "language_info": {
   "codemirror_mode": {
    "name": "ipython",
    "version": 3
   },
   "file_extension": ".py",
   "mimetype": "text/x-python",
   "name": "python",
   "nbconvert_exporter": "python",
   "pygments_lexer": "ipython3",
   "version": "3.8.8"
  }
 },
 "nbformat": 4,
 "nbformat_minor": 5
}
