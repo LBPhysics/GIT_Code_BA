{
 "cells": [
  {
   "metadata": {},
   "cell_type": "markdown",
   "source": "### They are all equally spaced",
   "id": "3654a3d41dcb94d6"
  },
  {
   "metadata": {
    "ExecuteTime": {
     "end_time": "2024-06-10T07:31:49.002668Z",
     "start_time": "2024-06-10T07:31:46.046121Z"
    }
   },
   "cell_type": "code",
   "source": [
    "from tqdm import tqdm\n",
    "import numpy as np\n",
    "import matplotlib.pyplot as plt\n",
    "from qutip import *\n",
    "from matplotlib.animation import FuncAnimation\n",
    "import os"
   ],
   "id": "7a8ccd8b-9d55-4c86-86c1-98886873e15c",
   "outputs": [],
   "execution_count": 3
  },
  {
   "metadata": {
    "ExecuteTime": {
     "end_time": "2024-06-10T07:58:04.419467Z",
     "start_time": "2024-06-10T07:58:04.413625Z"
    }
   },
   "cell_type": "code",
   "source": [
    "save_path = r'C:\\Users\\leopo\\OneDrive - UT Cloud\\Uni\\Semester_8\\BA_mit_Git\\BA_Plots\\Qutip'\n",
    "os.makedirs(os.path.dirname(save_path), exist_ok=True)"
   ],
   "id": "4f7e2ea8cb7a5bd7",
   "outputs": [
    {
     "ename": "SyntaxError",
     "evalue": "unterminated string literal (detected at line 1) (1966478977.py, line 1)",
     "output_type": "error",
     "traceback": [
      "\u001B[1;36m  Cell \u001B[1;32mIn[25], line 1\u001B[1;36m\u001B[0m\n\u001B[1;33m    save_path = r'C:\\Users\\leopo\\OneDrive - UT Cloud\\Uni\\Semester_8\\BA_mit_Git\\BA_Plots\\Qutip\\'\u001B[0m\n\u001B[1;37m                ^\u001B[0m\n\u001B[1;31mSyntaxError\u001B[0m\u001B[1;31m:\u001B[0m unterminated string literal (detected at line 1)\n"
     ]
    }
   ],
   "execution_count": 25
  },
  {
   "metadata": {
    "ExecuteTime": {
     "end_time": "2024-06-10T08:03:53.037846Z",
     "start_time": "2024-06-10T08:03:53.030898Z"
    }
   },
   "cell_type": "code",
   "source": [
    "########################################                 Define constants                   #############################################\n",
    "N = 2\n",
    "\n",
    "g_0      = -0.5\n",
    "g_max    = 1\n",
    "g_size   = 100\n",
    "\n",
    "x_0      = 0.2\n",
    "x_max    = 0.6\n",
    "x_size   = 50\n",
    "\n",
    "phi_0    = 0\n",
    "phi_max  = 2 * np.pi / 3\n",
    "phi_size = 100 # must be even\n",
    "\n",
    "t_max    = 40\n",
    "t_size   = 100\n",
    "\n",
    "fixed_dist  = 1\n",
    "fixed_d_hat = np.array([1, 1]) / np.sqrt(2)\n",
    "fixed_gamma = 1\n",
    "fixed_dist  = 1\n",
    "\n",
    "########################################################################################################################    \n",
    "times  = np.linspace(0, t_max, t_size) * fixed_gamma\n",
    "phis   = np.linspace(phi_0, phi_max, phi_size)\n",
    "dists  = np.linspace(x_0, x_max, x_size)\n",
    "gammas = np.linspace(g_0, g_max, x_size)"
   ],
   "id": "a28616f1726e4513",
   "outputs": [],
   "execution_count": 35
  },
  {
   "metadata": {
    "ExecuteTime": {
     "end_time": "2024-06-10T08:03:42.029315Z",
     "start_time": "2024-06-10T08:03:41.803620Z"
    }
   },
   "cell_type": "code",
   "source": [
    "########################################               define the geometry                 #############################################\n",
    "def dipole_vector(phi: float):\n",
    "    \"\"\"Returns the dipole vector given its magnitude and direction angle phi.\"\"\"\n",
    "    phi = np.array([np.cos(phi), np.sin(phi), 0])\n",
    "    return (phi / np.linalg.norm(phi))\n",
    "d_hats = np.array([dipole_vector(phi) for phi in phis])\n",
    "\n",
    "def z_rotation(angle):\n",
    "    return np.array([\n",
    "        [np.cos(angle), -np.sin(angle), 0],\n",
    "        [np.sin(angle), np.cos(angle), 0],\n",
    "        [0, 0, 1]\n",
    "    ])\n",
    "\n",
    "def positions(distance = fixed_dist, \n",
    "              N = N):\n",
    "    Pos = np.zeros((N, 3))\n",
    "\n",
    "    mu = 2 * np.pi / N\n",
    "    radius = distance / 2 / np.sin(np.pi / N)\n",
    "    helper = np.array([radius, 0, 0])\n",
    "    for i in range(N):\n",
    "        rotation_matrix = np.linalg.matrix_power(z_rotation(mu), i)\n",
    "        Pos[i] = np.matmul(rotation_matrix, helper)\n",
    "    \n",
    "    return Pos\n",
    "\n",
    "positions = positions(N)\n",
    "print(positions)\n",
    "\n",
    "# Find the highest x_value\n",
    "max_x = np.max(positions[:, 0])\n",
    "scale = 0.3 * max_x\n",
    "# Plot the atom positions\n",
    "fig, ax = plt.subplots(figsize=(15, 8))\n",
    "def update(frame):\n",
    "    ax.clear()\n",
    "    d_hat = d_hats[frame]\n",
    "    ax.plot(positions[:, 0], positions[:, 1], 'o', markersize=10, label='atoms')\n",
    "    ax.arrow(0, 0, d_hat[0] * scale, d_hat[1] * scale, \n",
    "             head_width=0.5*scale, head_length=0.5*scale, fc='r', ec='r', label='dipole vec')\n",
    "    for i, position in enumerate(positions):\n",
    "        ax.arrow(position[0], position[1], d_hat[0] * scale, d_hat[1] * scale, \n",
    "                 head_width=0.2*scale, head_length=0.2*scale, fc='r', ec='r')\n",
    "    ax.set_xlabel('x')\n",
    "    ax.set_ylabel('y')\n",
    "    ax.grid(True)\n",
    "    ax.legend()\n",
    "    ax.axis('equal')\n",
    "    ax.set_title(f'Dipole vector for phi={phis[frame]:.2f}')\n",
    "\n",
    "# Create the animation\n",
    "ani = FuncAnimation(fig, update, frames=phi_size, repeat=False)\n",
    "#ani.save(save_path + f'/N={N}_dipole_vector_movement.gif', writer='pillow', fps=10)\n",
    "#plt.show()"
   ],
   "id": "39c575483e1943b9",
   "outputs": [
    {
     "name": "stdout",
     "output_type": "stream",
     "text": [
      "[[ 2.82842712e+00  0.00000000e+00  0.00000000e+00]\n",
      " [ 1.73191211e-16  2.82842712e+00  0.00000000e+00]\n",
      " [-2.82842712e+00  3.46382422e-16  0.00000000e+00]\n",
      " [-5.19573634e-16 -2.82842712e+00  0.00000000e+00]]\n"
     ]
    },
    {
     "data": {
      "text/plain": [
       "<Figure size 1500x800 with 1 Axes>"
      ],
      "image/png": "[encoded data removed]"
     },
     "metadata": {},
     "output_type": "display_data"
    }
   ],
   "execution_count": 34
  },
  {
   "metadata": {
    "ExecuteTime": {
     "end_time": "2024-06-10T07:31:35.631017Z",
     "start_time": "2024-06-10T07:31:35.578402Z"
    }
   },
   "cell_type": "code",
   "source": [
    "########################################             create the Hamiltonean                 #################################################\n",
    "#jetzt direkter weg zur NxN matrix\n",
    "def H_eff(N: int,\n",
    "          distance: float = fixed_dist, \n",
    "          d_hat: np.array = fixed_d_hat,\n",
    "          gamma: float = fixed_gamma):\n",
    "\n",
    "    H_eff_matrix = np.zeros((N, N), dtype=complex)\n",
    "    pos = atom_positions(N, distance)\n",
    "\n",
    "    for i in range(N):\n",
    "        for j in range(N):\n",
    "            V_ij = 0\n",
    "            if i == j:\n",
    "                Gamma_ij = gamma\n",
    "            else:\n",
    "                r_ij = pos[j] - pos[i]\n",
    "                x = np.linalg.norm(r_ij)\n",
    "                r_hat_ij = r_ij / x\n",
    "                k = 2 * np.pi * x\n",
    "                dot_ij = np.dot(d_hat, r_hat_ij)\n",
    "\n",
    "                Gamma_ij = 3/2 * gamma * ((1 - (dot_ij)**2) * np.sin(k) / k +\n",
    "                                          (1 - 3 * (dot_ij)**2) * (np.cos(k)/k**2 -\n",
    "                                                                   np.sin(k) / k**3))\n",
    "\n",
    "                V_ij = - 3/4 * gamma * ((1 - (dot_ij)**2) * np.cos(k) / k -\n",
    "                                        (1 - 3 * (dot_ij)**2) * (np.sin(k)/k**2 +\n",
    "                                                                 np.cos(k) / k**3))\n",
    "\n",
    "            matrix_element = V_ij - 1j * 0.5 * Gamma_ij\n",
    "            H_eff_matrix[i, j] = matrix_element\n",
    "            \n",
    "#            self._Gamma = matrix_element.imag  ???????\n",
    "    return Qobj(H_eff_matrix)\n",
    "H_ex = H_eff(N)\n",
    "H_ex"
   ],
   "id": "16b5a90d3d29a739",
   "outputs": [
    {
     "ename": "NameError",
     "evalue": "name 'fixed_dist' is not defined",
     "output_type": "error",
     "traceback": [
      "\u001B[1;31m---------------------------------------------------------------------------\u001B[0m",
      "\u001B[1;31mNameError\u001B[0m                                 Traceback (most recent call last)",
      "Cell \u001B[1;32mIn[2], line 4\u001B[0m\n\u001B[0;32m      1\u001B[0m \u001B[38;5;66;03m########################################             create the Hamiltonean                 #################################################\u001B[39;00m\n\u001B[0;32m      2\u001B[0m \u001B[38;5;66;03m#jetzt direkter weg zur NxN matrix\u001B[39;00m\n\u001B[0;32m      3\u001B[0m \u001B[38;5;28;01mdef\u001B[39;00m \u001B[38;5;21mH_eff\u001B[39m(N: \u001B[38;5;28mint\u001B[39m,\n\u001B[1;32m----> 4\u001B[0m           distance: \u001B[38;5;28mfloat\u001B[39m \u001B[38;5;241m=\u001B[39m fixed_dist, \n\u001B[0;32m      5\u001B[0m           d_hat: np\u001B[38;5;241m.\u001B[39marray \u001B[38;5;241m=\u001B[39m fixed_d_hat,\n\u001B[0;32m      6\u001B[0m           gamma: \u001B[38;5;28mfloat\u001B[39m \u001B[38;5;241m=\u001B[39m fixed_gamma):\n\u001B[0;32m      8\u001B[0m     H_eff_matrix \u001B[38;5;241m=\u001B[39m np\u001B[38;5;241m.\u001B[39mzeros((N, N), dtype\u001B[38;5;241m=\u001B[39m\u001B[38;5;28mcomplex\u001B[39m)\n\u001B[0;32m      9\u001B[0m     pos \u001B[38;5;241m=\u001B[39m atom_positions(N, distance)\n",
      "\u001B[1;31mNameError\u001B[0m: name 'fixed_dist' is not defined"
     ]
    }
   ],
   "execution_count": 2
  },
  {
   "metadata": {
    "ExecuteTime": {
     "end_time": "2024-06-10T07:30:22.773587Z",
     "start_time": "2024-06-10T07:30:21.960503Z"
    }
   },
   "cell_type": "code",
   "source": [
    "def calc_norm(times: np.array,\n",
    "              distance = fixed_dist,\n",
    "              gamma    = fixed_gamma,\n",
    "              d_hat    = fixed_d_hat,\n",
    "              Psi_0    = basis(N, 0)):\n",
    "    '''          works for NxN ^ matrices\n",
    "    Calculate the probability of transitioning from an initial state to a final state     over a given time, given the parameters of the Hamiltonian.    '''\n",
    "    H = H_eff_red(N, distance, d_hat, gamma)\n",
    "    all_norms = []\n",
    "    for t in times:\n",
    "        U = (-1j * H * t).expm()\n",
    "        Psi_t = U * Psi_0\n",
    "        norm_sq = Psi_t.norm()**2\n",
    "        all_norms.append(norm_sq)\n",
    "    return np.array(all_norms)\n",
    "\n",
    "def Norms(times: np.array,\n",
    "          distances = np.array([fixed_dist]),\n",
    "          gammas    = np.array([fixed_gamma]),\n",
    "          d_hats    = np.array([fixed_d_hat]),\n",
    "          Psi_0     = basis(N, 0),\n",
    "          animate_dist = False, animate_dipole = False, animate_gamma = False): # only one at a time\n",
    "    ''' works for NxN   ^ matrices '''    \n",
    "    norms = np.zeros((len(gammas), len(distances), len(d_hats), len(times)), dtype=float)\n",
    "    filename_prefix = ''\n",
    "    \n",
    "    if animate_dist:\n",
    "        for c_idx, dist in enumerate(tqdm(distances, desc='Coefficients')):\n",
    "            for d_idx, d_hat in enumerate(d_hats):\n",
    "                for g_idx, gamma in enumerate(gammas):\n",
    "                    norms[g_idx, c_idx, d_idx, :] = calc_norm(times, distance=dist, gamma=gamma, d_hat=d_hat, Psi_0=Psi_0)\n",
    "\n",
    "        for g_idx, gamma in enumerate(gammas):\n",
    "            for d_idx, d_hat in enumerate(d_hats):\n",
    "                filename_prefix = f'Ps_g={gamma:.2f}_dipole=[{d_hat[0]:.2f},{d_hat[1]:.2f}]'\n",
    "                DIST_ani(norms[g_idx, :, d_idx, :], filename_prefix, distances)\n",
    "        \n",
    "    if animate_dipole:\n",
    "        for d_idx, d_hat in enumerate(tqdm(d_hats, desc='Dipoles')):\n",
    "            for c_idx, dist in enumerate(distances):\n",
    "                for g_idx, gamma in enumerate(gammas):\n",
    "                    norms[g_idx, c_idx, d_idx, :] = calc_norm(times, distance=dist, gamma=gamma, d_hat=d_hat, Psi_0=Psi_0)\n",
    "    \n",
    "    if animate_gamma:\n",
    "        for g_idx, gamma in enumerate(tqdm(gammas, desc='Gammas')):\n",
    "            for d_idx, d_hat in enumerate(d_hats):\n",
    "                for c_idx, dist in enumerate(distances):\n",
    "                    norms[g_idx, c_idx, d_idx, :] = calc_norm(times, distance=dist, gamma=gamma, d_hat=d_hat, Psi_0=Psi_0)\n",
    "\n",
    "    return norms, filename_prefix\n",
    "    \n",
    "#            progress_bar = tqdm(times, desc=f\"Calculating norms for d_hat index={i}, x={x:.2f}\", unit=\"timestep\", leave=False)"
   ],
   "id": "bbe2f5140db4430f",
   "outputs": [
    {
     "ename": "NameError",
     "evalue": "name 'fixed_dist' is not defined",
     "output_type": "error",
     "traceback": [
      "\u001B[1;31m---------------------------------------------------------------------------\u001B[0m",
      "\u001B[1;31mNameError\u001B[0m                                 Traceback (most recent call last)",
      "Cell \u001B[1;32mIn[1], line 2\u001B[0m\n\u001B[0;32m      1\u001B[0m \u001B[38;5;28;01mdef\u001B[39;00m \u001B[38;5;21mcalc_norm\u001B[39m(times: np\u001B[38;5;241m.\u001B[39marray,\n\u001B[1;32m----> 2\u001B[0m               distance \u001B[38;5;241m=\u001B[39m fixed_dist,\n\u001B[0;32m      3\u001B[0m               gamma    \u001B[38;5;241m=\u001B[39m fixed_gamma,\n\u001B[0;32m      4\u001B[0m               d_hat    \u001B[38;5;241m=\u001B[39m fixed_d_hat,\n\u001B[0;32m      5\u001B[0m               Psi_0    \u001B[38;5;241m=\u001B[39m basis(N, \u001B[38;5;241m0\u001B[39m)):\n\u001B[0;32m      6\u001B[0m \u001B[38;5;250m    \u001B[39m\u001B[38;5;124;03m'''          works for NxN ^ matrices\u001B[39;00m\n\u001B[0;32m      7\u001B[0m \u001B[38;5;124;03m    Calculate the probability of transitioning from an initial state to a final state     over a given time, given the parameters of the Hamiltonian.    '''\u001B[39;00m\n\u001B[0;32m      8\u001B[0m     H \u001B[38;5;241m=\u001B[39m H_eff_red(N, distance, d_hat, gamma)\n",
      "\u001B[1;31mNameError\u001B[0m: name 'fixed_dist' is not defined"
     ]
    }
   ],
   "execution_count": 1
  },
  {
   "metadata": {
    "ExecuteTime": {
     "end_time": "2024-06-10T05:32:47.620963Z",
     "start_time": "2024-06-10T05:32:47.590678Z"
    }
   },
   "cell_type": "code",
   "source": [
    "def DIST_ani(data, filename_prefix, distances):\n",
    "    fig, ax = plt.subplots(figsize=(8, 6))\n",
    "    \n",
    "    def update(frame):\n",
    "        ax.clear()\n",
    "        ax.set_title(f'Distance = {distances[frame]:.2f}')\n",
    "        ax.set_xlabel(\"Time t\")\n",
    "        ax.set_ylabel(r'$P_{sur}$')\n",
    "        ax.plot(times, data[frame], label=f'Distance = {distances[frame]:.2f}')\n",
    "        ax.plot(times, np.exp(-times), 'r--', linewidth=2.5, label=r'exp(-$\\gamma t$)')\n",
    "        ax.legend()\n",
    "    \n",
    "    ani = FuncAnimation(fig, update, frames=len(distances), interval=200)\n",
    "    ani.save(save_path + f'\\DistDep/{filename_prefix}.gif', writer='pillow', fps=10)\n",
    "    plt.close(fig)\n",
    "\n",
    "def DIPOLE_ani(data, filename_prefix, dipoles):\n",
    "    fig, ax = plt.subplots(figsize=(8, 6))\n",
    "\n",
    "    def update(frame):\n",
    "        ax.clear()\n",
    "        ax.set_title(f'Dipole = {dipoles[frame]:.2f}')\n",
    "        ax.set_xlabel(\"Time t\")\n",
    "        ax.set_ylabel(r'$P_{sur}$')\n",
    "        ax.plot(times, data[frame], label=f'Dipole = {dipoles[frame]:.2f}')\n",
    "        ax.plot(times, np.exp(-times), 'r--', linewidth=2.5, label=r'exp(-$\\gamma t$)')\n",
    "        ax.legend()\n",
    "\n",
    "    ani = FuncAnimation(fig, update, frames=len(dipoles), interval=200)\n",
    "    ani.save(save_path + f'\\DipoleDep/{filename_prefix}.gif', writer='pillow', fps=10)\n",
    "    plt.close(fig)\n",
    "\n",
    "def GAMMA_ani(data, filename_prefix, gammas):\n",
    "    fig, ax = plt.subplots(figsize=(8, 6))\n",
    "\n",
    "    def update(frame):\n",
    "        ax.clear()\n",
    "        ax.set_title(f'Gamma = {gammas[frame]:.2f}')\n",
    "        ax.set_xlabel(\"Time t\")\n",
    "        ax.set_ylabel(r'$P_{sur}$')\n",
    "        ax.plot(times, data[frame], label=f'Gamma = {gammas[frame]:.2f}')\n",
    "        ax.plot(times, np.exp(-times), 'r--', linewidth=2.5, label=r'exp(-$\\gamma t$)')\n",
    "        ax.legend()\n",
    "\n",
    "    ani = FuncAnimation(fig, update, frames=len(gammas), interval=200)\n",
    "    ani.save(save_path + f'\\GammaDep/{filename_prefix}.gif', writer='pillow', fps=10)\n",
    "    plt.close(fig)"
   ],
   "id": "3e2fd5f6481dd479",
   "outputs": [],
   "execution_count": 8
  },
  {
   "metadata": {
    "ExecuteTime": {
     "end_time": "2024-06-10T05:32:48.220199Z",
     "start_time": "2024-06-10T05:32:48.209803Z"
    }
   },
   "cell_type": "code",
   "source": "#############################################---------        calculations           ---------###########################################################",
   "id": "e3ee88ecbae8fe49",
   "outputs": [],
   "execution_count": 9
  },
  {
   "metadata": {
    "ExecuteTime": {
     "end_time": "2024-06-10T05:32:48.571474Z",
     "start_time": "2024-06-10T05:32:48.533220Z"
    }
   },
   "cell_type": "code",
   "source": [
    "################ TRY to get the Wave-packet\n",
    "gamma=1\n",
    "# Annahmen über N und a\n",
    "d = 0.234 * gamma\n",
    "k_s = np.pi\n",
    "sigma = 0.103 * k_s\n",
    "wp_sh = 1 / 4\n",
    "\n",
    "kd_range = np.arange(0, N) * 2 * np.pi / N\n",
    "\n",
    "def calc_T() -> np.ndarray:\n",
    "\n",
    "    T_temp = np.zeros((N, N), dtype=complex)\n",
    "    for i in range(kd_range.size):\n",
    "        T_temp[:, i] = np.exp(1j * np.arange(0, N) * kd_range[i])\n",
    "\n",
    "    return 1 / np.sqrt(N) * T_temp\n",
    "\n",
    "def psi0_reziprokal_ps():\n",
    "    gaussian_state_rs = np.exp(-(kd_range - k_s) ** 2 / (4 * sigma ** 2))\n",
    "    gaussian_state_rs = gaussian_state_rs / np.sqrt(np.vdot(gaussian_state_rs, gaussian_state_rs))\n",
    "    wp_shift = np.exp(-2j * wp_sh * np.pi * np.arange(N))\n",
    "    psi0 = np.matmul(calc_T(), wp_shift * gaussian_state_rs)\n",
    "\n",
    "    return Qobj(psi0[:, np.newaxis])  # Konvertiere zu einem Spaltenvektor\n",
    "\n",
    "Psi_01 = (basis(N,0)-basis(N,1)).unit()\n",
    "psi0 = psi0_reziprokal_ps()\n",
    "\n",
    "gaussian_state_rs = np.exp(-(kd_range - k_s) ** 2 / (4 * sigma ** 2))\n",
    "wp_shift = np.exp(-2j * wp_sh * np.pi * np.arange(N))\n",
    "psi0"
   ],
   "id": "1497c815ea9d9126",
   "outputs": [
    {
     "data": {
      "text/plain": [
       "Quantum object: dims=[[5], [1]], shape=(5, 1), type='ket', dtype=Dense\n",
       "Qobj data =\n",
       "[[-0.31605981+0.31605981j]\n",
       " [ 0.44191918-0.44191918j]\n",
       " [-0.39850732+0.39850732j]\n",
       " [ 0.20279615-0.20279615j]\n",
       " [ 0.0698518 -0.0698518j ]]"
      ],
      "text/latex": "Quantum object: dims=[[5], [1]], shape=(5, 1), type='ket', dtype=Dense$$\\left(\\begin{array}{cc}(-0.316+0.316j)\\\\(0.442-0.442j)\\\\(-0.399+0.399j)\\\\(0.203-0.203j)\\\\(0.070-0.070j)\\end{array}\\right)$$"
     },
     "execution_count": 10,
     "metadata": {},
     "output_type": "execute_result"
    }
   ],
   "execution_count": 10
  },
  {
   "metadata": {},
   "cell_type": "code",
   "source": [
    "dist_norms, dist_ttle   = Norms(times, distances=dists, animate_dist=True, Psi_0=psi0)  # Distance animation\n",
    "#dipole_norms, dip_title = Norms(times, d_hats=d_hats, animate_dipole=True)  # Dipole animation\n",
    "#gamma_norms, gam_title  = Norms(times, gammas=gammas, animate_gamma=True)  # Gamma animation"
   ],
   "id": "a26beb0f47c15662",
   "outputs": [],
   "execution_count": null
  },
  {
   "metadata": {},
   "cell_type": "markdown",
   "source": "## Investigate the Phase",
   "id": "1f6bb9142a3e3590"
  },
  {
   "metadata": {},
   "cell_type": "code",
   "source": [
    "def total_phases(distances, phis):\n",
    "    total_ps = np.zeros((len(phis), len(distances)))\n",
    "    for i, phi in enumerate(tqdm(phis, desc='Iteration')):\n",
    "        for j, distance in enumerate(distances):\n",
    "            H = H_eff_red(N, distance, dipole_vector(phi))\n",
    "            p = (np.angle(H[0, 1]) + np.angle(H[0, 2]) +np.angle(H[1, 2])) / np.pi\n",
    "            total_ps[i, j] = p\n",
    "    return total_ps\n",
    "\n",
    "phases = total_phases(dists, phis)"
   ],
   "id": "cae9c3e5f06ea2a6",
   "outputs": [],
   "execution_count": null
  },
  {
   "metadata": {},
   "cell_type": "code",
   "source": [
    "# plot phi(distances for many dipole orientation)\n",
    "fig, ax = plt.subplots(figsize=(8, 6))\n",
    "def init():\n",
    "    ax.set_title('Phase of off-diagonal entries of H over distance')\n",
    "    return []\n",
    "def update(frame):\n",
    "    ax.clear()\n",
    "    phi = phis[frame]\n",
    "    ax.plot(dists, phases[frame, :], label=r'total Phase/ $\\pi$')\n",
    "    ax.set_xlabel(r'distance x')\n",
    "    ax.set_ylabel(r'Phase / $\\pi$')\n",
    "    ax.set_title(f'Phase of off-diagonal entries of H over distance for $\\phi$={phi:.2f}')\n",
    "    ax.legend()\n",
    "    return []\n",
    "\n",
    "ani = FuncAnimation(fig, update, frames=len(phis), init_func=init, blit=True, repeat=False)\n",
    "\n",
    "# Save the animation as a single GIF file\n",
    "ani.save('phase_animation_distance.gif', writer='pillow', fps=10)\n",
    "\n",
    "plt.show()"
   ],
   "id": "e7e67def0d00dcd7",
   "outputs": [],
   "execution_count": null
  },
  {
   "metadata": {},
   "cell_type": "code",
   "source": [
    "#H_eff(N, distance: float = fixed_dist, d_hat: np.array = fixed_d_hat, gamma: float = fixed_gamma)\n",
    "# Extract the phase of the off-diagonal elements. this code only makes sense for symmetric distances\n",
    "# H_12 = V_12 - i / 2 G_12 == R * exp(i phi(x))\n",
    "# also for H_13, H_23\n",
    "# plot phi(dipole orientation for many distances)\n",
    "fig, ax = plt.subplots(figsize=(8, 6))\n",
    "\n",
    "def init():\n",
    "    ax.set_title('Phase of off-diagonal entries of H over $\\phi$')\n",
    "    ax.grid(True)\n",
    "    ax.axis('equal')\n",
    "    return []\n",
    "\n",
    "def update(frame):\n",
    "    ax.clear()\n",
    "    x_value = dists[frame]\n",
    "    ax.plot(phis, phases[:, frame], label=r'total Phase/ $\\pi$')\n",
    "    ax.set_xlabel(r'Angle $\\phi$')\n",
    "    ax.set_ylabel(r'Phase / $\\pi$')\n",
    "    ax.set_title(f'Phase of off-diagonal entries of H over $\\phi$ for x={x_value:.2f}')\n",
    "    ax.legend()\n",
    "    return []\n",
    "\n",
    "ani = FuncAnimation(fig, update, frames=len(dists), init_func=init, blit=True, repeat=False)\n",
    "\n",
    "# Save the animation as a single GIF file\n",
    "ani.save('phase_animation_phi.gif', writer='ffmpeg', fps=10)\n",
    "\n",
    "plt.show()"
   ],
   "id": "a0a8f7136b5abb84",
   "outputs": [],
   "execution_count": null
  },
  {
   "metadata": {},
   "cell_type": "code",
   "source": "",
   "id": "7c020544bf7e9c06",
   "outputs": [],
   "execution_count": null
  },
  {
   "metadata": {
    "ExecuteTime": {
     "end_time": "2024-06-10T05:32:53.941366Z",
     "start_time": "2024-06-10T05:32:53.847353Z"
    }
   },
   "cell_type": "code",
   "source": [
    "#####################################             old and complicated definition of H_eff                 ###########################################\n",
    "def ladder_operator(i: int, N: int, operator_type):\n",
    "    if i <= 0 or i > N:\n",
    "        raise ValueError(\"Index i out of range. Use 1 <= i <= N\")\n",
    "    if operator_type not in ['lowering', 'raising']:\n",
    "        raise ValueError(\"Invalid operator type. Use 'lowering' or 'raising'.\")\n",
    "    if operator_type == 'lowering':\n",
    "        op_atom = destroy(2)  # Outer product |g⟩⟨e| = ((0,1), (0,0))\n",
    "    else:\n",
    "        op_atom = create(2)  # Outer product |e⟩⟨g| = ((0,0), (1,0))\n",
    "    identity_list = [qeye(2) for _ in range(N)]\n",
    "    identity_list[i - 1] = op_atom\n",
    "    op = tensor(identity_list)\n",
    "    return op\n",
    "\n",
    "def single_excitation_basis(N: int):\n",
    "    basis_states = []\n",
    "    for i in range(N):\n",
    "        state_list = [basis(2, 0)] * N\n",
    "        state_list[i] = basis(2, 1)\n",
    "        basis_state = tensor(state_list)\n",
    "        basis_states.append(basis_state)\n",
    "    return basis_states\n",
    "\n",
    "\n",
    "\n",
    "def generic_superposition(basis_states, coefficients=None):\n",
    "    N = len(basis_states)\n",
    "    if coefficients is None:\n",
    "        coefficients = np.random.rand(N) + 1j * np.random.rand(N)\n",
    "        coefficients /= np.linalg.norm(coefficients)\n",
    "    \n",
    "    superposition = sum(c * state for c, state in zip(coefficients, basis_states))\n",
    "    return superposition.unit()\n",
    "\n",
    "def H_eff(N: int,\n",
    "          distance: float = fixed_dist, \n",
    "          d_hat: np.array = fixed_d_hat,\n",
    "          gamma: float = fixed_gamma):\n",
    "    pos = atom_positions(N, distance)\n",
    "    H_V = 0\n",
    "    H_Gamma = 0\n",
    "    for i in range(N):\n",
    "        for j in range(N):\n",
    "            V_ij = 0\n",
    "            if i == j:\n",
    "                Gamma_ij = gamma\n",
    "            else:\n",
    "                r_ij = pos[j] - pos[i]\n",
    "                x = np.linalg.norm(r_ij)\n",
    "                r_hat_ij = r_ij / x\n",
    "                k = 2 * np.pi * x\n",
    "                dot_ij = np.dot(d_hat, r_hat_ij)\n",
    "\n",
    "                Gamma_ij = 3/2 * gamma * ((1 - (dot_ij)**2) * np.sin(k) / k +\n",
    "                                          (1 - 3 * (dot_ij)**2) * (np.cos(k)/k**2 -\n",
    "                                                                   np.sin(k) / k**3))\n",
    "\n",
    "                V_ij = - 3/4 * gamma * ((1 - (dot_ij)**2) * np.cos(k) / k -\n",
    "                                        (1 - 3 * (dot_ij)**2) * (np.sin(k)/k**2 +\n",
    "                                                                 np.cos(k) / k**3))\n",
    "                \n",
    "            raising_op_i  = ladder_operator(i+1, N, 'raising')\n",
    "            lowering_op_j = ladder_operator(j+1, N, 'lowering')\n",
    "                \n",
    "            H_Gamma += Gamma_ij * (raising_op_i * lowering_op_j)\n",
    "            H_V     += V_ij     * (raising_op_i * lowering_op_j)\n",
    "\n",
    "    return H_V - 1/2 * 1j * H_Gamma\n",
    "\n",
    "def H_eff_red(N: int,\n",
    "              distance: float = fixed_dist, \n",
    "              d_hat: np.array = fixed_d_hat,\n",
    "              gamma: float = fixed_gamma):\n",
    "\n",
    "    H = H_eff(N, distance, d_hat, gamma)\n",
    "    single_exc_basis = single_excitation_basis(N)\n",
    "    H_reduced = np.zeros((N, N), dtype=complex)\n",
    "\n",
    "    for i, bra in enumerate(single_exc_basis):\n",
    "        for j, ket in enumerate(single_exc_basis):\n",
    "            H_reduced[i, j] = H.matrix_element(bra.dag(), ket)\n",
    "\n",
    "    return Qobj(H_reduced)\n",
    "    \n",
    "    \n",
    "    \n",
    "# example form of the Hamiltonean\n",
    "H_red_ex = H_eff_red(N)\n",
    "H_red_ex"
   ],
   "id": "73ab95c533458b14",
   "outputs": [
    {
     "data": {
      "text/plain": [
       "Quantum object: dims=[[5], [5]], shape=(5, 5), type='oper', dtype=Dense, isherm=False\n",
       "Qobj data =\n",
       "[[ 0.        -0.5j        -0.09360992-0.00725101j  0.01871146+0.00354407j\n",
       "   0.0117887 -0.00816021j -0.06119489+0.00949886j]\n",
       " [-0.09360992-0.00725101j  0.        -0.5j        -0.00874628+0.03660072j\n",
       "   0.02991272+0.02248198j  0.04803675+0.05312417j]\n",
       " [ 0.01871146+0.00354407j -0.00874628+0.03660072j  0.        -0.5j\n",
       "  -0.1136435 -0.017603j    0.04111399+0.04141989j]\n",
       " [ 0.0117887 -0.00816021j  0.02991272+0.02248198j -0.1136435 -0.017603j\n",
       "   0.        -0.5j        -0.02877987+0.02624873j]\n",
       " [-0.06119489+0.00949886j  0.04803675+0.05312417j  0.04111399+0.04141989j\n",
       "  -0.02877987+0.02624873j  0.        -0.5j       ]]"
      ],
      "text/latex": "Quantum object: dims=[[5], [5]], shape=(5, 5), type='oper', dtype=Dense, isherm=False$$\\left(\\begin{array}{cc}-0.500j & (-0.094-0.007j) & (0.019+0.004j) & (0.012-0.008j) & (-0.061+0.009j)\\\\(-0.094-0.007j) & -0.500j & (-0.009+0.037j) & (0.030+0.022j) & (0.048+0.053j)\\\\(0.019+0.004j) & (-0.009+0.037j) & -0.500j & (-0.114-0.018j) & (0.041+0.041j)\\\\(0.012-0.008j) & (0.030+0.022j) & (-0.114-0.018j) & -0.500j & (-0.029+0.026j)\\\\(-0.061+0.009j) & (0.048+0.053j) & (0.041+0.041j) & (-0.029+0.026j) & -0.500j\\end{array}\\right)$$"
     },
     "execution_count": 11,
     "metadata": {},
     "output_type": "execute_result"
    }
   ],
   "execution_count": 11
  },
  {
   "metadata": {},
   "cell_type": "code",
   "source": "",
   "id": "b1a70f412e18461d",
   "outputs": [],
   "execution_count": null
  },
  {
   "metadata": {},
   "cell_type": "code",
   "outputs": [],
   "execution_count": null,
   "source": "",
   "id": "a7d5958bc01bfffc"
  },
  {
   "metadata": {},
   "cell_type": "code",
   "outputs": [],
   "execution_count": null,
   "source": "",
   "id": "ca719bb9404a0665"
  },
  {
   "metadata": {
    "ExecuteTime": {
     "end_time": "2024-06-10T07:48:53.507984Z",
     "start_time": "2024-06-10T07:48:53.504097Z"
    }
   },
   "cell_type": "code",
   "source": "# old implementation",
   "id": "c8d510359bbca201",
   "outputs": [],
   "execution_count": 15
  },
  {
   "metadata": {
    "ExecuteTime": {
     "end_time": "2024-06-10T07:49:05.775093Z",
     "start_time": "2024-06-10T07:49:05.753661Z"
    }
   },
   "cell_type": "code",
   "source": [
    "\n",
    "def atom_positions(N: int, distance: float = 1):\n",
    "    \"\"\"Returns the positions of the N atoms in a 2D shape.\"\"\"\n",
    "    # Start with an initial guess for x\n",
    "    x = distance / (2 * np.sin(np.pi / N))\n",
    "\n",
    "    # Define a function to calculate the distance between adjacent atoms\n",
    "    def calculate_distances(x):\n",
    "        angles = np.linspace(0, 2 * np.pi, N, endpoint=False)\n",
    "        adjusted_angles = angles + np.pi / N\n",
    "        x_coords = np.cos(adjusted_angles) * x\n",
    "        y_coords = np.sin(adjusted_angles) * x\n",
    "        pos = np.column_stack((x_coords, y_coords))\n",
    "        distances = np.linalg.norm(np.diff(np.vstack((pos, pos[0])), axis=0), axis=1)\n",
    "        return distances\n",
    "\n",
    "    # Use an iterative approach to adjust x until the desired distance condition is met\n",
    "    def optimize_x(x):\n",
    "        distances = calculate_distances(x)\n",
    "        return np.abs(np.mean(distances) - distance)\n",
    "\n",
    "    # Use scipy.optimize to find the optimal value of x\n",
    "    from scipy.optimize import minimize\n",
    "    result = minimize(optimize_x, x, method='Nelder-Mead')\n",
    "\n",
    "    if result.success:\n",
    "        x = result.x[0]\n",
    "    else:\n",
    "        raise ValueError(\"Optimization failed.\")\n",
    "\n",
    "    # Calculate the final positions using the optimized x\n",
    "    angles = np.linspace(0, 2 * np.pi, N, endpoint=False)\n",
    "    adjusted_angles = angles + np.pi / N\n",
    "    x_coords = np.cos(adjusted_angles) * x\n",
    "    y_coords = np.sin(adjusted_angles) * x\n",
    "    pos = np.column_stack((x_coords, y_coords))\n",
    "\n",
    "    return pos\n",
    "\n",
    "positions = atom_positions(N)\n",
    "\n",
    "print(positions)\n"
   ],
   "id": "278041ddf9c43da3",
   "outputs": [
    {
     "name": "stdout",
     "output_type": "stream",
     "text": [
      "[[ 6.88190960e-01  5.00000000e-01]\n",
      " [-2.62865556e-01  8.09016994e-01]\n",
      " [-8.50650808e-01  1.04174679e-16]\n",
      " [-2.62865556e-01 -8.09016994e-01]\n",
      " [ 6.88190960e-01 -5.00000000e-01]]\n"
     ]
    }
   ],
   "execution_count": 18
  },
  {
   "metadata": {},
   "cell_type": "code",
   "outputs": [],
   "execution_count": null,
   "source": "",
   "id": "caaa67bcdae1e357"
  }
 ],
 "metadata": {
  "kernelspec": {
   "display_name": "Python 3 (ipykernel)",
   "language": "python",
   "name": "python3"
  },
  "language_info": {
   "codemirror_mode": {
    "name": "ipython",
    "version": 3
   },
   "file_extension": ".py",
   "mimetype": "text/x-python",
   "name": "python",
   "nbconvert_exporter": "python",
   "pygments_lexer": "ipython3",
   "version": "3.8.8"
  }
 },
 "nbformat": 4,
 "nbformat_minor": 5
}
