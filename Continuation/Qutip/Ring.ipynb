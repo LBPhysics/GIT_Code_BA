{
 "cells": [
  {
   "metadata": {
    "ExecuteTime": {
     "end_time": "2024-08-02T12:25:06.344718Z",
     "start_time": "2024-08-02T12:25:04.039724Z"
    }
   },
   "cell_type": "code",
   "source": [
    "from tqdm import tqdm\n",
    "import numpy as np\n",
    "import matplotlib.pyplot as plt\n",
    "from qutip import *\n",
    "from matplotlib.animation import FuncAnimation\n",
    "import os"
   ],
   "id": "7a8ccd8b-9d55-4c86-86c1-98886873e15c",
   "execution_count": 1,
   "outputs": []
  },
  {
   "metadata": {
    "ExecuteTime": {
     "end_time": "2024-08-02T12:25:24.871800Z",
     "start_time": "2024-08-02T12:25:24.862619Z"
    }
   },
   "cell_type": "code",
   "source": [
    "save_path = r'C:\\Users\\leopo\\OneDrive - UT Cloud\\Uni\\Semester_8\\BA_mit_Git\\BA_Plots\\Qutip'\n",
    "os.makedirs(os.path.dirname(save_path), exist_ok=True)"
   ],
   "id": "4f7e2ea8cb7a5bd7",
   "execution_count": 5,
   "outputs": []
  },
  {
   "metadata": {
    "ExecuteTime": {
     "end_time": "2024-08-02T12:25:25.715259Z",
     "start_time": "2024-08-02T12:25:25.708013Z"
    }
   },
   "cell_type": "code",
   "source": [
    "########################################                 Define constants                   #############################################\n",
    "N = 30\n",
    "fixed_lam   = 1\n",
    "fixed_gamma = 1\n",
    "fixed_dist  = 0.3 * fixed_lam\n",
    "\n",
    "t_max    = 40\n",
    "t_size   = 100\n",
    "times  = np.linspace(0, t_max, t_size) * fixed_gamma"
   ],
   "id": "a28616f1726e4513",
   "execution_count": 6,
   "outputs": []
  },
  {
   "metadata": {
    "ExecuteTime": {
     "end_time": "2024-08-02T12:26:45.395913Z",
     "start_time": "2024-08-02T12:26:45.386268Z"
    }
   },
   "cell_type": "code",
   "source": [
    "########################################               define the geometry                 #############################################\n",
    "def dipole_vector(phi = 0):\n",
    "    \"\"\"Returns the dipole vector given its orientation by angle phi.\"\"\"\n",
    "    dipole = np.array([np.cos(phi), np.sin(phi), 0])\n",
    "    return dipole\n",
    "\n",
    "def z_rotation(angle):\n",
    "    return np.array([\n",
    "        [np.cos(angle), -np.sin(angle), 0],\n",
    "        [np.sin(angle), np.cos(angle), 0],\n",
    "        [0, 0, 1]])\n",
    "\n",
    "def ring_positions(distance = fixed_dist, N = N):\n",
    "    Pos = np.zeros((N, 3))\n",
    "    dphi = 2 * np.pi / N\n",
    "    radius = distance / 2 / np.sin(np.pi / N)\n",
    "    helper = np.array([radius, 0, 0])\n",
    "    for i in range(N):\n",
    "        rotation_matrix = np.linalg.matrix_power(z_rotation(dphi), i)\n",
    "        Pos[i] = np.matmul(rotation_matrix, helper)\n",
    "    return Pos"
   ],
   "id": "39c575483e1943b9",
   "execution_count": 16,
   "outputs": []
  },
  {
   "metadata": {
    "ExecuteTime": {
     "end_time": "2024-08-02T12:25:26.724870Z",
     "start_time": "2024-08-02T12:25:26.708011Z"
    }
   },
   "cell_type": "code",
   "source": [
    "########################################             create the Hamiltonean                 #################################################\n",
    "def Green_tensor(r_a, r_b, k_a):\n",
    "    r_ab = r_b - r_a\n",
    "    abs_r_ab = np.linalg.norm(r_ab)\n",
    "    kappa = k_a * abs_r_ab\n",
    "    return (np.exp(1j * kappa) / (4 * np.pi * kappa ** 2 * abs_r_ab)\n",
    "                    * ((kappa ** 2 + 1j * kappa - 1) * np.eye(3)\n",
    "                       + (- kappa ** 2 - 3 * 1j * kappa + 3)\n",
    "                       * np.outer(r_ab, r_ab) / (abs_r_ab ** 2)))\n",
    "\n",
    "def Gamma_matrix(distance, dipoles, lam, gamma):\n",
    "    positions = ring_positions(distance)\n",
    "    G_matrix = np.zeros((N, N), dtype=complex)\n",
    "    for a in range(N):\n",
    "        for b in range(N):\n",
    "            G_matrix[a, b] = gamma\n",
    "            r_a, r_b = positions[a], positions[b]\n",
    "            if np.linalg.norm(r_b - r_a) > 1e-5:\n",
    "                d_a, d_b = dipoles[a], dipoles[b]\n",
    "                k_a = 2 * np.pi / lam\n",
    "                result = (6 * np.pi * gamma / k_a * np.matmul(np.conj(d_a), np.matmul(Green_tensor(r_a, r_b, k_a), d_b.T)))\n",
    "                G_matrix[a, b] = np.imag(result)\n",
    "    return G_matrix\n",
    "\n",
    "def V_matrix(distance, dipoles, lam, gamma):\n",
    "    positions = ring_positions(distance, N)\n",
    "    V_matrix = np.zeros((N, N), dtype=complex)\n",
    "    for a in range(N):\n",
    "        for b in range(N):\n",
    "            r_a, r_b = positions[a], positions[b]\n",
    "            V_matrix[a, b] = 0\n",
    "            if np.linalg.norm(r_b - r_a) > 1e-5:\n",
    "                d_a, d_b = dipoles[a], dipoles[b]\n",
    "                k_a = 2 * np.pi / lam\n",
    "                result = (3 * np.pi * gamma / k_a * np.matmul(np.conj(d_a), np.matmul(Green_tensor(r_a, r_b, k_a), d_b.T)))\n",
    "                V_matrix[a, b] = np.real(result)\n",
    "    return V_matrix\n",
    "    \n",
    "def H_eff(distance = fixed_dist, dipoles = [dipole_vector() for _ in range(N)], lam=fixed_lam, gamma=fixed_gamma):\n",
    "    G = Gamma_matrix(distance, dipoles, lam, gamma)\n",
    "    V = V_matrix(distance, dipoles, lam, gamma)\n",
    "    return Qobj(V) - 1j / 2 * Qobj(G)"
   ],
   "id": "3394d648341d22c9",
   "execution_count": 8,
   "outputs": []
  },
  {
   "metadata": {
    "ExecuteTime": {
     "end_time": "2024-08-02T12:26:52.970477Z",
     "start_time": "2024-08-02T12:26:52.788879Z"
    }
   },
   "cell_type": "code",
   "source": [
    "# Define the position indices with periodic boundary conditions\n",
    "center_index = N\n",
    "k_s = np.pi / fixed_dist\n",
    "sigma = 0.1 * k_s\n",
    "x_j = (np.arange(N) - center_index) * fixed_dist\n",
    "x_j = np.mod(x_j + N//2 * fixed_dist, N * fixed_dist) - N//2 * fixed_dist\n",
    "# Calculate the Gaussian wave packet in real space with periodic boundary conditions\n",
    "coefficients = np.sqrt(sigma / np.sqrt(2 * np.pi)) * np.exp(-1j * k_s * x_j) * np.exp(-sigma**2 * x_j**2)\n",
    "wave_packet = sum(coeff * basis(N, (j+center_index)%N) for j, coeff in enumerate(coefficients))\n",
    "psi0 = wave_packet.unit()\n",
    "\n",
    "# Plot the real and imaginary parts of the wave packet coefficients\n",
    "plt.figure(figsize=(10, 6))\n",
    "plt.plot(x_j, coefficients.real, 'bo-', label='Real Part')\n",
    "plt.plot(x_j, coefficients.imag, 'ro-', label='Imaginary Part')\n",
    "plt.xlabel('Position $x_j$')\n",
    "plt.ylabel('Coefficient')\n",
    "plt.title('Gaussian Wave Packet in Real Space with Periodic Boundary Conditions')\n",
    "plt.legend()\n",
    "plt.grid(True)\n",
    "plt.show()"
   ],
   "id": "1c0baff94b317912",
   "execution_count": 17,
   "outputs": []
  },
  {
   "metadata": {
    "ExecuteTime": {
     "end_time": "2024-08-02T12:26:53.679695Z",
     "start_time": "2024-08-02T12:26:53.199784Z"
    }
   },
   "cell_type": "code",
   "source": [
    "from scipy.optimize import minimize\n",
    "def survival_probabilities(distance, times, Psi_0=psi0): #\n",
    "    positions = ring_positions(distance)\n",
    "    dipoles = np.zeros_like(positions)\n",
    "    for i in range(N):\n",
    "        dipoles[i] = [0,0,1]#dipole_vector(np.arctan2(positions[i,1], positions[i,0])+np.pi/2) \n",
    "    H = H_eff(distance, dipoles)\n",
    "    coeffs_sq_mods = np.zeros((len(times), N))\n",
    "    P_surs = np.zeros(len(times))\n",
    "    \n",
    "    for t_idx, t in enumerate(times):\n",
    "        U = (-1j * H * t).expm()\n",
    "        Psi_t = (U * Psi_0).full().flatten()\n",
    "        Probs = np.abs(Psi_t)**2\n",
    "        coeffs_sq_mods[t_idx, :] = Probs\n",
    "        P_surs[t_idx] = Probs.sum()\n",
    "    return coeffs_sq_mods, P_surs\n",
    "\n",
    "# Define an optimization function that returns the negative of survival probability\n",
    "def optimization_target(params):\n",
    "    _, res = survival_probabilities(params[0], [times[-1]])\n",
    "    return -res[0]\n",
    "\n",
    "# Initial guess for the distance\n",
    "initial_distance = 0.234 * fixed_lam\n",
    "\n",
    "# Perform optimization\n",
    "result = minimize(optimization_target, [initial_distance], method='SLSQP', options={'maxiter': 1000})\n",
    "\n",
    "optimized_distance = result.x[0]\n",
    "\n",
    "print(\"Optimized distance:\")\n",
    "print(optimized_distance)"
   ],
   "id": "5ff0259302b94f0b",
   "execution_count": 18,
   "outputs": []
  },
  {
   "metadata": {
    "ExecuteTime": {
     "end_time": "2024-08-02T12:26:13.928794Z",
     "start_time": "2024-08-02T12:26:13.801621Z"
    }
   },
   "cell_type": "code",
   "source": "y1, y2 = survival_probabilities(optimized_distance, times, Psi_0=psi0)",
   "id": "aa565db39cea8a85",
   "execution_count": 14,
   "outputs": []
  },
  {
   "metadata": {
    "ExecuteTime": {
     "end_time": "2024-08-02T12:26:14.781498Z",
     "start_time": "2024-08-02T12:26:13.996370Z"
    }
   },
   "cell_type": "code",
   "source": [
    "# Plot atoms with their dipole moments\n",
    "positions = ring_positions(optimized_distance, N)\n",
    "# TODO implement this everywhere\n",
    "fig, (ax1, ax2) = plt.subplots(1, 2, figsize=(10, 3))\n",
    "\n",
    "# Plot the evolution of atom state probabilities\n",
    "im = ax1.imshow(y1.T, aspect='auto', origin='lower', cmap='viridis', extent=[0, t_max, 0, N-1])\n",
    "ax1.set_xlabel('Time')\n",
    "ax1.set_ylabel('Atom index')\n",
    "ax1.set_title('Time evolution of atom state probabilities')\n",
    "fig.colorbar(im, ax=ax1, label='Probability')\n",
    "\n",
    "# Plot atoms with their dipole moments\n",
    "ax2.scatter(positions[:, 0], positions[:, 1], color='blue', s=50, label='Atoms')\n",
    "for i in range(N):\n",
    "    ax2.arrow(positions[i, 0], positions[i, 1], dipoles[i][0] * 0.2, dipoles[i][1] * 0.2, head_width=0.5 * 0.01, head_length=0.5 * 0.01, fc='red', ec='red')\n",
    "ax2.set_title('Atom Positions and Dipole Moments')\n",
    "ax2.set_xlabel('X Position')\n",
    "ax2.set_ylabel('Y Position')\n",
    "ax2.grid(True)\n",
    "ax2.legend()\n",
    "ax2.axis('equal')\n",
    "\n",
    "plt.tight_layout()\n",
    "plt.show()\n",
    "\n",
    "# Plot the norms against time\n",
    "plt.figure(figsize=(12, 2))\n",
    "plt.plot(times, y2, label='Survival Probability')\n",
    "plt.plot(times, np.exp(-times), 'r--', linewidth=2.5, label=r'exp(-$\\gamma t$)')\n",
    "plt.xlabel('Time') \n",
    "plt.ylabel('Norm (Survival Probability)')\n",
    "plt.title('Survival Probability vs. Time for Dipole Configuration with $\\phi = \\pi/2$')\n",
    "plt.legend()\n",
    "plt.grid(True)\n",
    "plt.show()"
   ],
   "id": "4573baa46a8ab35d",
   "execution_count": 15,
   "outputs": []
  }
 ],
 "metadata": {
  "kernelspec": {
   "display_name": "Python 3 (ipykernel)",
   "language": "python",
   "name": "python3"
  },
  "language_info": {
   "codemirror_mode": {
    "name": "ipython",
    "version": 3
   },
   "file_extension": ".py",
   "mimetype": "text/x-python",
   "name": "python",
   "nbconvert_exporter": "python",
   "pygments_lexer": "ipython3",
   "version": "3.8.8"
  }
 },
 "nbformat": 4,
 "nbformat_minor": 5
}
