{
 "cells": [
  {
   "metadata": {
    "ExecuteTime": {
     "end_time": "2024-06-05T15:07:24.203857Z",
     "start_time": "2024-06-05T15:07:21.646893Z"
    }
   },
   "cell_type": "code",
   "source": [
    "from tqdm import tqdm\n",
    "import numpy as np\n",
    "import matplotlib.pyplot as plt\n",
    "from qutip import *\n",
    "from matplotlib.animation import FuncAnimation"
   ],
   "id": "7a8ccd8b-9d55-4c86-86c1-98886873e15c",
   "execution_count": 1,
   "outputs": []
  },
  {
   "metadata": {
    "ExecuteTime": {
     "end_time": "2024-06-05T15:07:24.212576Z",
     "start_time": "2024-06-05T15:07:24.205918Z"
    }
   },
   "cell_type": "code",
   "source": [
    "# Define constants\n",
    "N      = 3\n",
    "phi    =  np.pi / 4  # angle of the dipole vector\n",
    "\n",
    "x_0    = 0.02\n",
    "x_max  = 1.5\n",
    "x_size = 200\n",
    "t_max  = 40\n",
    "t_size = 200\n",
    "\n",
    "########################################################################################################################    \n",
    "gamma = 1\n",
    "t_vals = np.linspace(0, t_max, t_size) * gamma\n",
    "x_vals = np.linspace(x_0, x_max, x_size) # Create the distances x = r/lambda0 from x_0 to x_max "
   ],
   "id": "a82b43b364c730b7",
   "execution_count": 2,
   "outputs": []
  },
  {
   "metadata": {
    "ExecuteTime": {
     "end_time": "2024-06-05T15:07:24.223585Z",
     "start_time": "2024-06-05T15:07:24.212576Z"
    }
   },
   "cell_type": "code",
   "source": [
    "def create_symmetric_distances(x_0, x_max, x_size):\n",
    "    \"\"\"Creates a numpy array of symmetric distance-triples.\"\"\"\n",
    "    distances = np.linspace(x_0, x_max, x_size)\n",
    "    symmetric_distances = np.array([[d, d, d] for d in distances])\n",
    "    return symmetric_distances\n",
    "\n",
    "def create_non_symmetric_distances(x_0, x_max, x_size, r_23=0.2, r_31=0.2):\n",
    "    \"\"\"Creates a numpy array of non-symmetric distance-triples.\"\"\"\n",
    "    varied_distances = np.linspace(x_0/2, x_max, x_size)\n",
    "    non_symmetric_distances = []\n",
    "\n",
    "    for r_12 in varied_distances:\n",
    "        try:\n",
    "            # Check if the distances form a valid triangle\n",
    "            x = (r_31**2 + r_12**2 - r_23**2) / (2 * r_31)\n",
    "            y_square = r_12**2 - x**2\n",
    "            if y_square >= 0:\n",
    "                non_symmetric_distances.append([r_12, r_31, r_23,])\n",
    "        except ValueError:\n",
    "            # If the distances do not form a valid triangle, skip them\n",
    "            continue\n",
    "\n",
    "    return np.array(non_symmetric_distances)"
   ],
   "id": "ea85bb781bd89521",
   "execution_count": 3,
   "outputs": []
  },
  {
   "metadata": {
    "ExecuteTime": {
     "end_time": "2024-06-05T15:07:24.497927Z",
     "start_time": "2024-06-05T15:07:24.223585Z"
    }
   },
   "cell_type": "code",
   "source": [
    "########################################               define the geometry                 #############################################\n",
    "def dipole_vector(phi):\n",
    "    \"\"\"Returns the dipole vector given its magnitude and direction angle phi.\"\"\"\n",
    "    phi = np.array([np.cos(phi), np.sin(phi)])\n",
    "    return (phi / np.linalg.norm(phi))\n",
    "d_hat = dipole_vector(phi)\n",
    "\n",
    "# Solve these equations to find x and y\n",
    "def solve_for_pos3(r_12, r_23, r_31):\n",
    "    # Equation 1: x^2 + y^2 = r_31^2\n",
    "    # Equation 2: (x - r_12)^2 + y^2 = r_23^2\n",
    "\n",
    "    # Substituting y^2 from Equation 1 into Equation 2\n",
    "    # (x - r_12)^2 + (r_31^2 - x^2) = r_23^2\n",
    "    # x^2 - 2*r_12*x + r_12^2 + r_31^2 - x^2 = r_23^2\n",
    "    # -2*r_12*x + r_12^2 + r_31^2 = r_23^2\n",
    "    # -2*r_12*x = r_23^2 - r_12^2 - r_31^2\n",
    "    # x = (r_12^2 + r_31^2 - r_23^2) / (2 * r_12)\n",
    "\n",
    "    x = (r_12**2 + r_31**2 - r_23**2) / (2 * r_12)\n",
    "    y = np.sqrt(r_31**2 - x**2)\n",
    "\n",
    "    return np.array([x, y])\n",
    "\n",
    "def atom_positions(distances: list):\n",
    "    \"\"\"Returns the positions of the three atoms in a 2D arbitrary triangle.\"\"\"\n",
    "    r_12, r_23, r_31 = distances\n",
    "    pos1 = np.array([0, 0]) # Place the first atom at the origin\n",
    "    pos2 = np.array([r_12, 0]) # Place the second atom along the x-axis at (r_12, 0)\n",
    "    pos3 = solve_for_pos3(r_12, r_23, r_31)\n",
    "\n",
    "    return np.array([pos1, pos2, pos3])  # Convert list of arrays to 2D NumPy array\n",
    "\n",
    "positions = atom_positions([1, 1, 1])\n",
    "print(positions)\n",
    "# Find the highest x_value\n",
    "max_x = np.max(positions[:, 0])\n",
    "scale = 0.2 * max_x\n",
    "\n",
    "# Plot the atom positions\n",
    "plt.figure(figsize=(8, 6))\n",
    "plt.plot(positions[:, 0], positions[:, 1], 'o', markersize=10, label='atoms')\n",
    "# Plot dipole vectors\n",
    "for i, position in enumerate(positions):\n",
    "    label = 'dipole vec' if i == 0 else ''\n",
    "    plt.arrow(position[0], position[1], d_hat[0] * scale, d_hat[1] * scale, \n",
    "              head_width=0.2*scale, head_length=0.2*scale, fc='r', ec='r', label=label)\n",
    "\n",
    "plt.xlabel('x')\n",
    "plt.ylabel('y')\n",
    "plt.grid(True)\n",
    "plt.legend()\n",
    "plt.axis('equal')\n",
    "plt.show()"
   ],
   "id": "39c575483e1943b9",
   "execution_count": 4,
   "outputs": []
  },
  {
   "metadata": {
    "ExecuteTime": {
     "end_time": "2024-05-29T08:41:17.596075Z",
     "start_time": "2024-05-29T08:41:17.559309Z"
    }
   },
   "cell_type": "code",
   "source": [
    "########################################             create the Hamiltonean                 #################################################\n",
    "def ladder_operator(i, N, operator_type):\n",
    "    if i <= 0 or i > N:\n",
    "        raise ValueError(\"Index i out of range. Use 1 <= i <= N\")\n",
    "    if operator_type not in ['lowering', 'raising']:\n",
    "        raise ValueError(\"Invalid operator type. Use 'lowering' or 'raising'.\")\n",
    "    if operator_type == 'lowering':\n",
    "        op_atom = destroy(2)  # Outer product |g⟩⟨e| = ((0,1), (0,0))\n",
    "    else:\n",
    "        op_atom = create(2)  # Outer product |e⟩⟨g| = ((0,0), (1,0))\n",
    "    identity_list = [qeye(2) for _ in range(N)]\n",
    "    identity_list[i - 1] = op_atom\n",
    "    op = tensor(identity_list)\n",
    "    return op\n",
    "\n",
    "def single_excitation_basis(N):\n",
    "    basis_states = []\n",
    "    for i in range(N):\n",
    "        state_list = [basis(2, 0)] * N\n",
    "        state_list[i] = basis(2, 1)\n",
    "        basis_state = tensor(state_list)\n",
    "        basis_states.append(basis_state)\n",
    "    return basis_states\n",
    "\n",
    "def generic_superposition(basis_states, coefficients=None):\n",
    "    N = len(basis_states)\n",
    "    if coefficients is None:\n",
    "        coefficients = np.random.rand(N) + 1j * np.random.rand(N)\n",
    "        coefficients /= np.linalg.norm(coefficients)\n",
    "    \n",
    "    superposition = sum(c * state for c, state in zip(coefficients, basis_states))\n",
    "    return superposition.unit()\n",
    "\n",
    "def effective_hamiltonian(d_hat: np.array,gamma: float, distances: list, N: int):\n",
    "    pos = atom_positions(distances)\n",
    "    H_V = 0\n",
    "    H_Gamma = 0\n",
    "    for i in range(N):\n",
    "        for j in range(N):\n",
    "            V_ij = 0\n",
    "            if i == j:\n",
    "                Gamma_ij = gamma\n",
    "            else:\n",
    "                r_ij = pos[j] - pos[i]\n",
    "                x = np.linalg.norm(r_ij)\n",
    "                r_hat_ij = r_ij / x\n",
    "                k = 2 * np.pi * x\n",
    "                dot_ij = np.dot(d_hat, r_hat_ij)\n",
    "\n",
    "                Gamma_ij = 3/2 * gamma * ((1 - (dot_ij)**2) * np.sin(k) / k +\n",
    "                                          (1 - 3 * (dot_ij)**2) * (np.cos(k)/k**2 -\n",
    "                                                                   np.sin(k) / k**3))\n",
    "\n",
    "                V_ij = - 3/4 * gamma * ((1 - (dot_ij)**2) * np.cos(k) / k -\n",
    "                                        (1 - 3 * (dot_ij)**2) * (np.sin(k)/k**2 +\n",
    "                                                                 np.cos(k) / k**3))\n",
    "                \n",
    "            raising_op_i  = ladder_operator(i+1, N, 'raising')\n",
    "            lowering_op_j = ladder_operator(j+1, N, 'lowering')\n",
    "                \n",
    "            H_Gamma += Gamma_ij * (raising_op_i * lowering_op_j)\n",
    "            H_V     += V_ij     * (raising_op_i * lowering_op_j)\n",
    "\n",
    "    return H_V - 1/2 * 1j * H_Gamma\n",
    "\n",
    "def reduced_H(H_list: list):\n",
    "    H_reduced_list = []\n",
    "    # Generate the single excitation basis: N elems with dimension 2**N\n",
    "    single_exc_basis = single_excitation_basis(N)\n",
    "\n",
    "    # Reduce the Hamiltonians to the single excitation subspace\n",
    "    for H in H_list:\n",
    "        H_reduced = np.zeros((N, N), dtype=complex)\n",
    "        for i, bra in enumerate(single_exc_basis):\n",
    "            for j, ket in enumerate(single_exc_basis):\n",
    "                H_reduced[i, j] = H.matrix_element(bra.dag(), ket)\n",
    "        H_reduced_list.append(Qobj(H_reduced))\n",
    "\n",
    "    return [Qobj(H) for H in H_reduced_list]"
   ],
   "id": "16b5a90d3d29a739",
   "execution_count": 30,
   "outputs": []
  },
  {
   "metadata": {
    "ExecuteTime": {
     "end_time": "2024-05-29T08:41:18.351599Z",
     "start_time": "2024-05-29T08:41:18.328354Z"
    }
   },
   "cell_type": "code",
   "source": [
    "########################################################################################################################    \n",
    "H_ex = effective_hamiltonian(d_hat, 1, [1,1,1], N)\n",
    "H_red_ex = reduced_H([H_ex])\n",
    "H_ex"
   ],
   "id": "deee28c52ea8dd70",
   "execution_count": 31,
   "outputs": []
  },
  {
   "metadata": {
    "ExecuteTime": {
     "end_time": "2024-05-29T08:41:18.995008Z",
     "start_time": "2024-05-29T08:41:18.985006Z"
    }
   },
   "cell_type": "code",
   "source": [
    "# Create the symmetric and non-symmetric distance arrays\n",
    "symmetric_distances = create_symmetric_distances(x_0, x_max, x_size)\n",
    "non_symmetric_distances = create_non_symmetric_distances(x_0, x_max, x_size)\n",
    "'''\n",
    "distances = symmetric_distances\n",
    "symm = True\n",
    "'''\n",
    "distances = non_symmetric_distances\n",
    "symm = False\n",
    "\n",
    "\n",
    "\n",
    "title = 'Symmetric'\n",
    "if not symm:\n",
    "    title =  'a-Symmetric'\n",
    "\n",
    "print(distances)\n"
   ],
   "id": "e8f9a0cd-b0c3-416c-aceb-0a2176cbcc4d",
   "execution_count": 32,
   "outputs": []
  },
  {
   "metadata": {
    "ExecuteTime": {
     "end_time": "2024-05-29T08:41:19.819399Z",
     "start_time": "2024-05-29T08:41:19.807398Z"
    }
   },
   "cell_type": "code",
   "source": [
    "def calculate_norms(x_vals, t_vals, H_list, Psi_0):\n",
    "    all_norms = []\n",
    "    for i, x in enumerate(x_vals):\n",
    "        H = H_list[i]\n",
    "        norms = []\n",
    "\n",
    "        progress_bar = tqdm(t_vals, desc=f\"Calculating norms for x={x[0]}\", unit=\"timestep\", leave=False)\n",
    "        for t in progress_bar:\n",
    "            U = (-1j * H * t).expm()\n",
    "            Psi_t = U * Psi_0\n",
    "            norm_sq = Psi_t.norm()**2\n",
    "            norms.append(norm_sq)\n",
    "\n",
    "        all_norms.append(norms)\n",
    "    return all_norms"
   ],
   "id": "f66fad593933f8f5",
   "execution_count": 33,
   "outputs": []
  },
  {
   "metadata": {
    "ExecuteTime": {
     "end_time": "2024-05-29T08:41:21.180059Z",
     "start_time": "2024-05-29T08:41:20.923813Z"
    }
   },
   "cell_type": "code",
   "source": "H_list = [effective_hamiltonian(d_hat, gamma, dist, N) for dist in distances]",
   "id": "eb726ad6bd87950e",
   "execution_count": 34,
   "outputs": []
  },
  {
   "metadata": {
    "ExecuteTime": {
     "end_time": "2024-05-29T08:41:24.752934Z",
     "start_time": "2024-05-29T08:41:22.464069Z"
    }
   },
   "cell_type": "code",
   "source": [
    "#############################################---------        N x N case           ---------###########################################################\n",
    "H_red_list = reduced_H(H_list)\n",
    "print('NxN H_eff:', H_red_list[0])\n",
    "\n",
    "#Psi_01 = generic_superposition([basis(N, i) for i in range(N-1)])\n",
    "Psi_01 = (basis(N,0)-basis(N,1)).unit()\n",
    "print('Psi(0):', Psi_01)\n",
    "norms = calculate_norms(distances, t_vals, H_red_list, Psi_01)"
   ],
   "id": "1ea1552d-3800-4092-8eb4-ab98faf390e2",
   "execution_count": 35,
   "outputs": []
  },
  {
   "metadata": {
    "ExecuteTime": {
     "end_time": "2024-05-29T08:41:27.602920Z",
     "start_time": "2024-05-29T08:41:27.246150Z"
    }
   },
   "cell_type": "code",
   "source": [
    "plt.figure(figsize=(15, 5))\n",
    "for i, x in enumerate(distances):\n",
    "    plt.plot(t_vals, norms[i], label=f'x={x[0]:.2f}')\n",
    "\n",
    "plt.plot(t_vals, np.exp(-t_vals), 'r--', linewidth=2.5, label=r'exp(-$\\gamma t$)')\n",
    "\n",
    "# Final plot adjustments\n",
    "plt.xlabel(r'$\\gamma t$')\n",
    "plt.ylabel(r'$P_{sur(t)} = < \\Psi_t | \\Psi_t >$')\n",
    "plt.title('H is N x N; for ' + title +' distance values')\n",
    "#plt.legend()\n",
    "plt.show()"
   ],
   "id": "9bb06d80ccd527fe",
   "execution_count": 36,
   "outputs": []
  },
  {
   "metadata": {
    "ExecuteTime": {
     "end_time": "2024-05-29T08:45:01.880775Z",
     "start_time": "2024-05-29T08:44:57.863823Z"
    }
   },
   "cell_type": "code",
   "source": [
    "fig, ax = plt.subplots(figsize=(15, 5))\n",
    "line, = ax.plot([], [], lw=2)\n",
    "exp_line, = ax.plot(t_vals, np.exp(-t_vals), 'r--', linewidth=2.5, label=r'exp(-$\\gamma t$)')\n",
    "ax.set_xlabel(r'$\\gamma$t')\n",
    "ax.set_ylabel(r'$P_{sur(t)} = < \\Psi_t | \\Psi_t >$')\n",
    "ax.set_title('H is N x N; for ' + title +' distance values')\n",
    "ax.legend()\n",
    "\n",
    "def init():\n",
    "    line.set_data([], [])\n",
    "    return line, exp_line\n",
    "\n",
    "def update(frame):\n",
    "    x = distances[frame]\n",
    "    norm = norms[frame]\n",
    "    line.set_data(t_vals, norm)\n",
    "    line.set_label(f'x={x[0]:.2f}')\n",
    "    ax.legend()\n",
    "    return line, exp_line\n",
    "\n",
    "ani = FuncAnimation(fig, update, frames=len(distances), init_func=init, blit=True, repeat=False)\n",
    "ani.save('3 + ' + title +' distances + phi = ' + f' {phi:.2f}.mp4', writer='ffmpeg')\n",
    "plt.show()"
   ],
   "id": "926d30b86adf9fb3",
   "execution_count": 37,
   "outputs": []
  },
  {
   "metadata": {},
   "cell_type": "markdown",
   "source": "    ## It does matter whether or not I reduce the Hamiltonean!!",
   "id": "e0c9eae97fe8cefa"
  },
  {
   "metadata": {
    "ExecuteTime": {
     "end_time": "2024-05-28T14:26:11.899131Z",
     "start_time": "2024-05-28T14:26:11.356089Z"
    }
   },
   "cell_type": "code",
   "source": [
    "# Extract the phase of the off-diagonal elements. this code only makes sense for symmetric distances\n",
    "# H_12 = V_12 - i / 2 G_12 == R * exp(i phi(x))\n",
    "# also for H_13, H_230\n",
    "# plot phi(distances)\n",
    "H_list = [effective_hamiltonian(d_hat, gamma, dist, N) for dist in distances]\n",
    "H_red_list = reduced_H(H_list)\n",
    "\n",
    "# Calculate the phases for the off-diagonal elements\n",
    "phases_12 = [np.angle(H[0, 1]) / np.pi for H in H_red_list]\n",
    "phases_13 = [np.angle(H[0, 2]) / np.pi for H in H_red_list]\n",
    "phases_23 = [np.angle(H[1, 2]) / np.pi for H in H_red_list]\n",
    "\n",
    "# Plotting the phases   \n",
    "plt.figure(figsize=(15, 5))\n",
    "plt.plot(distances[:,0], phases_12, label=r'$H_{12}$')\n",
    "plt.plot(distances[:,0], phases_23, label=r'$H_{23}$')\n",
    "#plt.plot(distances[:,0], phases_13, label=r'$H_{31}$') #its the same as 12\n",
    "\n",
    "plt.xlabel(r'Distance x / $\\lambda_0$')\n",
    "plt.ylabel(r'Phase / $\\pi$')\n",
    "plt.title('Phase of off-diagonal entries of H over distances')\n",
    "plt.legend()\n",
    "#plt.savefig('phase_plot.png', dpi=300)\n",
    "plt.show()"
   ],
   "id": "f4fce5665375cf10",
   "execution_count": 13,
   "outputs": []
  },
  {
   "metadata": {},
   "cell_type": "code",
   "execution_count": 1,
   "source": [
    "#############################################---------      2^N x 2^N case         ----------##################################################\n",
    "#### x = lambda / 2 case:\n",
    "x_special = 0.5\n",
    "distances_ = np.insert(distances[[0, -1]], -1, [x_special, x_special, x_special], axis=0)\n",
    "print(f'2^{N} x 2^{N} H_eff: ', H_list[0])\n",
    "\n",
    "single_exc_basis = single_excitation_basis(N)\n",
    "#Psi_0 = generic_superposition(single_exc_basis)\n",
    "Psi_0 = (single_exc_basis[N-1] + single_exc_basis[N-2] + single_exc_basis[N-3]).unit()  # only the first atom is excited\n",
    "print('Psi(0):', Psi_0)\n",
    "\n",
    "norms = calculate_norms(distances, t_vals, H_list, Psi_0)\n",
    "\n",
    "plt.figure(figsize=(15, 5))\n",
    "for i, x in enumerate(distances):\n",
    "    plt.plot(t_vals, norms[i], label=f'x={x[0]:.2f}')\n",
    "\n",
    "plt.plot(t_vals, np.exp(-t_vals), 'r--', linewidth=2.5, label=r'exp(-$\\gamma t$)')\n",
    "\n",
    "# Final plot adjustments\n",
    "plt.xlabel(r'$\\gamma t$')\n",
    "plt.ylabel(r'$P_{sur(t)} = < \\Psi_t | \\Psi_t >$')\n",
    "plt.title('H is2^N x 2^N; for ' + title +' distance values')\n",
    "#plt.legend()\n",
    "plt.show()"
   ],
   "id": "99bd7b40-0c12-4b78-a038-2dc209623980",
   "outputs": []
  },
  {
   "metadata": {},
   "cell_type": "code",
   "execution_count": 33,
   "source": [
    "fig, ax = plt.subplots(figsize=(15, 5))\n",
    "line, = ax.plot([], [], lw=2)\n",
    "exp_line, = ax.plot(t_vals, np.exp(-t_vals), 'r--', linewidth=2.5, label=r'exp(-$\\gamma t$)')\n",
    "ax.set_xlabel(r'$\\gamma$t')\n",
    "ax.set_ylabel(r'$P_{sur(t)} = < \\Psi_t | \\Psi_t >$')\n",
    "ax.set_title('H is 2^N x 2^N; for ' + title +' distance values')\n",
    "ax.legend()\n",
    "\n",
    "def init():\n",
    "    line.set_data([], [])\n",
    "    return line, exp_line\n",
    "\n",
    "def update(frame):\n",
    "    x = distances[frame]\n",
    "    norm = norms[frame]\n",
    "    line.set_data(t_vals, norm)\n",
    "    line.set_label(f'x={x[0]:.2f}')\n",
    "    ax.legend()\n",
    "    return line, exp_line\n",
    "\n",
    "ani = FuncAnimation(fig, update, frames=len(distances), init_func=init, blit=True, repeat=False)\n",
    "ani.save('3_sq + ' + title +' distances.mp4', writer='ffmpeg')\n",
    "plt.show()"
   ],
   "id": "be072b5c3c52747f",
   "outputs": []
  },
  {
   "metadata": {},
   "cell_type": "code",
   "execution_count": null,
   "source": "",
   "id": "294d5ec19fa8a788",
   "outputs": []
  }
 ],
 "metadata": {
  "kernelspec": {
   "display_name": "Python 3 (ipykernel)",
   "language": "python",
   "name": "python3"
  },
  "language_info": {
   "codemirror_mode": {
    "name": "ipython",
    "version": 3
   },
   "file_extension": ".py",
   "mimetype": "text/x-python",
   "name": "python",
   "nbconvert_exporter": "python",
   "pygments_lexer": "ipython3",
   "version": "3.8.8"
  }
 },
 "nbformat": 4,
 "nbformat_minor": 5
}
